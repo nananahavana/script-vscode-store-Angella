{
 "cells": [
  {
   "cell_type": "markdown",
   "id": "41e555bc",
   "metadata": {},
   "source": [
    "## Dataset"
   ]
  },
  {
   "cell_type": "code",
   "execution_count": 19,
   "id": "e36fb565",
   "metadata": {},
   "outputs": [],
   "source": [
    "import pandas as pd\n",
    "\n",
    "# Dataset nilai siswa\n",
    "df = pd.DataFrame({\n",
    "    'Nama': ['Abel', 'Angella', 'Cella'],\n",
    "    'Matematika': [80, 70, 75],\n",
    "    'Bahasa': [75, 85, 75],\n",
    "    'IPA': [90, 88, 80]\n",
    "})"
   ]
  },
  {
   "cell_type": "code",
   "execution_count": 20,
   "id": "911e18ec",
   "metadata": {},
   "outputs": [
    {
     "name": "stdout",
     "output_type": "stream",
     "text": [
      "Data asli:\n",
      "      Nama  Matematika  Bahasa  IPA\n",
      "0     Abel          80      75   90\n",
      "1  Angella          70      85   88\n",
      "2    Cella          75      75   80\n",
      "\n",
      "Hasil transformasi linier:\n",
      "      Nama  Matematika  Bahasa  IPA  Shifted Bahasa  Diff Mat  \\\n",
      "0     Abel          80      75   90             NaN       NaN   \n",
      "1  Angella          70      85   88            75.0     -10.0   \n",
      "2    Cella          75      75   80            85.0       5.0   \n",
      "\n",
      "   Rolling Mean IPA  \n",
      "0               NaN  \n",
      "1              89.0  \n",
      "2              84.0  \n"
     ]
    }
   ],
   "source": [
    "import pandas as pd\n",
    "print(\"Data asli:\")\n",
    "print(df)\n",
    "\n",
    "# 1. shift() - Menggeser data ke bawah\n",
    "df['Shifted Bahasa'] = df['Bahasa'].shift(1)\n",
    "\n",
    "# 2. diff() - Selisih antara nilai saat ini dan sebelumnya\n",
    "df['Diff Mat'] = df['Matematika'].diff()\n",
    "\n",
    "# 3. rolling().mean() - Rata-rata bergerak (moving average)\n",
    "df['Rolling Mean IPA'] = df['IPA'].rolling(window=2).mean()\n",
    "\n",
    "print(\"\\nHasil transformasi linier:\")\n",
    "print(df)\n"
   ]
  },
  {
   "cell_type": "markdown",
   "id": "ecc5cfcb",
   "metadata": {},
   "source": [
    "## Kombinasi Linear"
   ]
  },
  {
   "cell_type": "code",
   "execution_count": null,
   "id": "aed3e4c2",
   "metadata": {},
   "outputs": [
    {
     "name": "stdout",
     "output_type": "stream",
     "text": [
      "      Nama  Skor_Akhir\n",
      "0     Abel        80.5\n",
      "1  Angella        78.1\n",
      "2    Cella        76.0\n"
     ]
    }
   ],
   "source": [
    "df['Skor_Akhir'] = (\n",
    "    0.5 * df['Matematika'] +\n",
    "    0.3 * df['Bahasa'] +\n",
    "    0.2 * df['IPA']\n",
    ")\n",
    "\n",
    "print(df[['Nama','Skor_Akhir']])"
   ]
  },
  {
   "cell_type": "markdown",
   "id": "7186fe07",
   "metadata": {},
   "source": [
    "## Transformasi Skala"
   ]
  },
  {
   "cell_type": "code",
   "execution_count": null,
   "id": "6caf6e33",
   "metadata": {},
   "outputs": [
    {
     "name": "stdout",
     "output_type": "stream",
     "text": [
      "      Nama  Matematika_zscore  Bahasa_zscore  IPA_zscore\n",
      "0     Abel                1.0      -0.577350    0.755929\n",
      "1  Angella               -1.0       1.154701    0.377964\n",
      "2    Cella                0.0      -0.577350   -1.133893\n"
     ]
    }
   ],
   "source": [
    "for col in ['Matematika', 'Bahasa', 'IPA']:\n",
    "    mean = df[col].mean()\n",
    "    std = df[col].std()\n",
    "    df[f'{col}_zscore'] = (df[col] - mean) / std\n",
    "\n",
    "print(df[['Nama','Matematika_zscore','Bahasa_zscore','IPA_zscore']])"
   ]
  },
  {
   "cell_type": "markdown",
   "id": "5b03ec08",
   "metadata": {},
   "source": [
    "## Proyeksi Linear 2D"
   ]
  },
  {
   "cell_type": "code",
   "execution_count": null,
   "id": "736f9f54",
   "metadata": {},
   "outputs": [
    {
     "data": {
      "application/vnd.microsoft.datawrangler.viewer.v0+json": {
       "columns": [
        {
         "name": "index",
         "rawType": "int64",
         "type": "integer"
        },
        {
         "name": "Nama",
         "rawType": "object",
         "type": "string"
        },
        {
         "name": "proj_sum",
         "rawType": "int64",
         "type": "integer"
        },
        {
         "name": "proj_diff",
         "rawType": "int64",
         "type": "integer"
        }
       ],
       "ref": "ad4f3703-6c1f-436a-b8e9-c30b037e4a5d",
       "rows": [
        [
         "0",
         "Abel",
         "155",
         "5"
        ],
        [
         "1",
         "Angella",
         "155",
         "-15"
        ],
        [
         "2",
         "Cella",
         "150",
         "0"
        ]
       ],
       "shape": {
        "columns": 3,
        "rows": 3
       }
      },
      "text/html": [
       "<div>\n",
       "<style scoped>\n",
       "    .dataframe tbody tr th:only-of-type {\n",
       "        vertical-align: middle;\n",
       "    }\n",
       "\n",
       "    .dataframe tbody tr th {\n",
       "        vertical-align: top;\n",
       "    }\n",
       "\n",
       "    .dataframe thead th {\n",
       "        text-align: right;\n",
       "    }\n",
       "</style>\n",
       "<table border=\"1\" class=\"dataframe\">\n",
       "  <thead>\n",
       "    <tr style=\"text-align: right;\">\n",
       "      <th></th>\n",
       "      <th>Nama</th>\n",
       "      <th>proj_sum</th>\n",
       "      <th>proj_diff</th>\n",
       "    </tr>\n",
       "  </thead>\n",
       "  <tbody>\n",
       "    <tr>\n",
       "      <th>0</th>\n",
       "      <td>Abel</td>\n",
       "      <td>155</td>\n",
       "      <td>5</td>\n",
       "    </tr>\n",
       "    <tr>\n",
       "      <th>1</th>\n",
       "      <td>Angella</td>\n",
       "      <td>155</td>\n",
       "      <td>-15</td>\n",
       "    </tr>\n",
       "    <tr>\n",
       "      <th>2</th>\n",
       "      <td>Cella</td>\n",
       "      <td>150</td>\n",
       "      <td>0</td>\n",
       "    </tr>\n",
       "  </tbody>\n",
       "</table>\n",
       "</div>"
      ],
      "text/plain": [
       "      Nama  proj_sum  proj_diff\n",
       "0     Abel       155          5\n",
       "1  Angella       155        -15\n",
       "2    Cella       150          0"
      ]
     },
     "execution_count": 14,
     "metadata": {},
     "output_type": "execute_result"
    }
   ],
   "source": [
    "df['proj_sum'] = df['Matematika'] + df['Bahasa']\n",
    "df['proj_diff'] = df['Matematika'] - df['Bahasa']\n",
    "\n",
    "df[['Nama','proj_sum','proj_diff']]"
   ]
  },
  {
   "cell_type": "markdown",
   "id": "c7eed925",
   "metadata": {},
   "source": [
    "## Normalisasi Min-Max"
   ]
  },
  {
   "cell_type": "code",
   "execution_count": null,
   "id": "0a90f90d",
   "metadata": {},
   "outputs": [
    {
     "name": "stdout",
     "output_type": "stream",
     "text": [
      "      Nama  Matematika_minmax  Bahasa_minmax  IPA_minmax\n",
      "0     Abel                1.0            0.0         1.0\n",
      "1  Angella                0.0            1.0         0.8\n",
      "2    Cella                0.5            0.0         0.0\n"
     ]
    }
   ],
   "source": [
    "for col in ['Matematika', 'Bahasa', 'IPA']:\n",
    "    min_val = df[col].min()\n",
    "    max_val = df[col].max()\n",
    "    df[f'{col}_minmax'] = (df[col] - min_val) / (max_val - min_val)\n",
    "\n",
    "print(df[['Nama','Matematika_minmax','Bahasa_minmax','IPA_minmax']])"
   ]
  },
  {
   "cell_type": "markdown",
   "id": "2e5e7e11",
   "metadata": {},
   "source": [
    "## Model"
   ]
  },
  {
   "cell_type": "code",
   "execution_count": null,
   "id": "d873cd5a",
   "metadata": {},
   "outputs": [
    {
     "name": "stdout",
     "output_type": "stream",
     "text": [
      "   intercept  feature1  feature2\n",
      "0          1         1         4\n",
      "1          1         2         5\n",
      "2          1         3         6\n",
      "0   -1.5\n",
      "1   -0.5\n",
      "2    0.5\n",
      "dtype: float64\n"
     ]
    }
   ],
   "source": [
    "X = pd.DataFrame({\n",
    "    'intercept' : 1,\n",
    "    'feature1' : [1,2,3],\n",
    "    'feature2' : [4,5,6]\n",
    "})\n",
    "print(X)\n",
    "\n",
    "beta = pd.Series({\n",
    "    'intercept' : 0.5,\n",
    "    'feature1' : 2.0,\n",
    "    'feature2' : -1.0\n",
    "})\n",
    "\n",
    "y_pred = X.dot(beta)\n",
    "print(y_pred)"
   ]
  },
  {
   "cell_type": "code",
   "execution_count": null,
   "id": "05e27306",
   "metadata": {},
   "outputs": [
    {
     "name": "stdout",
     "output_type": "stream",
     "text": [
      "   x1  x2\n",
      "0   1   3\n",
      "1   2   4\n",
      "0    310\n",
      "1    420\n",
      "dtype: int64\n"
     ]
    }
   ],
   "source": [
    "# DataFrame (matriks X)\n",
    "df = pd.DataFrame({\n",
    "    'x1': [1, 2],\n",
    "    'x2': [3, 4]\n",
    "})\n",
    "print(df)\n",
    "\n",
    "# Series (vektor w)\n",
    "w = pd.Series([10, 100], index=['x1', 'x2'])\n",
    "\n",
    "# Dot product (X @ w)\n",
    "result = df.dot(w)\n",
    "print(result)"
   ]
  },
  {
   "cell_type": "code",
   "execution_count": null,
   "id": "c6d02281",
   "metadata": {},
   "outputs": [
    {
     "name": "stdout",
     "output_type": "stream",
     "text": [
      "   x1  x2\n",
      "0   1   3\n",
      "1   2   4\n",
      "   x1   x2\n",
      "0  10  300\n",
      "1  20  400\n"
     ]
    }
   ],
   "source": [
    "# DataFrame (matriks X)\n",
    "df = pd.DataFrame({\n",
    "    'x1': [1, 2],\n",
    "    'x2': [3, 4]\n",
    "})\n",
    "print(df)\n",
    "\n",
    "# Series (vektor w)\n",
    "w = pd.Series([10, 100], index=['x1', 'x2'])\n",
    "\n",
    "# Dot product (X @ w)\n",
    "result = df.mul(w,axis=1)\n",
    "print(result)"
   ]
  },
  {
   "cell_type": "code",
   "execution_count": null,
   "id": "b4a42f8d",
   "metadata": {},
   "outputs": [
    {
     "name": "stdout",
     "output_type": "stream",
     "text": [
      "DataFrame:\n",
      "   x1  x2\n",
      "0   1   3\n",
      "1   2   4\n",
      "\n",
      "Cumulative sum:\n",
      "   x1  x2\n",
      "0   1   3\n",
      "1   3   7\n"
     ]
    }
   ],
   "source": [
    "import pandas as pd\n",
    "\n",
    "# DataFrame (matriks X)\n",
    "df = pd.DataFrame({\n",
    "    'x1': [1, 2],\n",
    "    'x2': [3, 4]\n",
    "})\n",
    "print(\"DataFrame:\")\n",
    "print(df)\n",
    "\n",
    "# Series (vektor bobot w)\n",
    "w = pd.Series([10, 100], index=['x1', 'x2'])\n",
    "\n",
    "# Step 3: Cumulative sum dari hasil dot product baris\n",
    "cumulative = df.cumsum()\n",
    "print(\"\\nCumulative sum:\")\n",
    "print(cumulative)"
   ]
  },
  {
   "cell_type": "markdown",
   "id": "c029323e",
   "metadata": {},
   "source": [
    "## Sifat Transformasi Linear"
   ]
  },
  {
   "cell_type": "markdown",
   "id": "5bc39469",
   "metadata": {},
   "source": [
    "### Homogenitas"
   ]
  },
  {
   "cell_type": "code",
   "execution_count": null,
   "id": "ec896227",
   "metadata": {},
   "outputs": [
    {
     "name": "stdout",
     "output_type": "stream",
     "text": [
      "T(a·x): [10 30]\n",
      "a·T(x): [10 30]\n",
      "Sama? : True\n"
     ]
    }
   ],
   "source": [
    "import numpy as np\n",
    "\n",
    "# Matriks transformasi A\n",
    "A = np.array([[2, 0],\n",
    "              [0, 3]])\n",
    "\n",
    "# Vektor x\n",
    "x = np.array([1, 2])\n",
    "\n",
    "# Skalar a\n",
    "a = 5\n",
    "\n",
    "# T(a·x)\n",
    "T_ax = A @ (a * x)\n",
    "\n",
    "# a·T(x)\n",
    "a_Tx = a * (A @ x)\n",
    "\n",
    "print(\"T(a·x):\", T_ax)\n",
    "print(\"a·T(x):\", a_Tx)\n",
    "print(\"Sama? :\", np.allclose(T_ax, a_Tx))\n"
   ]
  },
  {
   "cell_type": "markdown",
   "id": "f3385b0c",
   "metadata": {},
   "source": [
    "### Additivitas"
   ]
  },
  {
   "cell_type": "code",
   "execution_count": null,
   "id": "8006eab0",
   "metadata": {},
   "outputs": [
    {
     "name": "stdout",
     "output_type": "stream",
     "text": [
      "T(x + y): [ 8 18]\n",
      "T(x) + T(y): [ 8 18]\n",
      "Sama?     : True\n"
     ]
    }
   ],
   "source": [
    "# Dua vektor\n",
    "x = np.array([1, 2])\n",
    "y = np.array([3, 4])\n",
    "\n",
    "# T(x + y)\n",
    "T_x_plus_y = A @ (x + y)\n",
    "\n",
    "# T(x) + T(y)\n",
    "T_x = A @ x\n",
    "T_y = A @ y\n",
    "T_x_plus_T_y = T_x + T_y\n",
    "\n",
    "print(\"T(x + y):\", T_x_plus_y)\n",
    "print(\"T(x) + T(y):\", T_x_plus_T_y)\n",
    "print(\"Sama?     :\", np.allclose(T_x_plus_y, T_x_plus_T_y))\n"
   ]
  },
  {
   "cell_type": "code",
   "execution_count": 1,
   "id": "3dfecf0f",
   "metadata": {},
   "outputs": [
    {
     "name": "stdout",
     "output_type": "stream",
     "text": [
      "Data asli:\n",
      "   nilai\n",
      "0     10\n",
      "1     20\n",
      "2     30\n",
      "3     40\n",
      "4     50\n",
      "\n",
      "Hasil transformasi linier:\n",
      "   nilai  shifted  diff  rolling_mean\n",
      "0     10      NaN   NaN           NaN\n",
      "1     20     10.0  10.0          15.0\n",
      "2     30     20.0  10.0          25.0\n",
      "3     40     30.0  10.0          35.0\n",
      "4     50     40.0  10.0          45.0\n"
     ]
    }
   ],
   "source": [
    "import pandas as pd\n",
    "\n",
    "# Contoh DataFrame sederhana\n",
    "df = pd.DataFrame({\n",
    "    'nilai': [10, 20, 30, 40, 50]\n",
    "})\n",
    "\n",
    "print(\"Data asli:\")\n",
    "print(df)\n",
    "\n",
    "# 1. shift() - Menggeser data ke bawah\n",
    "df['shifted'] = df['nilai'].shift(1)\n",
    "\n",
    "# 2. diff() - Selisih antara nilai saat ini dan sebelumnya\n",
    "df['diff'] = df['nilai'].diff()\n",
    "\n",
    "# 3. rolling().mean() - Rata-rata bergerak (moving average)\n",
    "df['rolling_mean'] = df['nilai'].rolling(window=2).mean()\n",
    "\n",
    "print(\"\\nHasil transformasi linier:\")\n",
    "print(df)\n"
   ]
  }
 ],
 "metadata": {
  "kernelspec": {
   "display_name": "Python 3",
   "language": "python",
   "name": "python3"
  },
  "language_info": {
   "codemirror_mode": {
    "name": "ipython",
    "version": 3
   },
   "file_extension": ".py",
   "mimetype": "text/x-python",
   "name": "python",
   "nbconvert_exporter": "python",
   "pygments_lexer": "ipython3",
   "version": "3.13.2"
  }
 },
 "nbformat": 4,
 "nbformat_minor": 5
}
