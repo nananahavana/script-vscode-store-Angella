{
 "cells": [
  {
   "cell_type": "markdown",
   "id": "08e4bce0",
   "metadata": {},
   "source": [
    "# Panggil Data Awal"
   ]
  },
  {
   "cell_type": "code",
   "execution_count": 319,
   "id": "67460e3a",
   "metadata": {},
   "outputs": [
    {
     "data": {
      "text/plain": [
       "35"
      ]
     },
     "execution_count": 319,
     "metadata": {},
     "output_type": "execute_result"
    }
   ],
   "source": [
    "import pandas as pd\n",
    "import re\n",
    "\n",
    "df = pd.read_csv(\"redmi6.csv\", encoding='latin1')\n",
    "df = df.drop('Useful', axis=1)\n",
    "\n",
    "df.duplicated().sum()"
   ]
  },
  {
   "cell_type": "code",
   "execution_count": 320,
   "id": "be2fe500",
   "metadata": {},
   "outputs": [],
   "source": [
    "# Hapus baris duplikat\n",
    "df = df.drop_duplicates()"
   ]
  },
  {
   "cell_type": "code",
   "execution_count": 321,
   "id": "59a97df7",
   "metadata": {},
   "outputs": [
    {
     "data": {
      "application/vnd.microsoft.datawrangler.viewer.v0+json": {
       "columns": [
        {
         "name": "index",
         "rawType": "int64",
         "type": "integer"
        },
        {
         "name": "Rating",
         "rawType": "float64",
         "type": "float"
        },
        {
         "name": "Category",
         "rawType": "object",
         "type": "string"
        },
        {
         "name": "Comments",
         "rawType": "object",
         "type": "string"
        }
       ],
       "ref": "4341c7c1-6d36-4fd5-a971-9d0deeb43514",
       "rows": [
        [
         "0",
         "4.0",
         "Display",
         "another midrange killer smartphone by xiaomi major highlights the redmi pro sports a inch fullhd display with a notch powered by the qualcomm snapdragon soc the phone is priced at rs for the gb ram variant start point battery of mah and its durability the tripple slots dual ai camera well in redmi series you will get different smartphones with different specs and from all of them redmi pro is most powerful and advanced as said by redmi india in their launch event xiaomi redmi pro design being the most premium phone of the new redmi family the redmi pro has been given somewhat better materials in the form of a metal backplate however the overall design isnt too different from what weve already seen from xiaomi at around this price point this is a fairly thick phone and its a bit hefty too but its manageable the buttons have good feedback without being noisy and on the left side you get a single tray which can hold two sim cards and a separate microsd card something worth noting is that the redmi pro does not support dual g volte which means that only one sim can connect to a g network at a time the placement of ports is good the mono speaker is on the bottom right so chances of blocking it when using the phone in landscape mode are slim the headphone socket is placed on the top and you also get an infrared ir emitter which can be used to control ir appliances through the mi remote app xiaomi redmi pro specifications and software the phone uses qualcomms snapdragon soc which is a couple of years old now but is still a capable chip for general tasks gaming performance isnt great as some popular games like pubg and asphalt default to the lowest graphics settings and even then gameplay isnt smooth our unit was running on a prerelease version of its miui software which prevented us from running most benchmarks storage options well i am impressed with the xiaomi as they provided triple slot in sim tray for nano sim one for sd card heating issues well i do not find any heating issues in this phone while playing games like pubg and asphalt camera in redmi pro the rear megapixel camera has a f aperture with pdaf autofocus was decently quick in good light theres autohdr which did a good job of balancing the exposure in our experience we observed good detail in landscape shots in daylight and colours were pleasing too the main sensor stumbled a bit with macros as it simply wasnt able to resolve finer detail the white balance was a bit of a hit or a miss in closeups and we often found ourselves having to taptofocus to get the white balance back on track saving hdr images takes a good couple of seconds in daylight i would be very happy if they have provided the flash in portrait mode still you can tap on torch icon to switch on the torch you will get the flash in portrait mode battery in redmi pro battery life is one of the strong suits of the redmi pro the mah battery easily lasted us a full day and a bit more on one charge playing heavy games didnt drain the battery too much either in a single round of pubg around minutes in which we survived till the very end we recorded a drop of around seven percent which is not bad in our internal video loop test we got a runtime of hours and minutes which is very good the redmi pro doesnt support fast charging but the bundled w adapter gave us roughly a percent charge in an hour and it took us roughly hours and minutes to charge it completely from zero well before buying this phone i have heard many issues regarding inbuilt advertisement in xiaomi devices and i checked that too in my previous xiaomi phone which i am using since years and actually i found inbuilt ads in those phones you will see ads in inbuilt developers apps like mi apps mi music mi videos security file manager themes sometimes you will see fullscreen ads which are really irritating for mi fans but there is a cooler way to stop those ads those who wanted to know contact me final verdict well for the people who want a notch display big battery and descent camera you they can buy this phone blindly suggestion for xiaomi india you should stop those inbuilt ads present in your devices because we customers dont find those ads valuable because we are not surfing any website where many ads are present so please stop it note pics included in this review are captured by redmi note"
        ],
        [
         "1",
         "3.0",
         "Others",
         "all ok but vry small size mobile"
        ],
        [
         "2",
         "3.0",
         "Others",
         "quite good"
        ],
        [
         "3",
         "5.0",
         "Display",
         "redmi has always have been the the king of budget segmentand yet another they gave us the redmi proits a beautifully designedstrong and durableand the camera is awesome just like the note prodisplay is crisp and the notch is in good shape means it does take whole screensound quality is clear and loudbut the headset experience is awesomethe battery is mah which is crazily optimizedin heavy useage it will give day and a half in normal useage it give daysand best thing is the inbuild mi sercurity which loaded with featuresyou dont need third security appsand the phone do charge little faster on its stock adapteratleast hrs and minsas its a qualcomm chipset verdict the base model is actually the value for money deal gb i have been using the redmi pro for weeks now this is totally tested"
        ],
        [
         "4",
         "2.0",
         "Others",
         "worst product from mi i am a hardcore fan of mi but this one really disappointing"
        ],
        [
         "5",
         "3.0",
         "Display",
         "over prised by at least around rs low light photos are bad only one sim support volte good things are best sound good display smooth touch excellent battery life management compact nice photos and videos under good light it never gets over heated while using or charging i dont play games i like miui i have already redmi a rsonly using for more than months working superbly i have good opinion about redmi mobiles"
        ],
        [
         "6",
         "4.0",
         "Display",
         "pros notch display dual camera face unlock mah battery cons some of the apps donot work in full screen mode no front flash great product to purchase finally and its value for moneyi got this phone for and thanks to xiaomi"
        ],
        [
         "7",
         "4.0",
         "Camera",
         "front camera is poor rest things are good"
        ],
        [
         "8",
         "5.0",
         "Others",
         "wooo"
        ],
        [
         "9",
         "5.0",
         "Others",
         "realme is sub brand of oppo he give money to all techi youtubers including big ones and tell him to promote more realme but mi pro is much better than real me dont worry mi have given value for money as always"
        ],
        [
         "20",
         "5.0",
         "Others",
         "awesome product at this range"
        ],
        [
         "21",
         "4.0",
         "Camera",
         "very nice looks smooth operation camera could have been better"
        ],
        [
         "22",
         "4.0",
         "Others",
         "like every things but fullscreen video playing option is not available in default player"
        ],
        [
         "23",
         "1.0",
         "Others",
         "please dont buy these product i have mobile of mi but i did not face these type of issue mobile data getting on and off automatically same things are happening with wifi hotspot and bluetooth the handset behaving like cheap quality i think its duplicate or copy of original handset"
        ],
        [
         "24",
         "5.0",
         "Battery",
         "thanks alot amazonecom sellerperfect product no compromise in quality good battery backupsmooth working no hanging problemno heating issueaccording to note dual camera working properlyproduct packing is perfect again thanks alot amazon sellerecom mi"
        ],
        [
         "25",
         "5.0",
         "Display",
         "no company can provide u these features pros awesome display great video stablisation great battery great performance looks beatifull cons okk front camera not very bad considering price"
        ],
        [
         "26",
         "3.0",
         "Others",
         "the product is great with quite good features i am great fan of xiaomi and i have been always using xiaomi phones but i am disappointed with mobile designing of xiaomi as most of all the lower range and mid range phones have same design xiaomi always being giving with so many features but being realme entering in market xiaomi has to be more creative to attract more indian customers"
        ],
        [
         "27",
         "3.0",
         "Camera",
         "camera clarity is not good and average mobile i purchased first time mi mobile but not good compare to expect"
        ],
        [
         "28",
         "5.0",
         "Display",
         "superb job by xiaomi handy phone not huge size not slippery better battery display processing speed overall its the best phone"
        ],
        [
         "29",
         "5.0",
         "Display",
         "good phone at such a valuable price notch display value for money"
        ],
        [
         "30",
         "5.0",
         "Others",
         "good phone"
        ],
        [
         "31",
         "5.0",
         "Others",
         "great product fully met my expectations"
        ],
        [
         "32",
         "4.0",
         "Others",
         "good"
        ],
        [
         "33",
         "1.0",
         "Others",
         "do not buy"
        ],
        [
         "34",
         "2.0",
         "Others",
         "no dual g if you think new mobile you buy realme"
        ],
        [
         "35",
         "5.0",
         "Others",
         "very good phone of this budgetred colour very beautiful"
        ],
        [
         "36",
         "4.0",
         "Delivery",
         "nice product delivery guy also"
        ],
        [
         "37",
         "2.0",
         "Camera",
         "bad camera quality and heating problem"
        ],
        [
         "38",
         "4.0",
         "Battery",
         "good phone in budget good camerabattery and performance for normal use call sound is very good"
        ],
        [
         "39",
         "3.0",
         "Battery",
         "awesome sound quality battery life is good gaming is good no lags there very poor camera if you r buying for a camera phone the m this is not the one moto mp camera works better than this"
        ],
        [
         "50",
         "4.0",
         "Battery",
         "nice mobile battery backup is good camera gud one limitation is front camera no slim light weight mobile"
        ],
        [
         "51",
         "4.0",
         "Display",
         "like everything besides display"
        ],
        [
         "52",
         "3.0",
         "Others",
         "a bit pricey compared to the competitors nice and sleek body feels good on hand overall performance is good enough less heat compered to mi redmi devices"
        ],
        [
         "53",
         "1.0",
         "Battery",
         "please dontt bye camera is good but battery back up not good"
        ],
        [
         "54",
         "4.0",
         "Camera",
         "worth the price no hybrid slim slot very good point front camera is poor only mp and the handset is too heavy in weight handy phone small size full screen"
        ],
        [
         "55",
         "1.0",
         "Others",
         "worst phone from mi and amazon touch was not good and didnot working as expected without touching the screen click is happening and unnecessary apps are opening"
        ],
        [
         "56",
         "1.0",
         "Camera",
         "both camera quality is bedits price is too high and quality are lowest"
        ],
        [
         "57",
         "1.0",
         "Others",
         "i have purchsed this item and two jio sim are not working togeher but in specification it is given that it supports dual g sim what is this please dove my problem"
        ],
        [
         "58",
         "5.0",
         "Display",
         "this product is very nice and battery life and notch display is very awesome"
        ],
        [
         "59",
         "5.0",
         "Battery",
         "its very fantastic awesome mobile and nice sound quality awesome camera nice battery life awesome look but i think its small size"
        ],
        [
         "60",
         "5.0",
         "Display",
         "battery life is awesome including display is too good fast charging makes it extremely well good value for money"
        ],
        [
         "61",
         "3.0",
         "Others",
         "good phone but not value for money prefer redmi note over this but was not in stock since last months"
        ],
        [
         "62",
         "4.0",
         "Battery",
         "works pretty good for a budget phone battery life is amazing but camera is a let down finger print is very fast"
        ],
        [
         "63",
         "5.0",
         "Delivery",
         "charger not received in the box"
        ],
        [
         "64",
         "5.0",
         "Others",
         "width is little less still good phone face unlock and finger print unlocks are awasome"
        ],
        [
         "65",
         "5.0",
         "Others",
         "nice"
        ],
        [
         "66",
         "5.0",
         "Others",
         "redmi is always good for me and redmi pro performance is very good and good bettry backup"
        ],
        [
         "67",
         "5.0",
         "Others",
         "midrange phone with a notchand brand like mi aur kya chahiye"
        ],
        [
         "68",
         "1.0",
         "Others",
         "disapointing"
        ],
        [
         "69",
         "1.0",
         "Others",
         "worst phone"
        ]
       ],
       "shape": {
        "columns": 3,
        "rows": 245
       }
      },
      "text/html": [
       "<div>\n",
       "<style scoped>\n",
       "    .dataframe tbody tr th:only-of-type {\n",
       "        vertical-align: middle;\n",
       "    }\n",
       "\n",
       "    .dataframe tbody tr th {\n",
       "        vertical-align: top;\n",
       "    }\n",
       "\n",
       "    .dataframe thead th {\n",
       "        text-align: right;\n",
       "    }\n",
       "</style>\n",
       "<table border=\"1\" class=\"dataframe\">\n",
       "  <thead>\n",
       "    <tr style=\"text-align: right;\">\n",
       "      <th></th>\n",
       "      <th>Rating</th>\n",
       "      <th>Category</th>\n",
       "      <th>Comments</th>\n",
       "    </tr>\n",
       "  </thead>\n",
       "  <tbody>\n",
       "    <tr>\n",
       "      <th>0</th>\n",
       "      <td>4.0</td>\n",
       "      <td>Display</td>\n",
       "      <td>another midrange killer smartphone by xiaomi m...</td>\n",
       "    </tr>\n",
       "    <tr>\n",
       "      <th>1</th>\n",
       "      <td>3.0</td>\n",
       "      <td>Others</td>\n",
       "      <td>all ok but vry small size mobile</td>\n",
       "    </tr>\n",
       "    <tr>\n",
       "      <th>2</th>\n",
       "      <td>3.0</td>\n",
       "      <td>Others</td>\n",
       "      <td>quite good</td>\n",
       "    </tr>\n",
       "    <tr>\n",
       "      <th>3</th>\n",
       "      <td>5.0</td>\n",
       "      <td>Display</td>\n",
       "      <td>redmi has always have been the the king of bud...</td>\n",
       "    </tr>\n",
       "    <tr>\n",
       "      <th>4</th>\n",
       "      <td>2.0</td>\n",
       "      <td>Others</td>\n",
       "      <td>worst product from mi i am a hardcore fan of m...</td>\n",
       "    </tr>\n",
       "    <tr>\n",
       "      <th>...</th>\n",
       "      <td>...</td>\n",
       "      <td>...</td>\n",
       "      <td>...</td>\n",
       "    </tr>\n",
       "    <tr>\n",
       "      <th>275</th>\n",
       "      <td>5.0</td>\n",
       "      <td>Others</td>\n",
       "      <td>i like this phone awesome look and design im u...</td>\n",
       "    </tr>\n",
       "    <tr>\n",
       "      <th>276</th>\n",
       "      <td>4.0</td>\n",
       "      <td>Others</td>\n",
       "      <td>product is avasome but invoice is note include</td>\n",
       "    </tr>\n",
       "    <tr>\n",
       "      <th>277</th>\n",
       "      <td>3.0</td>\n",
       "      <td>Battery</td>\n",
       "      <td>redmi note note now proit seems the older the ...</td>\n",
       "    </tr>\n",
       "    <tr>\n",
       "      <th>278</th>\n",
       "      <td>5.0</td>\n",
       "      <td>Others</td>\n",
       "      <td>i love mi</td>\n",
       "    </tr>\n",
       "    <tr>\n",
       "      <th>279</th>\n",
       "      <td>1.0</td>\n",
       "      <td>Camera</td>\n",
       "      <td>same old configurations with higher price not ...</td>\n",
       "    </tr>\n",
       "  </tbody>\n",
       "</table>\n",
       "<p>245 rows × 3 columns</p>\n",
       "</div>"
      ],
      "text/plain": [
       "     Rating Category                                           Comments\n",
       "0       4.0  Display  another midrange killer smartphone by xiaomi m...\n",
       "1       3.0   Others                   all ok but vry small size mobile\n",
       "2       3.0   Others                                         quite good\n",
       "3       5.0  Display  redmi has always have been the the king of bud...\n",
       "4       2.0   Others  worst product from mi i am a hardcore fan of m...\n",
       "..      ...      ...                                                ...\n",
       "275     5.0   Others  i like this phone awesome look and design im u...\n",
       "276     4.0   Others     product is avasome but invoice is note include\n",
       "277     3.0  Battery  redmi note note now proit seems the older the ...\n",
       "278     5.0   Others                                          i love mi\n",
       "279     1.0   Camera  same old configurations with higher price not ...\n",
       "\n",
       "[245 rows x 3 columns]"
      ]
     },
     "execution_count": 321,
     "metadata": {},
     "output_type": "execute_result"
    }
   ],
   "source": [
    "# Ambil hanya kolom yang dibutuhkan\n",
    "df = df[['Rating', 'Category', 'Comments']]\n",
    "\n",
    "# membersihkan kolom rating\n",
    "df['Rating'] = df['Rating'].astype(str).str.extract(r'(\\d+(\\.\\d+)?)')[0].astype(float)\n",
    "\n",
    "#membersihkan kolom komentar\n",
    "def clean_text(text):\n",
    "    text = str(text).lower()\n",
    "    text = re.sub(r\"http\\S+|www\\S+\", \"\", text)  # hapus URL\n",
    "    text = re.sub(r\"[^a-zA-Z\\s]\", \"\", text)     # hapus angka & simbol\n",
    "    text = re.sub(r\"\\s+\", \" \", text).strip()    # hapus spasi berlebih\n",
    "    return text\n",
    "\n",
    "df['Comments'] = df['Comments'].apply(clean_text)\n",
    "df\n"
   ]
  },
  {
   "cell_type": "code",
   "execution_count": 322,
   "id": "b5270370",
   "metadata": {},
   "outputs": [
    {
     "data": {
      "application/vnd.microsoft.datawrangler.viewer.v0+json": {
       "columns": [
        {
         "name": "Category",
         "rawType": "object",
         "type": "string"
        },
        {
         "name": "count",
         "rawType": "int64",
         "type": "integer"
        }
       ],
       "ref": "79102574-76bf-4e67-b2bd-06086200cab2",
       "rows": [
        [
         "Others",
         "161"
        ],
        [
         "Display",
         "29"
        ],
        [
         "Camera",
         "25"
        ],
        [
         "Battery",
         "24"
        ],
        [
         "Delivery",
         "6"
        ]
       ],
       "shape": {
        "columns": 1,
        "rows": 5
       }
      },
      "text/plain": [
       "Category\n",
       "Others      161\n",
       "Display      29\n",
       "Camera       25\n",
       "Battery      24\n",
       "Delivery      6\n",
       "Name: count, dtype: int64"
      ]
     },
     "execution_count": 322,
     "metadata": {},
     "output_type": "execute_result"
    }
   ],
   "source": [
    "df['Category'].value_counts()\n"
   ]
  },
  {
   "cell_type": "markdown",
   "id": "99c49022",
   "metadata": {},
   "source": [
    "# Labelling dan Analisis Sentimen Menggunakan BART"
   ]
  },
  {
   "cell_type": "code",
   "execution_count": 323,
   "id": "44701400",
   "metadata": {},
   "outputs": [],
   "source": [
    "def label_sentiment_rating(rating):\n",
    "    if rating < 3:\n",
    "        return 'negative'\n",
    "    elif rating == 3:\n",
    "        return 'neutral'\n",
    "    else:\n",
    "        return 'positive'\n",
    "\n",
    "df['Sentiment_Rating'] = df['Rating'].apply(label_sentiment_rating)\n"
   ]
  },
  {
   "cell_type": "code",
   "execution_count": 324,
   "id": "fb293075",
   "metadata": {},
   "outputs": [
    {
     "name": "stderr",
     "output_type": "stream",
     "text": [
      "c:\\Users\\71476\\AppData\\Local\\Programs\\Python\\Python311\\Lib\\site-packages\\huggingface_hub\\file_download.py:943: FutureWarning: `resume_download` is deprecated and will be removed in version 1.0.0. Downloads always resume when possible. If you want to force a new download, use `force_download=True`.\n",
      "  warnings.warn(\n"
     ]
    },
    {
     "name": "stdout",
     "output_type": "stream",
     "text": [
      "Komentar: this phone is good but the camera is bad\n",
      "Label Prediksi: mixed\n",
      "Semua skor: [('mixed', 0.7706360816955566), ('unsatisfied', 0.2089696228504181), ('neutral', 0.01135549321770668), ('satisfied', 0.004540059715509415), ('angry', 0.004498744383454323)]\n"
     ]
    }
   ],
   "source": [
    "from transformers import pipeline\n",
    "\n",
    "# Buat zero-shot classifier dengan framework PyTorch\n",
    "classifier = pipeline(\n",
    "    \"zero-shot-classification\",\n",
    "    model=\"facebook/bart-large-mnli\",\n",
    "    framework=\"pt\"\n",
    ")\n",
    "\n",
    "# Daftar label emosi\n",
    "labels = [\"satisfied\", \"unsatisfied\", \"angry\", \"neutral\", \"mixed\"]\n",
    "\n",
    "# Contoh prediksi untuk 1 komentar\n",
    "text = \"this phone is good but the camera is bad\"\n",
    "result = classifier(text, candidate_labels=labels)\n",
    "\n",
    "print(\"Komentar:\", text)\n",
    "print(\"Label Prediksi:\", result[\"labels\"][0])\n",
    "print(\"Semua skor:\", list(zip(result[\"labels\"], result[\"scores\"])))\n"
   ]
  },
  {
   "cell_type": "code",
   "execution_count": 325,
   "id": "0e68890d",
   "metadata": {},
   "outputs": [
    {
     "data": {
      "text/plain": [
       "(0, 1)"
      ]
     },
     "execution_count": 325,
     "metadata": {},
     "output_type": "execute_result"
    }
   ],
   "source": [
    "df['Comments'].isna().sum(), (df['Comments'].astype(str).str.strip() == '').sum()"
   ]
  },
  {
   "cell_type": "code",
   "execution_count": 326,
   "id": "8e57fa95",
   "metadata": {},
   "outputs": [
    {
     "name": "stdout",
     "output_type": "stream",
     "text": [
      "     Rating Category Comments Sentiment_Rating\n",
      "163     4.0   Others                  positive\n"
     ]
    }
   ],
   "source": [
    "kosong = df[df['Comments'].isna() | (df['Comments'].astype(str).str.strip() == '')]\n",
    "print(kosong)\n"
   ]
  },
  {
   "cell_type": "code",
   "execution_count": 327,
   "id": "ae358e4c",
   "metadata": {},
   "outputs": [
    {
     "data": {
      "text/plain": [
       "(0, 0)"
      ]
     },
     "execution_count": 327,
     "metadata": {},
     "output_type": "execute_result"
    }
   ],
   "source": [
    "df.loc[df['Comments'].isna() | (df['Comments'].astype(str).str.strip() == ''), 'Comments'] = 'Good'\n",
    "df['Comments'].isna().sum(), (df['Comments'].astype(str).str.strip() == '').sum()"
   ]
  },
  {
   "cell_type": "code",
   "execution_count": 328,
   "id": "14959156",
   "metadata": {},
   "outputs": [],
   "source": [
    "def predict_emotion(text):\n",
    "    try:\n",
    "        if pd.isna(text) or text.strip() == \"\":\n",
    "            return \"unknown\"\n",
    "        result = classifier(text, candidate_labels=labels)\n",
    "        return result['labels'][0]\n",
    "    except Exception as e:\n",
    "        print(f\"Error on text: {text[:30]}... → {e}\")\n",
    "        return \"error\"\n",
    "\n",
    "\n",
    "# Hanya 100 data dulu (bisa diubah ke seluruh data)\n",
    "df['Emotion_Label'] = df['Comments'].astype(str).apply(predict_emotion)\n"
   ]
  },
  {
   "cell_type": "code",
   "execution_count": 329,
   "id": "754636ed",
   "metadata": {},
   "outputs": [
    {
     "name": "stderr",
     "output_type": "stream",
     "text": [
      "[nltk_data] Downloading package stopwords to\n",
      "[nltk_data]     C:\\Users\\71476\\AppData\\Roaming\\nltk_data...\n",
      "[nltk_data]   Package stopwords is already up-to-date!\n"
     ]
    }
   ],
   "source": [
    "import re\n",
    "import nltk\n",
    "from nltk.corpus import stopwords\n",
    "from nltk.stem import PorterStemmer\n",
    "\n",
    "# Download resource (cukup sekali)\n",
    "nltk.download('stopwords')\n",
    "\n",
    "# Inisialisasi stopwords dan stemmer\n",
    "stop_words = set(stopwords.words('english'))\n",
    "stemmer = PorterStemmer()\n",
    "\n",
    "# Fungsi preprocessing\n",
    "def preprocess(text):\n",
    "    text = re.sub(r'[^a-zA-Z\\s]', '', text.lower())  # Hapus simbol dan angka\n",
    "    tokens = text.split()\n",
    "    tokens = [stemmer.stem(w) for w in tokens if w not in stop_words]\n",
    "    return \" \".join(tokens)\n",
    "\n",
    "# Terapkan ke kolom komentar\n",
    "df['Processed_Comments'] = df['Comments'].astype(str).apply(preprocess)\n"
   ]
  },
  {
   "cell_type": "code",
   "execution_count": 330,
   "id": "926992f3",
   "metadata": {},
   "outputs": [],
   "source": [
    "def emotion_to_sentiment(emotion):\n",
    "    if emotion in ['unsatisfied', 'angry']:\n",
    "        return 'negative'\n",
    "    elif emotion == 'satisfied':\n",
    "        return 'positive'\n",
    "    else:\n",
    "        return 'neutral'\n",
    "\n",
    "df['Sentiment_Comments'] = df['Emotion_Label'].apply(emotion_to_sentiment)\n",
    "df['Sentiment_Match'] = df['Sentiment_Comments'] == df['Sentiment_Rating']\n"
   ]
  },
  {
   "cell_type": "code",
   "execution_count": 331,
   "id": "780dac44",
   "metadata": {},
   "outputs": [
    {
     "name": "stdout",
     "output_type": "stream",
     "text": [
      "Perbandingan hasil sentiment:\n",
      "Sentiment_Match\n",
      "True     171\n",
      "False     74\n",
      "Name: count, dtype: int64\n"
     ]
    }
   ],
   "source": [
    "# Buat kolom apakah hasilnya sama atau beda\n",
    "df['Sentiment_Match'] = df['Sentiment_Rating'] == df['Sentiment_Comments']\n",
    "\n",
    "# Buat dataset baru jika mismatch\n",
    "mismatch_df = df[df['Sentiment_Match'] == False]\n",
    "\n",
    "# Lihat jumlah perbandingan\n",
    "comparison_counts = df['Sentiment_Match'].value_counts()\n",
    "print(\"Perbandingan hasil sentiment:\")\n",
    "print(comparison_counts)\n",
    "\n",
    "# Simpan mismatch untuk dianalisis lebih lanjut\n",
    "mismatch_df.to_csv(\"sentiment_mismatch.csv\", index=False)\n"
   ]
  },
  {
   "cell_type": "markdown",
   "id": "ebca3de3",
   "metadata": {},
   "source": [
    "# Belajar dari Data True Menggunakan Regresi Logistik"
   ]
  },
  {
   "cell_type": "code",
   "execution_count": 332,
   "id": "e8bb70bd",
   "metadata": {},
   "outputs": [],
   "source": [
    "training_df = df[df['Sentiment_Match'] == True]\n"
   ]
  },
  {
   "cell_type": "code",
   "execution_count": 333,
   "id": "74a23579",
   "metadata": {},
   "outputs": [
    {
     "name": "stdout",
     "output_type": "stream",
     "text": [
      "              precision    recall  f1-score   support\n",
      "\n",
      "       mixed       0.00      0.00      0.00         2\n",
      "   satisfied       0.74      1.00      0.85        26\n",
      " unsatisfied       0.00      0.00      0.00         7\n",
      "\n",
      "    accuracy                           0.74        35\n",
      "   macro avg       0.25      0.33      0.28        35\n",
      "weighted avg       0.55      0.74      0.63        35\n",
      "\n"
     ]
    },
    {
     "name": "stderr",
     "output_type": "stream",
     "text": [
      "c:\\Users\\71476\\AppData\\Local\\Programs\\Python\\Python311\\Lib\\site-packages\\sklearn\\metrics\\_classification.py:1344: UndefinedMetricWarning: Precision and F-score are ill-defined and being set to 0.0 in labels with no predicted samples. Use `zero_division` parameter to control this behavior.\n",
      "  _warn_prf(average, modifier, msg_start, len(result))\n",
      "c:\\Users\\71476\\AppData\\Local\\Programs\\Python\\Python311\\Lib\\site-packages\\sklearn\\metrics\\_classification.py:1344: UndefinedMetricWarning: Precision and F-score are ill-defined and being set to 0.0 in labels with no predicted samples. Use `zero_division` parameter to control this behavior.\n",
      "  _warn_prf(average, modifier, msg_start, len(result))\n",
      "c:\\Users\\71476\\AppData\\Local\\Programs\\Python\\Python311\\Lib\\site-packages\\sklearn\\metrics\\_classification.py:1344: UndefinedMetricWarning: Precision and F-score are ill-defined and being set to 0.0 in labels with no predicted samples. Use `zero_division` parameter to control this behavior.\n",
      "  _warn_prf(average, modifier, msg_start, len(result))\n"
     ]
    }
   ],
   "source": [
    "# TF-IDF vectorizer dari Comments\n",
    "from sklearn.feature_extraction.text import TfidfVectorizer\n",
    "from sklearn.linear_model import LogisticRegression\n",
    "from sklearn.model_selection import train_test_split\n",
    "from sklearn.metrics import classification_report\n",
    "\n",
    "X = training_df['Comments']\n",
    "y = training_df['Emotion_Label']\n",
    "\n",
    "vectorizer = TfidfVectorizer(max_features=1000)\n",
    "X_vec = vectorizer.fit_transform(X)\n",
    "\n",
    "X_train, X_test, y_train, y_test = train_test_split(X_vec, y, test_size=0.2, random_state=42)\n",
    "\n",
    "clf = LogisticRegression(max_iter=300)\n",
    "clf.fit(X_train, y_train)\n",
    "\n",
    "print(classification_report(y_test, clf.predict(X_test)))\n"
   ]
  },
  {
   "cell_type": "code",
   "execution_count": 334,
   "id": "3f626557",
   "metadata": {},
   "outputs": [],
   "source": [
    "df_true = df[df['Sentiment_Match'] == True]\n",
    "X_true = df_true['Processed_Comments']\n",
    "y_true = df_true['Emotion_Label']\n"
   ]
  },
  {
   "cell_type": "code",
   "execution_count": 335,
   "id": "e692405b",
   "metadata": {},
   "outputs": [
    {
     "data": {
      "text/html": [
       "<style>#sk-container-id-12 {color: black;background-color: white;}#sk-container-id-12 pre{padding: 0;}#sk-container-id-12 div.sk-toggleable {background-color: white;}#sk-container-id-12 label.sk-toggleable__label {cursor: pointer;display: block;width: 100%;margin-bottom: 0;padding: 0.3em;box-sizing: border-box;text-align: center;}#sk-container-id-12 label.sk-toggleable__label-arrow:before {content: \"▸\";float: left;margin-right: 0.25em;color: #696969;}#sk-container-id-12 label.sk-toggleable__label-arrow:hover:before {color: black;}#sk-container-id-12 div.sk-estimator:hover label.sk-toggleable__label-arrow:before {color: black;}#sk-container-id-12 div.sk-toggleable__content {max-height: 0;max-width: 0;overflow: hidden;text-align: left;background-color: #f0f8ff;}#sk-container-id-12 div.sk-toggleable__content pre {margin: 0.2em;color: black;border-radius: 0.25em;background-color: #f0f8ff;}#sk-container-id-12 input.sk-toggleable__control:checked~div.sk-toggleable__content {max-height: 200px;max-width: 100%;overflow: auto;}#sk-container-id-12 input.sk-toggleable__control:checked~label.sk-toggleable__label-arrow:before {content: \"▾\";}#sk-container-id-12 div.sk-estimator input.sk-toggleable__control:checked~label.sk-toggleable__label {background-color: #d4ebff;}#sk-container-id-12 div.sk-label input.sk-toggleable__control:checked~label.sk-toggleable__label {background-color: #d4ebff;}#sk-container-id-12 input.sk-hidden--visually {border: 0;clip: rect(1px 1px 1px 1px);clip: rect(1px, 1px, 1px, 1px);height: 1px;margin: -1px;overflow: hidden;padding: 0;position: absolute;width: 1px;}#sk-container-id-12 div.sk-estimator {font-family: monospace;background-color: #f0f8ff;border: 1px dotted black;border-radius: 0.25em;box-sizing: border-box;margin-bottom: 0.5em;}#sk-container-id-12 div.sk-estimator:hover {background-color: #d4ebff;}#sk-container-id-12 div.sk-parallel-item::after {content: \"\";width: 100%;border-bottom: 1px solid gray;flex-grow: 1;}#sk-container-id-12 div.sk-label:hover label.sk-toggleable__label {background-color: #d4ebff;}#sk-container-id-12 div.sk-serial::before {content: \"\";position: absolute;border-left: 1px solid gray;box-sizing: border-box;top: 0;bottom: 0;left: 50%;z-index: 0;}#sk-container-id-12 div.sk-serial {display: flex;flex-direction: column;align-items: center;background-color: white;padding-right: 0.2em;padding-left: 0.2em;position: relative;}#sk-container-id-12 div.sk-item {position: relative;z-index: 1;}#sk-container-id-12 div.sk-parallel {display: flex;align-items: stretch;justify-content: center;background-color: white;position: relative;}#sk-container-id-12 div.sk-item::before, #sk-container-id-12 div.sk-parallel-item::before {content: \"\";position: absolute;border-left: 1px solid gray;box-sizing: border-box;top: 0;bottom: 0;left: 50%;z-index: -1;}#sk-container-id-12 div.sk-parallel-item {display: flex;flex-direction: column;z-index: 1;position: relative;background-color: white;}#sk-container-id-12 div.sk-parallel-item:first-child::after {align-self: flex-end;width: 50%;}#sk-container-id-12 div.sk-parallel-item:last-child::after {align-self: flex-start;width: 50%;}#sk-container-id-12 div.sk-parallel-item:only-child::after {width: 0;}#sk-container-id-12 div.sk-dashed-wrapped {border: 1px dashed gray;margin: 0 0.4em 0.5em 0.4em;box-sizing: border-box;padding-bottom: 0.4em;background-color: white;}#sk-container-id-12 div.sk-label label {font-family: monospace;font-weight: bold;display: inline-block;line-height: 1.2em;}#sk-container-id-12 div.sk-label-container {text-align: center;}#sk-container-id-12 div.sk-container {/* jupyter's `normalize.less` sets `[hidden] { display: none; }` but bootstrap.min.css set `[hidden] { display: none !important; }` so we also need the `!important` here to be able to override the default hidden behavior on the sphinx rendered scikit-learn.org. See: https://github.com/scikit-learn/scikit-learn/issues/21755 */display: inline-block !important;position: relative;}#sk-container-id-12 div.sk-text-repr-fallback {display: none;}</style><div id=\"sk-container-id-12\" class=\"sk-top-container\"><div class=\"sk-text-repr-fallback\"><pre>LogisticRegression(max_iter=300)</pre><b>In a Jupyter environment, please rerun this cell to show the HTML representation or trust the notebook. <br />On GitHub, the HTML representation is unable to render, please try loading this page with nbviewer.org.</b></div><div class=\"sk-container\" hidden><div class=\"sk-item\"><div class=\"sk-estimator sk-toggleable\"><input class=\"sk-toggleable__control sk-hidden--visually\" id=\"sk-estimator-id-12\" type=\"checkbox\" checked><label for=\"sk-estimator-id-12\" class=\"sk-toggleable__label sk-toggleable__label-arrow\">LogisticRegression</label><div class=\"sk-toggleable__content\"><pre>LogisticRegression(max_iter=300)</pre></div></div></div></div></div>"
      ],
      "text/plain": [
       "LogisticRegression(max_iter=300)"
      ]
     },
     "execution_count": 335,
     "metadata": {},
     "output_type": "execute_result"
    }
   ],
   "source": [
    "from sklearn.feature_extraction.text import TfidfVectorizer\n",
    "from sklearn.linear_model import LogisticRegression\n",
    "\n",
    "# TF-IDF vectorizer\n",
    "vectorizer = TfidfVectorizer(max_features=1000)\n",
    "X_vec = vectorizer.fit_transform(X_true)\n",
    "\n",
    "# Latih model\n",
    "clf = LogisticRegression(max_iter=300)\n",
    "clf.fit(X_vec, y_true)\n"
   ]
  },
  {
   "cell_type": "code",
   "execution_count": 336,
   "id": "293422d4",
   "metadata": {},
   "outputs": [],
   "source": [
    "df_false = df[df['Sentiment_Match'] == False]\n",
    "X_false = df_false['Processed_Comments']\n",
    "X_false_vec = vectorizer.transform(X_false)\n"
   ]
  },
  {
   "cell_type": "code",
   "execution_count": 337,
   "id": "659cffe1",
   "metadata": {},
   "outputs": [
    {
     "name": "stderr",
     "output_type": "stream",
     "text": [
      "C:\\Users\\71476\\AppData\\Local\\Temp\\ipykernel_19200\\463894245.py:1: SettingWithCopyWarning: \n",
      "A value is trying to be set on a copy of a slice from a DataFrame.\n",
      "Try using .loc[row_indexer,col_indexer] = value instead\n",
      "\n",
      "See the caveats in the documentation: https://pandas.pydata.org/pandas-docs/stable/user_guide/indexing.html#returning-a-view-versus-a-copy\n",
      "  df_false['Emotion_Label_New'] = clf.predict(X_false_vec)\n"
     ]
    }
   ],
   "source": [
    "df_false['Emotion_Label_New'] = clf.predict(X_false_vec)\n"
   ]
  },
  {
   "cell_type": "code",
   "execution_count": 338,
   "id": "8c655f8b",
   "metadata": {},
   "outputs": [
    {
     "name": "stderr",
     "output_type": "stream",
     "text": [
      "C:\\Users\\71476\\AppData\\Local\\Temp\\ipykernel_19200\\3655690699.py:9: SettingWithCopyWarning: \n",
      "A value is trying to be set on a copy of a slice from a DataFrame.\n",
      "Try using .loc[row_indexer,col_indexer] = value instead\n",
      "\n",
      "See the caveats in the documentation: https://pandas.pydata.org/pandas-docs/stable/user_guide/indexing.html#returning-a-view-versus-a-copy\n",
      "  df_false['Sentiment_Comments_New'] = df_false['Emotion_Label_New'].apply(emotion_to_sentiment)\n",
      "C:\\Users\\71476\\AppData\\Local\\Temp\\ipykernel_19200\\3655690699.py:10: SettingWithCopyWarning: \n",
      "A value is trying to be set on a copy of a slice from a DataFrame.\n",
      "Try using .loc[row_indexer,col_indexer] = value instead\n",
      "\n",
      "See the caveats in the documentation: https://pandas.pydata.org/pandas-docs/stable/user_guide/indexing.html#returning-a-view-versus-a-copy\n",
      "  df_false['Sentiment_Match_New'] = df_false['Sentiment_Comments_New'] == df_false['Sentiment_Rating']\n"
     ]
    }
   ],
   "source": [
    "def emotion_to_sentiment(emotion):\n",
    "    if emotion in ['unsatisfied', 'angry']:\n",
    "        return 'negative'\n",
    "    elif emotion == 'satisfied':\n",
    "        return 'positive'\n",
    "    else:\n",
    "        return 'neutral'\n",
    "\n",
    "df_false['Sentiment_Comments_New'] = df_false['Emotion_Label_New'].apply(emotion_to_sentiment)\n",
    "df_false['Sentiment_Match_New'] = df_false['Sentiment_Comments_New'] == df_false['Sentiment_Rating']\n"
   ]
  },
  {
   "cell_type": "code",
   "execution_count": 339,
   "id": "c4c452b8",
   "metadata": {},
   "outputs": [
    {
     "data": {
      "application/vnd.microsoft.datawrangler.viewer.v0+json": {
       "columns": [
        {
         "name": "Sentiment_Match_New",
         "rawType": "bool",
         "type": "boolean"
        },
        {
         "name": "count",
         "rawType": "int64",
         "type": "integer"
        }
       ],
       "ref": "f2c3c1f6-453a-4996-a482-5d23f777cbf3",
       "rows": [
        [
         "True",
         "49"
        ],
        [
         "False",
         "25"
        ]
       ],
       "shape": {
        "columns": 1,
        "rows": 2
       }
      },
      "text/plain": [
       "Sentiment_Match_New\n",
       "True     49\n",
       "False    25\n",
       "Name: count, dtype: int64"
      ]
     },
     "execution_count": 339,
     "metadata": {},
     "output_type": "execute_result"
    }
   ],
   "source": [
    "df_false['Sentiment_Match_New'].value_counts()\n"
   ]
  },
  {
   "cell_type": "code",
   "execution_count": 340,
   "id": "f92ef318",
   "metadata": {},
   "outputs": [],
   "source": [
    "df.loc[df_false.index, 'Emotion_Label'] = df_false['Emotion_Label_New']\n",
    "df.loc[df_false.index, 'Sentiment_Comments'] = df_false['Sentiment_Comments_New']\n",
    "df.loc[df_false.index, 'Sentiment_Match'] = df_false['Sentiment_Match_New']\n"
   ]
  },
  {
   "cell_type": "code",
   "execution_count": 341,
   "id": "7fa46cac",
   "metadata": {},
   "outputs": [
    {
     "name": "stdout",
     "output_type": "stream",
     "text": [
      "Perbandingan hasil sentiment:\n",
      "Sentiment_Match\n",
      "True     220\n",
      "False     25\n",
      "Name: count, dtype: int64\n"
     ]
    }
   ],
   "source": [
    "# Lihat jumlah perbandingan\n",
    "comparison_counts = df['Sentiment_Match'].value_counts()\n",
    "print(\"Perbandingan hasil sentiment:\")\n",
    "print(comparison_counts)"
   ]
  },
  {
   "cell_type": "code",
   "execution_count": 342,
   "id": "f20bd550",
   "metadata": {},
   "outputs": [],
   "source": [
    "df.to_csv('redmi_hampir_ok.csv', index=False)"
   ]
  },
  {
   "cell_type": "code",
   "execution_count": 343,
   "id": "eb6e2b6f",
   "metadata": {},
   "outputs": [
    {
     "data": {
      "application/vnd.microsoft.datawrangler.viewer.v0+json": {
       "columns": [
        {
         "name": "index",
         "rawType": "int64",
         "type": "integer"
        },
        {
         "name": "Comments",
         "rawType": "object",
         "type": "string"
        },
        {
         "name": "Rating",
         "rawType": "float64",
         "type": "float"
        },
        {
         "name": "Emotion_Label",
         "rawType": "object",
         "type": "string"
        },
        {
         "name": "Sentiment_Comments",
         "rawType": "object",
         "type": "string"
        },
        {
         "name": "Sentiment_Rating",
         "rawType": "object",
         "type": "string"
        }
       ],
       "ref": "be0848e1-7730-41a3-8869-a213ca102c74",
       "rows": [
        [
         "0",
         "quite good",
         "3.0",
         "satisfied",
         "positive",
         "neutral"
        ],
        [
         "1",
         "over prised by at least around rs low light photos are bad only one sim support volte good things are best sound good display smooth touch excellent battery life management compact nice photos and videos under good light it never gets over heated while using or charging i dont play games i like miui i have already redmi a rsonly using for more than months working superbly i have good opinion about redmi mobiles",
         "3.0",
         "satisfied",
         "positive",
         "neutral"
        ],
        [
         "2",
         "the product is great with quite good features i am great fan of xiaomi and i have been always using xiaomi phones but i am disappointed with mobile designing of xiaomi as most of all the lower range and mid range phones have same design xiaomi always being giving with so many features but being realme entering in market xiaomi has to be more creative to attract more indian customers",
         "3.0",
         "satisfied",
         "positive",
         "neutral"
        ],
        [
         "3",
         "no dual g if you think new mobile you buy realme",
         "2.0",
         "satisfied",
         "positive",
         "negative"
        ],
        [
         "4",
         "bad camera quality and heating problem",
         "2.0",
         "satisfied",
         "positive",
         "negative"
        ],
        [
         "5",
         "awesome sound quality battery life is good gaming is good no lags there very poor camera if you r buying for a camera phone the m this is not the one moto mp camera works better than this",
         "3.0",
         "satisfied",
         "positive",
         "neutral"
        ],
        [
         "6",
         "please dontt bye camera is good but battery back up not good",
         "1.0",
         "satisfied",
         "positive",
         "negative"
        ],
        [
         "7",
         "both camera quality is bedits price is too high and quality are lowest",
         "1.0",
         "satisfied",
         "positive",
         "negative"
        ],
        [
         "8",
         "ok",
         "1.0",
         "satisfied",
         "positive",
         "negative"
        ],
        [
         "9",
         "sound quality is not so good either way the mobile best in its segment",
         "3.0",
         "satisfied",
         "positive",
         "neutral"
        ],
        [
         "10",
         "sometimes automatically speaker on and little hanging problem camera battery good",
         "1.0",
         "satisfied",
         "positive",
         "negative"
        ],
        [
         "11",
         "sound qulity not dolby and processor performance not ok",
         "3.0",
         "satisfied",
         "positive",
         "neutral"
        ],
        [
         "12",
         "im fan mi but no dual volte waste of money",
         "1.0",
         "satisfied",
         "positive",
         "negative"
        ],
        [
         "13",
         "i didnt get discount buy through hdfc bank",
         "4.0",
         "unsatisfied",
         "negative",
         "positive"
        ],
        [
         "14",
         "average",
         "3.0",
         "satisfied",
         "positive",
         "neutral"
        ],
        [
         "15",
         "out of only speaker is working from day",
         "1.0",
         "satisfied",
         "positive",
         "negative"
        ],
        [
         "16",
         "poor",
         "3.0",
         "satisfied",
         "positive",
         "neutral"
        ],
        [
         "17",
         "nice mobaile",
         "3.0",
         "satisfied",
         "positive",
         "neutral"
        ],
        [
         "18",
         "all is well",
         "3.0",
         "satisfied",
         "positive",
         "neutral"
        ],
        [
         "19",
         "overall good",
         "3.0",
         "satisfied",
         "positive",
         "neutral"
        ],
        [
         "20",
         "super",
         "3.0",
         "satisfied",
         "positive",
         "neutral"
        ],
        [
         "21",
         "overall phone seems to be good with performance perspective under this range category do not buy if you are looking for wider screen and thinner phone i felt y would have been better choice in the same range which i already brought one for the family not satisfied with the looks screen size and it is a fatty phone",
         "2.0",
         "satisfied",
         "positive",
         "negative"
        ],
        [
         "22",
         "charging issue lagging issue hanging issue multiple issue",
         "1.0",
         "satisfied",
         "positive",
         "negative"
        ],
        [
         "23",
         "nice product front or rear camera thoda accha hona chahiye tha",
         "3.0",
         "satisfied",
         "positive",
         "neutral"
        ],
        [
         "24",
         "redmi note note now proit seems the older the model the better was the performance as i used all models in the line the notch design hides the battery and network speed one has to pull down a bit to see these things note and pro both have a common issue after switching the swipe up to unlock does not work smoothly every time the escape is to switch off the swipe up feature after note in the newer models the length of usb cable has become shorter whichis a problem if you are little away from the plug point how much cost does xiaomi saves by shortening the cable pro came with a smaller ejection tool additional cost saving by cutting gm of metal the front flash if note has been removed in pro these manufacturers seem to be idiots and fooling public by launching new models without any real additional feature or improvement anyway its an ok phone for gbgb for a customer expects a little more and xiaomi disappoints here",
         "3.0",
         "satisfied",
         "positive",
         "neutral"
        ]
       ],
       "shape": {
        "columns": 5,
        "rows": 25
       }
      },
      "text/html": [
       "<div>\n",
       "<style scoped>\n",
       "    .dataframe tbody tr th:only-of-type {\n",
       "        vertical-align: middle;\n",
       "    }\n",
       "\n",
       "    .dataframe tbody tr th {\n",
       "        vertical-align: top;\n",
       "    }\n",
       "\n",
       "    .dataframe thead th {\n",
       "        text-align: right;\n",
       "    }\n",
       "</style>\n",
       "<table border=\"1\" class=\"dataframe\">\n",
       "  <thead>\n",
       "    <tr style=\"text-align: right;\">\n",
       "      <th></th>\n",
       "      <th>Comments</th>\n",
       "      <th>Rating</th>\n",
       "      <th>Emotion_Label</th>\n",
       "      <th>Sentiment_Comments</th>\n",
       "      <th>Sentiment_Rating</th>\n",
       "    </tr>\n",
       "  </thead>\n",
       "  <tbody>\n",
       "    <tr>\n",
       "      <th>0</th>\n",
       "      <td>quite good</td>\n",
       "      <td>3.0</td>\n",
       "      <td>satisfied</td>\n",
       "      <td>positive</td>\n",
       "      <td>neutral</td>\n",
       "    </tr>\n",
       "    <tr>\n",
       "      <th>1</th>\n",
       "      <td>over prised by at least around rs low light ph...</td>\n",
       "      <td>3.0</td>\n",
       "      <td>satisfied</td>\n",
       "      <td>positive</td>\n",
       "      <td>neutral</td>\n",
       "    </tr>\n",
       "    <tr>\n",
       "      <th>2</th>\n",
       "      <td>the product is great with quite good features ...</td>\n",
       "      <td>3.0</td>\n",
       "      <td>satisfied</td>\n",
       "      <td>positive</td>\n",
       "      <td>neutral</td>\n",
       "    </tr>\n",
       "    <tr>\n",
       "      <th>3</th>\n",
       "      <td>no dual g if you think new mobile you buy realme</td>\n",
       "      <td>2.0</td>\n",
       "      <td>satisfied</td>\n",
       "      <td>positive</td>\n",
       "      <td>negative</td>\n",
       "    </tr>\n",
       "    <tr>\n",
       "      <th>4</th>\n",
       "      <td>bad camera quality and heating problem</td>\n",
       "      <td>2.0</td>\n",
       "      <td>satisfied</td>\n",
       "      <td>positive</td>\n",
       "      <td>negative</td>\n",
       "    </tr>\n",
       "    <tr>\n",
       "      <th>5</th>\n",
       "      <td>awesome sound quality battery life is good gam...</td>\n",
       "      <td>3.0</td>\n",
       "      <td>satisfied</td>\n",
       "      <td>positive</td>\n",
       "      <td>neutral</td>\n",
       "    </tr>\n",
       "    <tr>\n",
       "      <th>6</th>\n",
       "      <td>please dontt bye camera is good but battery ba...</td>\n",
       "      <td>1.0</td>\n",
       "      <td>satisfied</td>\n",
       "      <td>positive</td>\n",
       "      <td>negative</td>\n",
       "    </tr>\n",
       "    <tr>\n",
       "      <th>7</th>\n",
       "      <td>both camera quality is bedits price is too hig...</td>\n",
       "      <td>1.0</td>\n",
       "      <td>satisfied</td>\n",
       "      <td>positive</td>\n",
       "      <td>negative</td>\n",
       "    </tr>\n",
       "    <tr>\n",
       "      <th>8</th>\n",
       "      <td>ok</td>\n",
       "      <td>1.0</td>\n",
       "      <td>satisfied</td>\n",
       "      <td>positive</td>\n",
       "      <td>negative</td>\n",
       "    </tr>\n",
       "    <tr>\n",
       "      <th>9</th>\n",
       "      <td>sound quality is not so good either way the mo...</td>\n",
       "      <td>3.0</td>\n",
       "      <td>satisfied</td>\n",
       "      <td>positive</td>\n",
       "      <td>neutral</td>\n",
       "    </tr>\n",
       "    <tr>\n",
       "      <th>10</th>\n",
       "      <td>sometimes automatically speaker on and little ...</td>\n",
       "      <td>1.0</td>\n",
       "      <td>satisfied</td>\n",
       "      <td>positive</td>\n",
       "      <td>negative</td>\n",
       "    </tr>\n",
       "    <tr>\n",
       "      <th>11</th>\n",
       "      <td>sound qulity not dolby and processor performan...</td>\n",
       "      <td>3.0</td>\n",
       "      <td>satisfied</td>\n",
       "      <td>positive</td>\n",
       "      <td>neutral</td>\n",
       "    </tr>\n",
       "    <tr>\n",
       "      <th>12</th>\n",
       "      <td>im fan mi but no dual volte waste of money</td>\n",
       "      <td>1.0</td>\n",
       "      <td>satisfied</td>\n",
       "      <td>positive</td>\n",
       "      <td>negative</td>\n",
       "    </tr>\n",
       "    <tr>\n",
       "      <th>13</th>\n",
       "      <td>i didnt get discount buy through hdfc bank</td>\n",
       "      <td>4.0</td>\n",
       "      <td>unsatisfied</td>\n",
       "      <td>negative</td>\n",
       "      <td>positive</td>\n",
       "    </tr>\n",
       "    <tr>\n",
       "      <th>14</th>\n",
       "      <td>average</td>\n",
       "      <td>3.0</td>\n",
       "      <td>satisfied</td>\n",
       "      <td>positive</td>\n",
       "      <td>neutral</td>\n",
       "    </tr>\n",
       "    <tr>\n",
       "      <th>15</th>\n",
       "      <td>out of only speaker is working from day</td>\n",
       "      <td>1.0</td>\n",
       "      <td>satisfied</td>\n",
       "      <td>positive</td>\n",
       "      <td>negative</td>\n",
       "    </tr>\n",
       "    <tr>\n",
       "      <th>16</th>\n",
       "      <td>poor</td>\n",
       "      <td>3.0</td>\n",
       "      <td>satisfied</td>\n",
       "      <td>positive</td>\n",
       "      <td>neutral</td>\n",
       "    </tr>\n",
       "    <tr>\n",
       "      <th>17</th>\n",
       "      <td>nice mobaile</td>\n",
       "      <td>3.0</td>\n",
       "      <td>satisfied</td>\n",
       "      <td>positive</td>\n",
       "      <td>neutral</td>\n",
       "    </tr>\n",
       "    <tr>\n",
       "      <th>18</th>\n",
       "      <td>all is well</td>\n",
       "      <td>3.0</td>\n",
       "      <td>satisfied</td>\n",
       "      <td>positive</td>\n",
       "      <td>neutral</td>\n",
       "    </tr>\n",
       "    <tr>\n",
       "      <th>19</th>\n",
       "      <td>overall good</td>\n",
       "      <td>3.0</td>\n",
       "      <td>satisfied</td>\n",
       "      <td>positive</td>\n",
       "      <td>neutral</td>\n",
       "    </tr>\n",
       "    <tr>\n",
       "      <th>20</th>\n",
       "      <td>super</td>\n",
       "      <td>3.0</td>\n",
       "      <td>satisfied</td>\n",
       "      <td>positive</td>\n",
       "      <td>neutral</td>\n",
       "    </tr>\n",
       "    <tr>\n",
       "      <th>21</th>\n",
       "      <td>overall phone seems to be good with performanc...</td>\n",
       "      <td>2.0</td>\n",
       "      <td>satisfied</td>\n",
       "      <td>positive</td>\n",
       "      <td>negative</td>\n",
       "    </tr>\n",
       "    <tr>\n",
       "      <th>22</th>\n",
       "      <td>charging issue lagging issue hanging issue mul...</td>\n",
       "      <td>1.0</td>\n",
       "      <td>satisfied</td>\n",
       "      <td>positive</td>\n",
       "      <td>negative</td>\n",
       "    </tr>\n",
       "    <tr>\n",
       "      <th>23</th>\n",
       "      <td>nice product front or rear camera thoda accha ...</td>\n",
       "      <td>3.0</td>\n",
       "      <td>satisfied</td>\n",
       "      <td>positive</td>\n",
       "      <td>neutral</td>\n",
       "    </tr>\n",
       "    <tr>\n",
       "      <th>24</th>\n",
       "      <td>redmi note note now proit seems the older the ...</td>\n",
       "      <td>3.0</td>\n",
       "      <td>satisfied</td>\n",
       "      <td>positive</td>\n",
       "      <td>neutral</td>\n",
       "    </tr>\n",
       "  </tbody>\n",
       "</table>\n",
       "</div>"
      ],
      "text/plain": [
       "                                             Comments  Rating Emotion_Label  \\\n",
       "0                                          quite good     3.0     satisfied   \n",
       "1   over prised by at least around rs low light ph...     3.0     satisfied   \n",
       "2   the product is great with quite good features ...     3.0     satisfied   \n",
       "3    no dual g if you think new mobile you buy realme     2.0     satisfied   \n",
       "4              bad camera quality and heating problem     2.0     satisfied   \n",
       "5   awesome sound quality battery life is good gam...     3.0     satisfied   \n",
       "6   please dontt bye camera is good but battery ba...     1.0     satisfied   \n",
       "7   both camera quality is bedits price is too hig...     1.0     satisfied   \n",
       "8                                                  ok     1.0     satisfied   \n",
       "9   sound quality is not so good either way the mo...     3.0     satisfied   \n",
       "10  sometimes automatically speaker on and little ...     1.0     satisfied   \n",
       "11  sound qulity not dolby and processor performan...     3.0     satisfied   \n",
       "12         im fan mi but no dual volte waste of money     1.0     satisfied   \n",
       "13         i didnt get discount buy through hdfc bank     4.0   unsatisfied   \n",
       "14                                            average     3.0     satisfied   \n",
       "15            out of only speaker is working from day     1.0     satisfied   \n",
       "16                                               poor     3.0     satisfied   \n",
       "17                                       nice mobaile     3.0     satisfied   \n",
       "18                                        all is well     3.0     satisfied   \n",
       "19                                       overall good     3.0     satisfied   \n",
       "20                                              super     3.0     satisfied   \n",
       "21  overall phone seems to be good with performanc...     2.0     satisfied   \n",
       "22  charging issue lagging issue hanging issue mul...     1.0     satisfied   \n",
       "23  nice product front or rear camera thoda accha ...     3.0     satisfied   \n",
       "24  redmi note note now proit seems the older the ...     3.0     satisfied   \n",
       "\n",
       "   Sentiment_Comments Sentiment_Rating  \n",
       "0            positive          neutral  \n",
       "1            positive          neutral  \n",
       "2            positive          neutral  \n",
       "3            positive         negative  \n",
       "4            positive         negative  \n",
       "5            positive          neutral  \n",
       "6            positive         negative  \n",
       "7            positive         negative  \n",
       "8            positive         negative  \n",
       "9            positive          neutral  \n",
       "10           positive         negative  \n",
       "11           positive          neutral  \n",
       "12           positive         negative  \n",
       "13           negative         positive  \n",
       "14           positive          neutral  \n",
       "15           positive         negative  \n",
       "16           positive          neutral  \n",
       "17           positive          neutral  \n",
       "18           positive          neutral  \n",
       "19           positive          neutral  \n",
       "20           positive          neutral  \n",
       "21           positive         negative  \n",
       "22           positive         negative  \n",
       "23           positive          neutral  \n",
       "24           positive          neutral  "
      ]
     },
     "execution_count": 343,
     "metadata": {},
     "output_type": "execute_result"
    }
   ],
   "source": [
    "# Ambil semua data dengan hasil prediksi yang tidak sesuai rating (25 data awal)\n",
    "salah25 = df[df['Sentiment_Match'] == False][[\n",
    "    'Comments',\n",
    "    'Rating',\n",
    "    'Emotion_Label',\n",
    "    'Sentiment_Comments',\n",
    "    'Sentiment_Rating'\n",
    "]].reset_index(drop=True)\n",
    "\n",
    "# Tampilkan tabel\n",
    "salah25\n"
   ]
  },
  {
   "cell_type": "code",
   "execution_count": 344,
   "id": "f8d2a27f",
   "metadata": {},
   "outputs": [],
   "source": [
    "salah25.to_csv('25_data_koreksi.csv', index=False)\n"
   ]
  },
  {
   "cell_type": "markdown",
   "id": "8b0e43ac",
   "metadata": {},
   "source": [
    "# Belajar dari Data True Terbaru (Kembali Menggunakan BART)"
   ]
  },
  {
   "cell_type": "code",
   "execution_count": 345,
   "id": "b168adaa",
   "metadata": {},
   "outputs": [],
   "source": [
    "df_train = df[df['Sentiment_Match'] == True]\n",
    "df_salah = df[df['Sentiment_Match'] == False]\n"
   ]
  },
  {
   "cell_type": "code",
   "execution_count": 346,
   "id": "71160fa5",
   "metadata": {},
   "outputs": [],
   "source": [
    "from sklearn.model_selection import train_test_split\n",
    "from sklearn.preprocessing import LabelEncoder\n",
    "import pandas as pd\n",
    "\n",
    "# Misalnya df_train sudah berisi 220 data\n",
    "X = df_train['Comments'].astype(str).tolist()\n",
    "y = df_train['Sentiment_Rating'].tolist()\n",
    "\n",
    "# Encode label ke angka\n",
    "le = LabelEncoder()\n",
    "y_encoded = le.fit_transform(y)\n",
    "\n",
    "# Split\n",
    "X_train, X_test, y_train, y_test = train_test_split(X, y_encoded, stratify=y_encoded, test_size=0.2, random_state=42)\n"
   ]
  },
  {
   "cell_type": "code",
   "execution_count": 347,
   "id": "eaf2d9ed",
   "metadata": {},
   "outputs": [
    {
     "name": "stderr",
     "output_type": "stream",
     "text": [
      "c:\\Users\\71476\\AppData\\Local\\Programs\\Python\\Python311\\Lib\\site-packages\\huggingface_hub\\file_download.py:943: FutureWarning: `resume_download` is deprecated and will be removed in version 1.0.0. Downloads always resume when possible. If you want to force a new download, use `force_download=True`.\n",
      "  warnings.warn(\n",
      "Asking to truncate to max_length but no maximum length is provided and the model has no predefined maximum length. Default to no truncation.\n"
     ]
    }
   ],
   "source": [
    "from transformers import AutoTokenizer\n",
    "tokenizer = AutoTokenizer.from_pretrained(\"facebook/bart-base\")\n",
    "\n",
    "train_encodings = tokenizer(X_train, truncation=True, padding=True, return_tensors='pt')\n",
    "test_encodings = tokenizer(X_test, truncation=True, padding=True, return_tensors='pt')\n"
   ]
  },
  {
   "cell_type": "code",
   "execution_count": 348,
   "id": "411b3ba0",
   "metadata": {},
   "outputs": [],
   "source": [
    "import torch\n",
    "\n",
    "class RatingDataset(torch.utils.data.Dataset):\n",
    "    def __init__(self, encodings, labels):\n",
    "        self.encodings = encodings\n",
    "        self.labels = labels\n",
    "    def __getitem__(self, idx):\n",
    "        return {key: val[idx] for key, val in self.encodings.items()} | {'labels': torch.tensor(self.labels[idx])}\n",
    "    def __len__(self):\n",
    "        return len(self.labels)\n",
    "\n",
    "train_dataset = RatingDataset(train_encodings, y_train)\n",
    "test_dataset = RatingDataset(test_encodings, y_test)\n"
   ]
  },
  {
   "cell_type": "code",
   "execution_count": 349,
   "id": "0135417a",
   "metadata": {},
   "outputs": [
    {
     "name": "stderr",
     "output_type": "stream",
     "text": [
      "Some weights of BartForSequenceClassification were not initialized from the model checkpoint at facebook/bart-base and are newly initialized: ['classification_head.dense.bias', 'classification_head.dense.weight', 'classification_head.out_proj.bias', 'classification_head.out_proj.weight']\n",
      "You should probably TRAIN this model on a down-stream task to be able to use it for predictions and inference.\n",
      "c:\\Users\\71476\\AppData\\Local\\Programs\\Python\\Python311\\Lib\\site-packages\\transformers\\optimization.py:521: FutureWarning: This implementation of AdamW is deprecated and will be removed in a future version. Use the PyTorch implementation torch.optim.AdamW instead, or set `no_deprecation_warning=True` to disable this warning\n",
      "  warnings.warn(\n"
     ]
    },
    {
     "name": "stdout",
     "output_type": "stream",
     "text": [
      "Epoch 1 selesai ✅\n",
      "Epoch 2 selesai ✅\n",
      "Epoch 3 selesai ✅\n"
     ]
    }
   ],
   "source": [
    "from transformers import AutoModelForSequenceClassification\n",
    "from torch.utils.data import DataLoader\n",
    "from transformers import AdamW\n",
    "\n",
    "model = AutoModelForSequenceClassification.from_pretrained(\"facebook/bart-base\", num_labels=3)\n",
    "\n",
    "device = torch.device(\"cuda\" if torch.cuda.is_available() else \"cpu\")\n",
    "model.to(device)\n",
    "\n",
    "train_loader = DataLoader(train_dataset, batch_size=8, shuffle=True)\n",
    "optimizer = AdamW(model.parameters(), lr=5e-5)\n",
    "\n",
    "# Latih selama 3 epoch\n",
    "model.train()\n",
    "for epoch in range(3):\n",
    "    for batch in train_loader:\n",
    "        batch = {k: v.to(device) for k, v in batch.items()}\n",
    "        outputs = model(**batch)\n",
    "        loss = outputs.loss\n",
    "        loss.backward()\n",
    "        optimizer.step()\n",
    "        optimizer.zero_grad()\n",
    "    print(f\"Epoch {epoch+1} selesai ✅\")\n"
   ]
  },
  {
   "cell_type": "code",
   "execution_count": 350,
   "id": "1c31c63b",
   "metadata": {},
   "outputs": [
    {
     "name": "stderr",
     "output_type": "stream",
     "text": [
      "C:\\Users\\71476\\AppData\\Local\\Temp\\ipykernel_19200\\1099362255.py:1: SettingWithCopyWarning: \n",
      "A value is trying to be set on a copy of a slice from a DataFrame.\n",
      "Try using .loc[row_indexer,col_indexer] = value instead\n",
      "\n",
      "See the caveats in the documentation: https://pandas.pydata.org/pandas-docs/stable/user_guide/indexing.html#returning-a-view-versus-a-copy\n",
      "  df_salah['combined_text'] = df_salah['Processed_Comments'] + ' rating_' + df_salah['Rating'].astype(str)\n"
     ]
    }
   ],
   "source": [
    "df_salah['combined_text'] = df_salah['Processed_Comments'] + ' rating_' + df_salah['Rating'].astype(str)\n"
   ]
  },
  {
   "cell_type": "code",
   "execution_count": 351,
   "id": "29ba5b3b",
   "metadata": {},
   "outputs": [
    {
     "name": "stderr",
     "output_type": "stream",
     "text": [
      "C:\\Users\\71476\\AppData\\Local\\Temp\\ipykernel_19200\\2594373928.py:1: SettingWithCopyWarning: \n",
      "A value is trying to be set on a copy of a slice from a DataFrame.\n",
      "Try using .loc[row_indexer,col_indexer] = value instead\n",
      "\n",
      "See the caveats in the documentation: https://pandas.pydata.org/pandas-docs/stable/user_guide/indexing.html#returning-a-view-versus-a-copy\n",
      "  df_salah['Manual_Label'] = ['positive', 'neutral', 'neutral', 'negative', 'negative',\n"
     ]
    }
   ],
   "source": [
    "df_salah['Manual_Label'] = ['positive', 'neutral', 'neutral', 'negative', 'negative',\n",
    "                            'neutral', 'negative', 'negative', 'positive', 'neutral',\n",
    "                            'neutral', 'negative', 'negative', 'neutral', 'neutral',\n",
    "                            'negative', 'negative', 'positive', 'positive', 'positive',\n",
    "                            'positive', 'neutral', 'negative', 'positive', 'negative']"
   ]
  },
  {
   "cell_type": "code",
   "execution_count": 352,
   "id": "cb3ae8d8",
   "metadata": {},
   "outputs": [
    {
     "name": "stderr",
     "output_type": "stream",
     "text": [
      "C:\\Users\\71476\\AppData\\Local\\Temp\\ipykernel_19200\\132984800.py:13: SettingWithCopyWarning: \n",
      "A value is trying to be set on a copy of a slice from a DataFrame.\n",
      "Try using .loc[row_indexer,col_indexer] = value instead\n",
      "\n",
      "See the caveats in the documentation: https://pandas.pydata.org/pandas-docs/stable/user_guide/indexing.html#returning-a-view-versus-a-copy\n",
      "  df_salah['Updated_Sentiment_Rating'] = le.inverse_transform(preds)\n"
     ]
    }
   ],
   "source": [
    "# Asumsikan model sudah dilatih dan tokenizer sudah siap\n",
    "\n",
    "# Tokenisasi komentar\n",
    "inputs = tokenizer(df_salah['Processed_Comments'].astype(str).tolist(), padding=True, truncation=True, return_tensors='pt').to(device)\n",
    "\n",
    "# Prediksi\n",
    "model.eval()\n",
    "with torch.no_grad():\n",
    "    outputs = model(**inputs)\n",
    "    preds = torch.argmax(outputs.logits, axis=1).cpu().numpy()\n",
    "\n",
    "# Decode label\n",
    "df_salah['Updated_Sentiment_Rating'] = le.inverse_transform(preds)\n"
   ]
  },
  {
   "cell_type": "code",
   "execution_count": 353,
   "id": "f48d29d1",
   "metadata": {},
   "outputs": [
    {
     "name": "stdout",
     "output_type": "stream",
     "text": [
      "['Rating', 'Category', 'Comments', 'Sentiment_Rating', 'Emotion_Label', 'Processed_Comments', 'Sentiment_Comments', 'Sentiment_Match', 'combined_text', 'Manual_Label', 'Updated_Sentiment_Rating']\n",
      "Manual_Label                0\n",
      "Updated_Sentiment_Rating    0\n",
      "dtype: int64\n",
      "Sama?\n",
      "False    16\n",
      "True      9\n",
      "Name: count, dtype: int64\n"
     ]
    },
    {
     "name": "stderr",
     "output_type": "stream",
     "text": [
      "C:\\Users\\71476\\AppData\\Local\\Temp\\ipykernel_19200\\244836714.py:8: SettingWithCopyWarning: \n",
      "A value is trying to be set on a copy of a slice from a DataFrame.\n",
      "Try using .loc[row_indexer,col_indexer] = value instead\n",
      "\n",
      "See the caveats in the documentation: https://pandas.pydata.org/pandas-docs/stable/user_guide/indexing.html#returning-a-view-versus-a-copy\n",
      "  df_salah['Manual_Label'] = df_salah['Manual_Label'].astype(str)\n",
      "C:\\Users\\71476\\AppData\\Local\\Temp\\ipykernel_19200\\244836714.py:9: SettingWithCopyWarning: \n",
      "A value is trying to be set on a copy of a slice from a DataFrame.\n",
      "Try using .loc[row_indexer,col_indexer] = value instead\n",
      "\n",
      "See the caveats in the documentation: https://pandas.pydata.org/pandas-docs/stable/user_guide/indexing.html#returning-a-view-versus-a-copy\n",
      "  df_salah['Updated_Sentiment_Rating'] = df_salah['Updated_Sentiment_Rating'].astype(str)\n",
      "C:\\Users\\71476\\AppData\\Local\\Temp\\ipykernel_19200\\244836714.py:12: SettingWithCopyWarning: \n",
      "A value is trying to be set on a copy of a slice from a DataFrame.\n",
      "Try using .loc[row_indexer,col_indexer] = value instead\n",
      "\n",
      "See the caveats in the documentation: https://pandas.pydata.org/pandas-docs/stable/user_guide/indexing.html#returning-a-view-versus-a-copy\n",
      "  df_salah['Sama?'] = df_salah['Manual_Label'] == df_salah['Updated_Sentiment_Rating']\n"
     ]
    }
   ],
   "source": [
    "# 1. Pastikan kolomnya ada\n",
    "print(df_salah.columns.tolist())\n",
    "\n",
    "# 2. Cek apakah ada nilai NaN\n",
    "print(df_salah[['Manual_Label', 'Updated_Sentiment_Rating']].isna().sum())\n",
    "\n",
    "# 3. Pastikan keduanya dalam format string\n",
    "df_salah['Manual_Label'] = df_salah['Manual_Label'].astype(str)\n",
    "df_salah['Updated_Sentiment_Rating'] = df_salah['Updated_Sentiment_Rating'].astype(str)\n",
    "\n",
    "# 4. Bandingkan hasilnya\n",
    "df_salah['Sama?'] = df_salah['Manual_Label'] == df_salah['Updated_Sentiment_Rating']\n",
    "\n",
    "# 5. Ringkasan hasil\n",
    "print(df_salah['Sama?'].value_counts())\n"
   ]
  },
  {
   "cell_type": "code",
   "execution_count": 354,
   "id": "012dde99",
   "metadata": {},
   "outputs": [
    {
     "name": "stderr",
     "output_type": "stream",
     "text": [
      "C:\\Users\\71476\\AppData\\Local\\Temp\\ipykernel_19200\\333382780.py:1: SettingWithCopyWarning: \n",
      "A value is trying to be set on a copy of a slice from a DataFrame.\n",
      "Try using .loc[row_indexer,col_indexer] = value instead\n",
      "\n",
      "See the caveats in the documentation: https://pandas.pydata.org/pandas-docs/stable/user_guide/indexing.html#returning-a-view-versus-a-copy\n",
      "  df_salah['Manual_Label'] = df_salah['Manual_Label'].astype(str)  # pastikan sama tipe data\n",
      "C:\\Users\\71476\\AppData\\Local\\Temp\\ipykernel_19200\\333382780.py:2: SettingWithCopyWarning: \n",
      "A value is trying to be set on a copy of a slice from a DataFrame.\n",
      "Try using .loc[row_indexer,col_indexer] = value instead\n",
      "\n",
      "See the caveats in the documentation: https://pandas.pydata.org/pandas-docs/stable/user_guide/indexing.html#returning-a-view-versus-a-copy\n",
      "  df_salah['Sama?'] = df_salah['Manual_Label'] == df_salah['Updated_Sentiment_Rating']\n"
     ]
    }
   ],
   "source": [
    "df_salah['Manual_Label'] = df_salah['Manual_Label'].astype(str)  # pastikan sama tipe data\n",
    "df_salah['Sama?'] = df_salah['Manual_Label'] == df_salah['Updated_Sentiment_Rating']\n"
   ]
  },
  {
   "cell_type": "code",
   "execution_count": 355,
   "id": "9407c75e",
   "metadata": {},
   "outputs": [
    {
     "data": {
      "application/vnd.microsoft.datawrangler.viewer.v0+json": {
       "columns": [
        {
         "name": "Sama?",
         "rawType": "bool",
         "type": "boolean"
        },
        {
         "name": "count",
         "rawType": "int64",
         "type": "integer"
        }
       ],
       "ref": "ddb0443b-d697-443c-bdd2-43b99565c0dd",
       "rows": [
        [
         "False",
         "16"
        ],
        [
         "True",
         "9"
        ]
       ],
       "shape": {
        "columns": 1,
        "rows": 2
       }
      },
      "text/plain": [
       "Sama?\n",
       "False    16\n",
       "True      9\n",
       "Name: count, dtype: int64"
      ]
     },
     "execution_count": 355,
     "metadata": {},
     "output_type": "execute_result"
    }
   ],
   "source": [
    "df_salah['Sama?'].value_counts()\n"
   ]
  },
  {
   "cell_type": "markdown",
   "id": "3d811b25",
   "metadata": {},
   "source": [
    "# Update Data"
   ]
  },
  {
   "cell_type": "code",
   "execution_count": 356,
   "id": "d474cb09",
   "metadata": {},
   "outputs": [],
   "source": [
    "df.loc[df_salah.index, 'Sentiment_Rating'] = df_salah['Updated_Sentiment_Rating']\n",
    "df.loc[df_salah.index, 'Sentiment_Match'] = df_salah['Sama?']"
   ]
  },
  {
   "cell_type": "code",
   "execution_count": 357,
   "id": "53abbcd5",
   "metadata": {},
   "outputs": [
    {
     "name": "stdout",
     "output_type": "stream",
     "text": [
      "Perbandingan hasil sentiment:\n",
      "Sentiment_Match\n",
      "True     229\n",
      "False     16\n",
      "Name: count, dtype: int64\n"
     ]
    }
   ],
   "source": [
    "# Buat kolom apakah hasilnya sama atau beda\n",
    "df_fix['Sentiment_Match'] = df['Sentiment_Rating'] == df['Sentiment_Comments']\n",
    "\n",
    "# Buat dataset baru jika mismatch\n",
    "mismatch_df_fix = df[df['Sentiment_Match'] == False]\n",
    "\n",
    "# Lihat jumlah perbandingan\n",
    "comparison_counts_fix = df['Sentiment_Match'].value_counts()\n",
    "print(\"Perbandingan hasil sentiment:\")\n",
    "print(comparison_counts_fix)"
   ]
  },
  {
   "cell_type": "code",
   "execution_count": null,
   "id": "f0769884",
   "metadata": {},
   "outputs": [],
   "source": [
    "df.to_csv('sisa16.csv', index=False)\n"
   ]
  },
  {
   "cell_type": "markdown",
   "id": "2c5b2342",
   "metadata": {},
   "source": [
    "# Memanggil Data dengan Label Terbaru"
   ]
  },
  {
   "cell_type": "code",
   "execution_count": 495,
   "id": "0b54c374",
   "metadata": {},
   "outputs": [],
   "source": [
    "import pandas as pd\n",
    "df_final = pd.read_csv(\"sisa16.csv\")\n"
   ]
  },
  {
   "cell_type": "code",
   "execution_count": 496,
   "id": "23ca370f",
   "metadata": {},
   "outputs": [
    {
     "data": {
      "application/vnd.microsoft.datawrangler.viewer.v0+json": {
       "columns": [
        {
         "name": "Sentiment_Match",
         "rawType": "bool",
         "type": "boolean"
        },
        {
         "name": "count",
         "rawType": "int64",
         "type": "integer"
        }
       ],
       "ref": "2502f253-8530-46ab-8e3f-7fd299ed6323",
       "rows": [
        [
         "True",
         "229"
        ],
        [
         "False",
         "16"
        ]
       ],
       "shape": {
        "columns": 1,
        "rows": 2
       }
      },
      "text/plain": [
       "Sentiment_Match\n",
       "True     229\n",
       "False     16\n",
       "Name: count, dtype: int64"
      ]
     },
     "execution_count": 496,
     "metadata": {},
     "output_type": "execute_result"
    }
   ],
   "source": [
    "df_final['Sentiment_Match'].value_counts()"
   ]
  },
  {
   "cell_type": "markdown",
   "id": "2b5fba6f",
   "metadata": {},
   "source": [
    "# Analisis Sentimen Kembali Menggunakan Regresi Logistik"
   ]
  },
  {
   "cell_type": "code",
   "execution_count": 497,
   "id": "a7cb7f1a",
   "metadata": {},
   "outputs": [],
   "source": [
    "df_train = df_final[df_final['Sentiment_Match'] == True].copy()\n",
    "df_salah = df_final[df_final['Sentiment_Match'] == False].copy()"
   ]
  },
  {
   "cell_type": "code",
   "execution_count": 498,
   "id": "f7d4af5d",
   "metadata": {},
   "outputs": [
    {
     "data": {
      "application/vnd.microsoft.datawrangler.viewer.v0+json": {
       "columns": [
        {
         "name": "index",
         "rawType": "int64",
         "type": "integer"
        },
        {
         "name": "Rating",
         "rawType": "float64",
         "type": "float"
        },
        {
         "name": "Category",
         "rawType": "object",
         "type": "string"
        },
        {
         "name": "Comments",
         "rawType": "object",
         "type": "string"
        },
        {
         "name": "Sentiment_Rating",
         "rawType": "object",
         "type": "string"
        },
        {
         "name": "Emotion_Label",
         "rawType": "object",
         "type": "string"
        },
        {
         "name": "Processed_Comments",
         "rawType": "object",
         "type": "unknown"
        },
        {
         "name": "Sentiment_Comments",
         "rawType": "object",
         "type": "string"
        },
        {
         "name": "Sentiment_Match",
         "rawType": "bool",
         "type": "boolean"
        }
       ],
       "ref": "c321d196-103f-41b7-bdfb-0951a946a940",
       "rows": [
        [
         "0",
         "4.0",
         "Display",
         "another midrange killer smartphone by xiaomi major highlights the redmi pro sports a inch fullhd display with a notch powered by the qualcomm snapdragon soc the phone is priced at rs for the gb ram variant start point battery of mah and its durability the tripple slots dual ai camera well in redmi series you will get different smartphones with different specs and from all of them redmi pro is most powerful and advanced as said by redmi india in their launch event xiaomi redmi pro design being the most premium phone of the new redmi family the redmi pro has been given somewhat better materials in the form of a metal backplate however the overall design isnt too different from what weve already seen from xiaomi at around this price point this is a fairly thick phone and its a bit hefty too but its manageable the buttons have good feedback without being noisy and on the left side you get a single tray which can hold two sim cards and a separate microsd card something worth noting is that the redmi pro does not support dual g volte which means that only one sim can connect to a g network at a time the placement of ports is good the mono speaker is on the bottom right so chances of blocking it when using the phone in landscape mode are slim the headphone socket is placed on the top and you also get an infrared ir emitter which can be used to control ir appliances through the mi remote app xiaomi redmi pro specifications and software the phone uses qualcomms snapdragon soc which is a couple of years old now but is still a capable chip for general tasks gaming performance isnt great as some popular games like pubg and asphalt default to the lowest graphics settings and even then gameplay isnt smooth our unit was running on a prerelease version of its miui software which prevented us from running most benchmarks storage options well i am impressed with the xiaomi as they provided triple slot in sim tray for nano sim one for sd card heating issues well i do not find any heating issues in this phone while playing games like pubg and asphalt camera in redmi pro the rear megapixel camera has a f aperture with pdaf autofocus was decently quick in good light theres autohdr which did a good job of balancing the exposure in our experience we observed good detail in landscape shots in daylight and colours were pleasing too the main sensor stumbled a bit with macros as it simply wasnt able to resolve finer detail the white balance was a bit of a hit or a miss in closeups and we often found ourselves having to taptofocus to get the white balance back on track saving hdr images takes a good couple of seconds in daylight i would be very happy if they have provided the flash in portrait mode still you can tap on torch icon to switch on the torch you will get the flash in portrait mode battery in redmi pro battery life is one of the strong suits of the redmi pro the mah battery easily lasted us a full day and a bit more on one charge playing heavy games didnt drain the battery too much either in a single round of pubg around minutes in which we survived till the very end we recorded a drop of around seven percent which is not bad in our internal video loop test we got a runtime of hours and minutes which is very good the redmi pro doesnt support fast charging but the bundled w adapter gave us roughly a percent charge in an hour and it took us roughly hours and minutes to charge it completely from zero well before buying this phone i have heard many issues regarding inbuilt advertisement in xiaomi devices and i checked that too in my previous xiaomi phone which i am using since years and actually i found inbuilt ads in those phones you will see ads in inbuilt developers apps like mi apps mi music mi videos security file manager themes sometimes you will see fullscreen ads which are really irritating for mi fans but there is a cooler way to stop those ads those who wanted to know contact me final verdict well for the people who want a notch display big battery and descent camera you they can buy this phone blindly suggestion for xiaomi india you should stop those inbuilt ads present in your devices because we customers dont find those ads valuable because we are not surfing any website where many ads are present so please stop it note pics included in this review are captured by redmi note",
         "positive",
         "satisfied",
         "anoth midrang killer smartphon xiaomi major highlight redmi pro sport inch fullhd display notch power qualcomm snapdragon soc phone price rs gb ram variant start point batteri mah durabl trippl slot dual ai camera well redmi seri get differ smartphon differ spec redmi pro power advanc said redmi india launch event xiaomi redmi pro design premium phone new redmi famili redmi pro given somewhat better materi form metal backplat howev overal design isnt differ weve alreadi seen xiaomi around price point fairli thick phone bit hefti manag button good feedback without noisi left side get singl tray hold two sim card separ microsd card someth worth note redmi pro support dual g volt mean one sim connect g network time placement port good mono speaker bottom right chanc block use phone landscap mode slim headphon socket place top also get infrar ir emitt use control ir applianc mi remot app xiaomi redmi pro specif softwar phone use qualcomm snapdragon soc coupl year old still capabl chip gener task game perform isnt great popular game like pubg asphalt default lowest graphic set even gameplay isnt smooth unit run prereleas version miui softwar prevent us run benchmark storag option well impress xiaomi provid tripl slot sim tray nano sim one sd card heat issu well find heat issu phone play game like pubg asphalt camera redmi pro rear megapixel camera f apertur pdaf autofocu decent quick good light there autohdr good job balanc exposur experi observ good detail landscap shot daylight colour pleas main sensor stumbl bit macro simpli wasnt abl resolv finer detail white balanc bit hit miss closeup often found taptofocu get white balanc back track save hdr imag take good coupl second daylight would happi provid flash portrait mode still tap torch icon switch torch get flash portrait mode batteri redmi pro batteri life one strong suit redmi pro mah batteri easili last us full day bit one charg play heavi game didnt drain batteri much either singl round pubg around minut surviv till end record drop around seven percent bad intern video loop test got runtim hour minut good redmi pro doesnt support fast charg bundl w adapt gave us roughli percent charg hour took us roughli hour minut charg complet zero well buy phone heard mani issu regard inbuilt advertis xiaomi devic check previou xiaomi phone use sinc year actual found inbuilt ad phone see ad inbuilt develop app like mi app mi music mi video secur file manag theme sometim see fullscreen ad realli irrit mi fan cooler way stop ad want know contact final verdict well peopl want notch display big batteri descent camera buy phone blindli suggest xiaomi india stop inbuilt ad present devic custom dont find ad valuabl surf websit mani ad present pleas stop note pic includ review captur redmi note",
         "positive",
         "True"
        ],
        [
         "1",
         "3.0",
         "Others",
         "all ok but vry small size mobile",
         "neutral",
         "mixed",
         "ok vri small size mobil",
         "neutral",
         "True"
        ],
        [
         "2",
         "3.0",
         "Others",
         "quite good",
         "positive",
         "satisfied",
         "quit good",
         "positive",
         "True"
        ],
        [
         "3",
         "5.0",
         "Display",
         "redmi has always have been the the king of budget segmentand yet another they gave us the redmi proits a beautifully designedstrong and durableand the camera is awesome just like the note prodisplay is crisp and the notch is in good shape means it does take whole screensound quality is clear and loudbut the headset experience is awesomethe battery is mah which is crazily optimizedin heavy useage it will give day and a half in normal useage it give daysand best thing is the inbuild mi sercurity which loaded with featuresyou dont need third security appsand the phone do charge little faster on its stock adapteratleast hrs and minsas its a qualcomm chipset verdict the base model is actually the value for money deal gb i have been using the redmi pro for weeks now this is totally tested",
         "positive",
         "satisfied",
         "redmi alway king budget segmentand yet anoth gave us redmi proit beauti designedstrong durableand camera awesom like note prodisplay crisp notch good shape mean take whole screensound qualiti clear loudbut headset experi awesometh batteri mah crazili optimizedin heavi useag give day half normal useag give daysand best thing inbuild mi sercur load featuresy dont need third secur appsand phone charg littl faster stock adapteratleast hr minsa qualcomm chipset verdict base model actual valu money deal gb use redmi pro week total test",
         "positive",
         "True"
        ],
        [
         "4",
         "2.0",
         "Others",
         "worst product from mi i am a hardcore fan of mi but this one really disappointing",
         "negative",
         "unsatisfied",
         "worst product mi hardcor fan mi one realli disappoint",
         "negative",
         "True"
        ],
        [
         "6",
         "4.0",
         "Display",
         "pros notch display dual camera face unlock mah battery cons some of the apps donot work in full screen mode no front flash great product to purchase finally and its value for moneyi got this phone for and thanks to xiaomi",
         "positive",
         "satisfied",
         "pro notch display dual camera face unlock mah batteri con app donot work full screen mode front flash great product purchas final valu moneyi got phone thank xiaomi",
         "positive",
         "True"
        ],
        [
         "7",
         "4.0",
         "Camera",
         "front camera is poor rest things are good",
         "positive",
         "satisfied",
         "front camera poor rest thing good",
         "positive",
         "True"
        ],
        [
         "8",
         "5.0",
         "Others",
         "wooo",
         "positive",
         "satisfied",
         "wooo",
         "positive",
         "True"
        ],
        [
         "9",
         "5.0",
         "Others",
         "realme is sub brand of oppo he give money to all techi youtubers including big ones and tell him to promote more realme but mi pro is much better than real me dont worry mi have given value for money as always",
         "positive",
         "satisfied",
         "realm sub brand oppo give money techi youtub includ big one tell promot realm mi pro much better real dont worri mi given valu money alway",
         "positive",
         "True"
        ],
        [
         "10",
         "5.0",
         "Others",
         "awesome product at this range",
         "positive",
         "satisfied",
         "awesom product rang",
         "positive",
         "True"
        ],
        [
         "11",
         "4.0",
         "Camera",
         "very nice looks smooth operation camera could have been better",
         "positive",
         "satisfied",
         "nice look smooth oper camera could better",
         "positive",
         "True"
        ],
        [
         "12",
         "4.0",
         "Others",
         "like every things but fullscreen video playing option is not available in default player",
         "positive",
         "satisfied",
         "like everi thing fullscreen video play option avail default player",
         "positive",
         "True"
        ],
        [
         "13",
         "1.0",
         "Others",
         "please dont buy these product i have mobile of mi but i did not face these type of issue mobile data getting on and off automatically same things are happening with wifi hotspot and bluetooth the handset behaving like cheap quality i think its duplicate or copy of original handset",
         "negative",
         "unsatisfied",
         "pleas dont buy product mobil mi face type issu mobil data get automat thing happen wifi hotspot bluetooth handset behav like cheap qualiti think duplic copi origin handset",
         "negative",
         "True"
        ],
        [
         "14",
         "5.0",
         "Battery",
         "thanks alot amazonecom sellerperfect product no compromise in quality good battery backupsmooth working no hanging problemno heating issueaccording to note dual camera working properlyproduct packing is perfect again thanks alot amazon sellerecom mi",
         "positive",
         "satisfied",
         "thank alot amazonecom sellerperfect product compromis qualiti good batteri backupsmooth work hang problemno heat issueaccord note dual camera work properlyproduct pack perfect thank alot amazon sellerecom mi",
         "positive",
         "True"
        ],
        [
         "15",
         "5.0",
         "Display",
         "no company can provide u these features pros awesome display great video stablisation great battery great performance looks beatifull cons okk front camera not very bad considering price",
         "positive",
         "satisfied",
         "compani provid u featur pro awesom display great video stablis great batteri great perform look beatiful con okk front camera bad consid price",
         "positive",
         "True"
        ],
        [
         "17",
         "3.0",
         "Camera",
         "camera clarity is not good and average mobile i purchased first time mi mobile but not good compare to expect",
         "neutral",
         "mixed",
         "camera clariti good averag mobil purchas first time mi mobil good compar expect",
         "neutral",
         "True"
        ],
        [
         "18",
         "5.0",
         "Display",
         "superb job by xiaomi handy phone not huge size not slippery better battery display processing speed overall its the best phone",
         "positive",
         "satisfied",
         "superb job xiaomi handi phone huge size slipperi better batteri display process speed overal best phone",
         "positive",
         "True"
        ],
        [
         "19",
         "5.0",
         "Display",
         "good phone at such a valuable price notch display value for money",
         "positive",
         "satisfied",
         "good phone valuabl price notch display valu money",
         "positive",
         "True"
        ],
        [
         "20",
         "5.0",
         "Others",
         "good phone",
         "positive",
         "satisfied",
         "good phone",
         "positive",
         "True"
        ],
        [
         "21",
         "5.0",
         "Others",
         "great product fully met my expectations",
         "positive",
         "satisfied",
         "great product fulli met expect",
         "positive",
         "True"
        ],
        [
         "22",
         "4.0",
         "Others",
         "good",
         "positive",
         "satisfied",
         "good",
         "positive",
         "True"
        ],
        [
         "23",
         "1.0",
         "Others",
         "do not buy",
         "negative",
         "unsatisfied",
         "buy",
         "negative",
         "True"
        ],
        [
         "25",
         "5.0",
         "Others",
         "very good phone of this budgetred colour very beautiful",
         "positive",
         "satisfied",
         "good phone budgetr colour beauti",
         "positive",
         "True"
        ],
        [
         "26",
         "4.0",
         "Delivery",
         "nice product delivery guy also",
         "positive",
         "satisfied",
         "nice product deliveri guy also",
         "positive",
         "True"
        ],
        [
         "28",
         "4.0",
         "Battery",
         "good phone in budget good camerabattery and performance for normal use call sound is very good",
         "positive",
         "satisfied",
         "good phone budget good camerabatteri perform normal use call sound good",
         "positive",
         "True"
        ],
        [
         "30",
         "4.0",
         "Battery",
         "nice mobile battery backup is good camera gud one limitation is front camera no slim light weight mobile",
         "positive",
         "satisfied",
         "nice mobil batteri backup good camera gud one limit front camera slim light weight mobil",
         "positive",
         "True"
        ],
        [
         "31",
         "4.0",
         "Display",
         "like everything besides display",
         "positive",
         "satisfied",
         "like everyth besid display",
         "positive",
         "True"
        ],
        [
         "32",
         "3.0",
         "Others",
         "a bit pricey compared to the competitors nice and sleek body feels good on hand overall performance is good enough less heat compered to mi redmi devices",
         "neutral",
         "mixed",
         "bit pricey compar competitor nice sleek bodi feel good hand overal perform good enough less heat comper mi redmi devic",
         "neutral",
         "True"
        ],
        [
         "34",
         "4.0",
         "Camera",
         "worth the price no hybrid slim slot very good point front camera is poor only mp and the handset is too heavy in weight handy phone small size full screen",
         "positive",
         "satisfied",
         "worth price hybrid slim slot good point front camera poor mp handset heavi weight handi phone small size full screen",
         "positive",
         "True"
        ],
        [
         "35",
         "1.0",
         "Others",
         "worst phone from mi and amazon touch was not good and didnot working as expected without touching the screen click is happening and unnecessary apps are opening",
         "negative",
         "unsatisfied",
         "worst phone mi amazon touch good didnot work expect without touch screen click happen unnecessari app open",
         "negative",
         "True"
        ],
        [
         "37",
         "1.0",
         "Others",
         "i have purchsed this item and two jio sim are not working togeher but in specification it is given that it supports dual g sim what is this please dove my problem",
         "negative",
         "unsatisfied",
         "purchs item two jio sim work togeh specif given support dual g sim pleas dove problem",
         "negative",
         "True"
        ],
        [
         "38",
         "5.0",
         "Display",
         "this product is very nice and battery life and notch display is very awesome",
         "positive",
         "satisfied",
         "product nice batteri life notch display awesom",
         "positive",
         "True"
        ],
        [
         "39",
         "5.0",
         "Battery",
         "its very fantastic awesome mobile and nice sound quality awesome camera nice battery life awesome look but i think its small size",
         "positive",
         "satisfied",
         "fantast awesom mobil nice sound qualiti awesom camera nice batteri life awesom look think small size",
         "positive",
         "True"
        ],
        [
         "40",
         "5.0",
         "Display",
         "battery life is awesome including display is too good fast charging makes it extremely well good value for money",
         "positive",
         "satisfied",
         "batteri life awesom includ display good fast charg make extrem well good valu money",
         "positive",
         "True"
        ],
        [
         "41",
         "3.0",
         "Others",
         "good phone but not value for money prefer redmi note over this but was not in stock since last months",
         "neutral",
         "mixed",
         "good phone valu money prefer redmi note stock sinc last month",
         "neutral",
         "True"
        ],
        [
         "42",
         "4.0",
         "Battery",
         "works pretty good for a budget phone battery life is amazing but camera is a let down finger print is very fast",
         "positive",
         "satisfied",
         "work pretti good budget phone batteri life amaz camera let finger print fast",
         "positive",
         "True"
        ],
        [
         "43",
         "5.0",
         "Delivery",
         "charger not received in the box",
         "positive",
         "satisfied",
         "charger receiv box",
         "positive",
         "True"
        ],
        [
         "44",
         "5.0",
         "Others",
         "width is little less still good phone face unlock and finger print unlocks are awasome",
         "positive",
         "satisfied",
         "width littl less still good phone face unlock finger print unlock awasom",
         "positive",
         "True"
        ],
        [
         "45",
         "5.0",
         "Others",
         "nice",
         "positive",
         "satisfied",
         "nice",
         "positive",
         "True"
        ],
        [
         "46",
         "5.0",
         "Others",
         "redmi is always good for me and redmi pro performance is very good and good bettry backup",
         "positive",
         "satisfied",
         "redmi alway good redmi pro perform good good bettri backup",
         "positive",
         "True"
        ],
        [
         "47",
         "5.0",
         "Others",
         "midrange phone with a notchand brand like mi aur kya chahiye",
         "positive",
         "satisfied",
         "midrang phone notchand brand like mi aur kya chahiy",
         "positive",
         "True"
        ],
        [
         "48",
         "1.0",
         "Others",
         "disapointing",
         "negative",
         "unsatisfied",
         "disapoint",
         "negative",
         "True"
        ],
        [
         "49",
         "1.0",
         "Others",
         "worst phone",
         "negative",
         "unsatisfied",
         "worst phone",
         "negative",
         "True"
        ],
        [
         "50",
         "5.0",
         "Delivery",
         "powerful device i love mi thnax amazon for quick delivery",
         "positive",
         "satisfied",
         "power devic love mi thnax amazon quick deliveri",
         "positive",
         "True"
        ],
        [
         "51",
         "1.0",
         "Others",
         "ok",
         "positive",
         "satisfied",
         "ok",
         "positive",
         "True"
        ],
        [
         "52",
         "5.0",
         "Others",
         "top class device no words",
         "positive",
         "satisfied",
         "top class devic word",
         "positive",
         "True"
        ],
        [
         "53",
         "4.0",
         "Others",
         "mobile is good also service of amazon is better than other like paytm",
         "positive",
         "satisfied",
         "mobil good also servic amazon better like paytm",
         "positive",
         "True"
        ],
        [
         "54",
         "5.0",
         "Camera",
         "i love amezon good packing good product camera battry good",
         "positive",
         "satisfied",
         "love amezon good pack good product camera battri good",
         "positive",
         "True"
        ],
        [
         "55",
         "5.0",
         "Others",
         "sup up model in mi thank u low price best features available",
         "positive",
         "satisfied",
         "sup model mi thank u low price best featur avail",
         "positive",
         "True"
        ],
        [
         "56",
         "5.0",
         "Others",
         "one of the best in the price range",
         "positive",
         "satisfied",
         "one best price rang",
         "positive",
         "True"
        ]
       ],
       "shape": {
        "columns": 8,
        "rows": 229
       }
      },
      "text/html": [
       "<div>\n",
       "<style scoped>\n",
       "    .dataframe tbody tr th:only-of-type {\n",
       "        vertical-align: middle;\n",
       "    }\n",
       "\n",
       "    .dataframe tbody tr th {\n",
       "        vertical-align: top;\n",
       "    }\n",
       "\n",
       "    .dataframe thead th {\n",
       "        text-align: right;\n",
       "    }\n",
       "</style>\n",
       "<table border=\"1\" class=\"dataframe\">\n",
       "  <thead>\n",
       "    <tr style=\"text-align: right;\">\n",
       "      <th></th>\n",
       "      <th>Rating</th>\n",
       "      <th>Category</th>\n",
       "      <th>Comments</th>\n",
       "      <th>Sentiment_Rating</th>\n",
       "      <th>Emotion_Label</th>\n",
       "      <th>Processed_Comments</th>\n",
       "      <th>Sentiment_Comments</th>\n",
       "      <th>Sentiment_Match</th>\n",
       "    </tr>\n",
       "  </thead>\n",
       "  <tbody>\n",
       "    <tr>\n",
       "      <th>0</th>\n",
       "      <td>4.0</td>\n",
       "      <td>Display</td>\n",
       "      <td>another midrange killer smartphone by xiaomi m...</td>\n",
       "      <td>positive</td>\n",
       "      <td>satisfied</td>\n",
       "      <td>anoth midrang killer smartphon xiaomi major hi...</td>\n",
       "      <td>positive</td>\n",
       "      <td>True</td>\n",
       "    </tr>\n",
       "    <tr>\n",
       "      <th>1</th>\n",
       "      <td>3.0</td>\n",
       "      <td>Others</td>\n",
       "      <td>all ok but vry small size mobile</td>\n",
       "      <td>neutral</td>\n",
       "      <td>mixed</td>\n",
       "      <td>ok vri small size mobil</td>\n",
       "      <td>neutral</td>\n",
       "      <td>True</td>\n",
       "    </tr>\n",
       "    <tr>\n",
       "      <th>2</th>\n",
       "      <td>3.0</td>\n",
       "      <td>Others</td>\n",
       "      <td>quite good</td>\n",
       "      <td>positive</td>\n",
       "      <td>satisfied</td>\n",
       "      <td>quit good</td>\n",
       "      <td>positive</td>\n",
       "      <td>True</td>\n",
       "    </tr>\n",
       "    <tr>\n",
       "      <th>3</th>\n",
       "      <td>5.0</td>\n",
       "      <td>Display</td>\n",
       "      <td>redmi has always have been the the king of bud...</td>\n",
       "      <td>positive</td>\n",
       "      <td>satisfied</td>\n",
       "      <td>redmi alway king budget segmentand yet anoth g...</td>\n",
       "      <td>positive</td>\n",
       "      <td>True</td>\n",
       "    </tr>\n",
       "    <tr>\n",
       "      <th>4</th>\n",
       "      <td>2.0</td>\n",
       "      <td>Others</td>\n",
       "      <td>worst product from mi i am a hardcore fan of m...</td>\n",
       "      <td>negative</td>\n",
       "      <td>unsatisfied</td>\n",
       "      <td>worst product mi hardcor fan mi one realli dis...</td>\n",
       "      <td>negative</td>\n",
       "      <td>True</td>\n",
       "    </tr>\n",
       "    <tr>\n",
       "      <th>...</th>\n",
       "      <td>...</td>\n",
       "      <td>...</td>\n",
       "      <td>...</td>\n",
       "      <td>...</td>\n",
       "      <td>...</td>\n",
       "      <td>...</td>\n",
       "      <td>...</td>\n",
       "      <td>...</td>\n",
       "    </tr>\n",
       "    <tr>\n",
       "      <th>240</th>\n",
       "      <td>5.0</td>\n",
       "      <td>Others</td>\n",
       "      <td>i like this phone awesome look and design im u...</td>\n",
       "      <td>positive</td>\n",
       "      <td>satisfied</td>\n",
       "      <td>like phone awesom look design im use phone</td>\n",
       "      <td>positive</td>\n",
       "      <td>True</td>\n",
       "    </tr>\n",
       "    <tr>\n",
       "      <th>241</th>\n",
       "      <td>4.0</td>\n",
       "      <td>Others</td>\n",
       "      <td>product is avasome but invoice is note include</td>\n",
       "      <td>positive</td>\n",
       "      <td>satisfied</td>\n",
       "      <td>product avasom invoic note includ</td>\n",
       "      <td>positive</td>\n",
       "      <td>True</td>\n",
       "    </tr>\n",
       "    <tr>\n",
       "      <th>242</th>\n",
       "      <td>3.0</td>\n",
       "      <td>Battery</td>\n",
       "      <td>redmi note note now proit seems the older the ...</td>\n",
       "      <td>negative</td>\n",
       "      <td>satisfied</td>\n",
       "      <td>redmi note note proit seem older model better ...</td>\n",
       "      <td>positive</td>\n",
       "      <td>True</td>\n",
       "    </tr>\n",
       "    <tr>\n",
       "      <th>243</th>\n",
       "      <td>5.0</td>\n",
       "      <td>Others</td>\n",
       "      <td>i love mi</td>\n",
       "      <td>positive</td>\n",
       "      <td>satisfied</td>\n",
       "      <td>love mi</td>\n",
       "      <td>positive</td>\n",
       "      <td>True</td>\n",
       "    </tr>\n",
       "    <tr>\n",
       "      <th>244</th>\n",
       "      <td>1.0</td>\n",
       "      <td>Camera</td>\n",
       "      <td>same old configurations with higher price not ...</td>\n",
       "      <td>negative</td>\n",
       "      <td>unsatisfied</td>\n",
       "      <td>old configur higher price worth money camera q...</td>\n",
       "      <td>negative</td>\n",
       "      <td>True</td>\n",
       "    </tr>\n",
       "  </tbody>\n",
       "</table>\n",
       "<p>229 rows × 8 columns</p>\n",
       "</div>"
      ],
      "text/plain": [
       "     Rating Category                                           Comments  \\\n",
       "0       4.0  Display  another midrange killer smartphone by xiaomi m...   \n",
       "1       3.0   Others                   all ok but vry small size mobile   \n",
       "2       3.0   Others                                         quite good   \n",
       "3       5.0  Display  redmi has always have been the the king of bud...   \n",
       "4       2.0   Others  worst product from mi i am a hardcore fan of m...   \n",
       "..      ...      ...                                                ...   \n",
       "240     5.0   Others  i like this phone awesome look and design im u...   \n",
       "241     4.0   Others     product is avasome but invoice is note include   \n",
       "242     3.0  Battery  redmi note note now proit seems the older the ...   \n",
       "243     5.0   Others                                          i love mi   \n",
       "244     1.0   Camera  same old configurations with higher price not ...   \n",
       "\n",
       "    Sentiment_Rating Emotion_Label  \\\n",
       "0           positive     satisfied   \n",
       "1            neutral         mixed   \n",
       "2           positive     satisfied   \n",
       "3           positive     satisfied   \n",
       "4           negative   unsatisfied   \n",
       "..               ...           ...   \n",
       "240         positive     satisfied   \n",
       "241         positive     satisfied   \n",
       "242         negative     satisfied   \n",
       "243         positive     satisfied   \n",
       "244         negative   unsatisfied   \n",
       "\n",
       "                                    Processed_Comments Sentiment_Comments  \\\n",
       "0    anoth midrang killer smartphon xiaomi major hi...           positive   \n",
       "1                              ok vri small size mobil            neutral   \n",
       "2                                            quit good           positive   \n",
       "3    redmi alway king budget segmentand yet anoth g...           positive   \n",
       "4    worst product mi hardcor fan mi one realli dis...           negative   \n",
       "..                                                 ...                ...   \n",
       "240         like phone awesom look design im use phone           positive   \n",
       "241                  product avasom invoic note includ           positive   \n",
       "242  redmi note note proit seem older model better ...           positive   \n",
       "243                                            love mi           positive   \n",
       "244  old configur higher price worth money camera q...           negative   \n",
       "\n",
       "     Sentiment_Match  \n",
       "0               True  \n",
       "1               True  \n",
       "2               True  \n",
       "3               True  \n",
       "4               True  \n",
       "..               ...  \n",
       "240             True  \n",
       "241             True  \n",
       "242             True  \n",
       "243             True  \n",
       "244             True  \n",
       "\n",
       "[229 rows x 8 columns]"
      ]
     },
     "execution_count": 498,
     "metadata": {},
     "output_type": "execute_result"
    }
   ],
   "source": [
    "df_train"
   ]
  },
  {
   "cell_type": "code",
   "execution_count": 499,
   "id": "ee0e4f6f",
   "metadata": {},
   "outputs": [
    {
     "data": {
      "application/vnd.microsoft.datawrangler.viewer.v0+json": {
       "columns": [
        {
         "name": "index",
         "rawType": "int64",
         "type": "integer"
        },
        {
         "name": "Rating",
         "rawType": "float64",
         "type": "float"
        },
        {
         "name": "Category",
         "rawType": "object",
         "type": "string"
        },
        {
         "name": "Comments",
         "rawType": "object",
         "type": "string"
        },
        {
         "name": "Sentiment_Rating",
         "rawType": "object",
         "type": "string"
        },
        {
         "name": "Emotion_Label",
         "rawType": "object",
         "type": "string"
        },
        {
         "name": "Processed_Comments",
         "rawType": "object",
         "type": "string"
        },
        {
         "name": "Sentiment_Comments",
         "rawType": "object",
         "type": "string"
        },
        {
         "name": "Sentiment_Match",
         "rawType": "bool",
         "type": "boolean"
        }
       ],
       "ref": "3268c416-cec4-4945-b7db-a36f96c15e43",
       "rows": [
        [
         "5",
         "3.0",
         "Display",
         "over prised by at least around rs low light photos are bad only one sim support volte good things are best sound good display smooth touch excellent battery life management compact nice photos and videos under good light it never gets over heated while using or charging i dont play games i like miui i have already redmi a rsonly using for more than months working superbly i have good opinion about redmi mobiles",
         "positive",
         "satisfied",
         "prise least around rs low light photo bad one sim support volt good thing best sound good display smooth touch excel batteri life manag compact nice photo video good light never get heat use charg dont play game like miui alreadi redmi rsonli use month work superbl good opinion redmi mobil",
         "positive",
         "False"
        ],
        [
         "16",
         "3.0",
         "Others",
         "the product is great with quite good features i am great fan of xiaomi and i have been always using xiaomi phones but i am disappointed with mobile designing of xiaomi as most of all the lower range and mid range phones have same design xiaomi always being giving with so many features but being realme entering in market xiaomi has to be more creative to attract more indian customers",
         "positive",
         "satisfied",
         "product great quit good featur great fan xiaomi alway use xiaomi phone disappoint mobil design xiaomi lower rang mid rang phone design xiaomi alway give mani featur realm enter market xiaomi creativ attract indian custom",
         "positive",
         "False"
        ],
        [
         "24",
         "2.0",
         "Others",
         "no dual g if you think new mobile you buy realme",
         "positive",
         "satisfied",
         "dual g think new mobil buy realm",
         "positive",
         "False"
        ],
        [
         "27",
         "2.0",
         "Camera",
         "bad camera quality and heating problem",
         "positive",
         "satisfied",
         "bad camera qualiti heat problem",
         "positive",
         "False"
        ],
        [
         "29",
         "3.0",
         "Battery",
         "awesome sound quality battery life is good gaming is good no lags there very poor camera if you r buying for a camera phone the m this is not the one moto mp camera works better than this",
         "positive",
         "satisfied",
         "awesom sound qualiti batteri life good game good lag poor camera r buy camera phone one moto mp camera work better",
         "positive",
         "False"
        ],
        [
         "33",
         "1.0",
         "Battery",
         "please dontt bye camera is good but battery back up not good",
         "positive",
         "satisfied",
         "pleas dontt bye camera good batteri back good",
         "positive",
         "False"
        ],
        [
         "36",
         "1.0",
         "Camera",
         "both camera quality is bedits price is too high and quality are lowest",
         "positive",
         "satisfied",
         "camera qualiti bedit price high qualiti lowest",
         "positive",
         "False"
        ],
        [
         "61",
         "3.0",
         "Others",
         "sound quality is not so good either way the mobile best in its segment",
         "positive",
         "satisfied",
         "sound qualiti good either way mobil best segment",
         "positive",
         "False"
        ],
        [
         "63",
         "1.0",
         "Battery",
         "sometimes automatically speaker on and little hanging problem camera battery good",
         "positive",
         "satisfied",
         "sometim automat speaker littl hang problem camera batteri good",
         "positive",
         "False"
        ],
        [
         "76",
         "3.0",
         "Others",
         "sound qulity not dolby and processor performance not ok",
         "positive",
         "satisfied",
         "sound quliti dolbi processor perform ok",
         "positive",
         "False"
        ],
        [
         "91",
         "4.0",
         "Others",
         "i didnt get discount buy through hdfc bank",
         "negative",
         "unsatisfied",
         "didnt get discount buy hdfc bank",
         "negative",
         "False"
        ],
        [
         "109",
         "3.0",
         "Others",
         "average",
         "positive",
         "satisfied",
         "averag",
         "positive",
         "False"
        ],
        [
         "111",
         "1.0",
         "Others",
         "out of only speaker is working from day",
         "positive",
         "satisfied",
         "speaker work day",
         "positive",
         "False"
        ],
        [
         "115",
         "3.0",
         "Others",
         "poor",
         "positive",
         "satisfied",
         "poor",
         "positive",
         "False"
        ],
        [
         "212",
         "2.0",
         "Others",
         "overall phone seems to be good with performance perspective under this range category do not buy if you are looking for wider screen and thinner phone i felt y would have been better choice in the same range which i already brought one for the family not satisfied with the looks screen size and it is a fatty phone",
         "positive",
         "satisfied",
         "overal phone seem good perform perspect rang categori buy look wider screen thinner phone felt would better choic rang alreadi brought one famili satisfi look screen size fatti phone",
         "positive",
         "False"
        ],
        [
         "238",
         "1.0",
         "Battery",
         "charging issue lagging issue hanging issue multiple issue",
         "positive",
         "satisfied",
         "charg issu lag issu hang issu multipl issu",
         "positive",
         "False"
        ]
       ],
       "shape": {
        "columns": 8,
        "rows": 16
       }
      },
      "text/html": [
       "<div>\n",
       "<style scoped>\n",
       "    .dataframe tbody tr th:only-of-type {\n",
       "        vertical-align: middle;\n",
       "    }\n",
       "\n",
       "    .dataframe tbody tr th {\n",
       "        vertical-align: top;\n",
       "    }\n",
       "\n",
       "    .dataframe thead th {\n",
       "        text-align: right;\n",
       "    }\n",
       "</style>\n",
       "<table border=\"1\" class=\"dataframe\">\n",
       "  <thead>\n",
       "    <tr style=\"text-align: right;\">\n",
       "      <th></th>\n",
       "      <th>Rating</th>\n",
       "      <th>Category</th>\n",
       "      <th>Comments</th>\n",
       "      <th>Sentiment_Rating</th>\n",
       "      <th>Emotion_Label</th>\n",
       "      <th>Processed_Comments</th>\n",
       "      <th>Sentiment_Comments</th>\n",
       "      <th>Sentiment_Match</th>\n",
       "    </tr>\n",
       "  </thead>\n",
       "  <tbody>\n",
       "    <tr>\n",
       "      <th>5</th>\n",
       "      <td>3.0</td>\n",
       "      <td>Display</td>\n",
       "      <td>over prised by at least around rs low light ph...</td>\n",
       "      <td>positive</td>\n",
       "      <td>satisfied</td>\n",
       "      <td>prise least around rs low light photo bad one ...</td>\n",
       "      <td>positive</td>\n",
       "      <td>False</td>\n",
       "    </tr>\n",
       "    <tr>\n",
       "      <th>16</th>\n",
       "      <td>3.0</td>\n",
       "      <td>Others</td>\n",
       "      <td>the product is great with quite good features ...</td>\n",
       "      <td>positive</td>\n",
       "      <td>satisfied</td>\n",
       "      <td>product great quit good featur great fan xiaom...</td>\n",
       "      <td>positive</td>\n",
       "      <td>False</td>\n",
       "    </tr>\n",
       "    <tr>\n",
       "      <th>24</th>\n",
       "      <td>2.0</td>\n",
       "      <td>Others</td>\n",
       "      <td>no dual g if you think new mobile you buy realme</td>\n",
       "      <td>positive</td>\n",
       "      <td>satisfied</td>\n",
       "      <td>dual g think new mobil buy realm</td>\n",
       "      <td>positive</td>\n",
       "      <td>False</td>\n",
       "    </tr>\n",
       "    <tr>\n",
       "      <th>27</th>\n",
       "      <td>2.0</td>\n",
       "      <td>Camera</td>\n",
       "      <td>bad camera quality and heating problem</td>\n",
       "      <td>positive</td>\n",
       "      <td>satisfied</td>\n",
       "      <td>bad camera qualiti heat problem</td>\n",
       "      <td>positive</td>\n",
       "      <td>False</td>\n",
       "    </tr>\n",
       "    <tr>\n",
       "      <th>29</th>\n",
       "      <td>3.0</td>\n",
       "      <td>Battery</td>\n",
       "      <td>awesome sound quality battery life is good gam...</td>\n",
       "      <td>positive</td>\n",
       "      <td>satisfied</td>\n",
       "      <td>awesom sound qualiti batteri life good game go...</td>\n",
       "      <td>positive</td>\n",
       "      <td>False</td>\n",
       "    </tr>\n",
       "    <tr>\n",
       "      <th>33</th>\n",
       "      <td>1.0</td>\n",
       "      <td>Battery</td>\n",
       "      <td>please dontt bye camera is good but battery ba...</td>\n",
       "      <td>positive</td>\n",
       "      <td>satisfied</td>\n",
       "      <td>pleas dontt bye camera good batteri back good</td>\n",
       "      <td>positive</td>\n",
       "      <td>False</td>\n",
       "    </tr>\n",
       "    <tr>\n",
       "      <th>36</th>\n",
       "      <td>1.0</td>\n",
       "      <td>Camera</td>\n",
       "      <td>both camera quality is bedits price is too hig...</td>\n",
       "      <td>positive</td>\n",
       "      <td>satisfied</td>\n",
       "      <td>camera qualiti bedit price high qualiti lowest</td>\n",
       "      <td>positive</td>\n",
       "      <td>False</td>\n",
       "    </tr>\n",
       "    <tr>\n",
       "      <th>61</th>\n",
       "      <td>3.0</td>\n",
       "      <td>Others</td>\n",
       "      <td>sound quality is not so good either way the mo...</td>\n",
       "      <td>positive</td>\n",
       "      <td>satisfied</td>\n",
       "      <td>sound qualiti good either way mobil best segment</td>\n",
       "      <td>positive</td>\n",
       "      <td>False</td>\n",
       "    </tr>\n",
       "    <tr>\n",
       "      <th>63</th>\n",
       "      <td>1.0</td>\n",
       "      <td>Battery</td>\n",
       "      <td>sometimes automatically speaker on and little ...</td>\n",
       "      <td>positive</td>\n",
       "      <td>satisfied</td>\n",
       "      <td>sometim automat speaker littl hang problem cam...</td>\n",
       "      <td>positive</td>\n",
       "      <td>False</td>\n",
       "    </tr>\n",
       "    <tr>\n",
       "      <th>76</th>\n",
       "      <td>3.0</td>\n",
       "      <td>Others</td>\n",
       "      <td>sound qulity not dolby and processor performan...</td>\n",
       "      <td>positive</td>\n",
       "      <td>satisfied</td>\n",
       "      <td>sound quliti dolbi processor perform ok</td>\n",
       "      <td>positive</td>\n",
       "      <td>False</td>\n",
       "    </tr>\n",
       "    <tr>\n",
       "      <th>91</th>\n",
       "      <td>4.0</td>\n",
       "      <td>Others</td>\n",
       "      <td>i didnt get discount buy through hdfc bank</td>\n",
       "      <td>negative</td>\n",
       "      <td>unsatisfied</td>\n",
       "      <td>didnt get discount buy hdfc bank</td>\n",
       "      <td>negative</td>\n",
       "      <td>False</td>\n",
       "    </tr>\n",
       "    <tr>\n",
       "      <th>109</th>\n",
       "      <td>3.0</td>\n",
       "      <td>Others</td>\n",
       "      <td>average</td>\n",
       "      <td>positive</td>\n",
       "      <td>satisfied</td>\n",
       "      <td>averag</td>\n",
       "      <td>positive</td>\n",
       "      <td>False</td>\n",
       "    </tr>\n",
       "    <tr>\n",
       "      <th>111</th>\n",
       "      <td>1.0</td>\n",
       "      <td>Others</td>\n",
       "      <td>out of only speaker is working from day</td>\n",
       "      <td>positive</td>\n",
       "      <td>satisfied</td>\n",
       "      <td>speaker work day</td>\n",
       "      <td>positive</td>\n",
       "      <td>False</td>\n",
       "    </tr>\n",
       "    <tr>\n",
       "      <th>115</th>\n",
       "      <td>3.0</td>\n",
       "      <td>Others</td>\n",
       "      <td>poor</td>\n",
       "      <td>positive</td>\n",
       "      <td>satisfied</td>\n",
       "      <td>poor</td>\n",
       "      <td>positive</td>\n",
       "      <td>False</td>\n",
       "    </tr>\n",
       "    <tr>\n",
       "      <th>212</th>\n",
       "      <td>2.0</td>\n",
       "      <td>Others</td>\n",
       "      <td>overall phone seems to be good with performanc...</td>\n",
       "      <td>positive</td>\n",
       "      <td>satisfied</td>\n",
       "      <td>overal phone seem good perform perspect rang c...</td>\n",
       "      <td>positive</td>\n",
       "      <td>False</td>\n",
       "    </tr>\n",
       "    <tr>\n",
       "      <th>238</th>\n",
       "      <td>1.0</td>\n",
       "      <td>Battery</td>\n",
       "      <td>charging issue lagging issue hanging issue mul...</td>\n",
       "      <td>positive</td>\n",
       "      <td>satisfied</td>\n",
       "      <td>charg issu lag issu hang issu multipl issu</td>\n",
       "      <td>positive</td>\n",
       "      <td>False</td>\n",
       "    </tr>\n",
       "  </tbody>\n",
       "</table>\n",
       "</div>"
      ],
      "text/plain": [
       "     Rating Category                                           Comments  \\\n",
       "5       3.0  Display  over prised by at least around rs low light ph...   \n",
       "16      3.0   Others  the product is great with quite good features ...   \n",
       "24      2.0   Others   no dual g if you think new mobile you buy realme   \n",
       "27      2.0   Camera             bad camera quality and heating problem   \n",
       "29      3.0  Battery  awesome sound quality battery life is good gam...   \n",
       "33      1.0  Battery  please dontt bye camera is good but battery ba...   \n",
       "36      1.0   Camera  both camera quality is bedits price is too hig...   \n",
       "61      3.0   Others  sound quality is not so good either way the mo...   \n",
       "63      1.0  Battery  sometimes automatically speaker on and little ...   \n",
       "76      3.0   Others  sound qulity not dolby and processor performan...   \n",
       "91      4.0   Others         i didnt get discount buy through hdfc bank   \n",
       "109     3.0   Others                                            average   \n",
       "111     1.0   Others            out of only speaker is working from day   \n",
       "115     3.0   Others                                               poor   \n",
       "212     2.0   Others  overall phone seems to be good with performanc...   \n",
       "238     1.0  Battery  charging issue lagging issue hanging issue mul...   \n",
       "\n",
       "    Sentiment_Rating Emotion_Label  \\\n",
       "5           positive     satisfied   \n",
       "16          positive     satisfied   \n",
       "24          positive     satisfied   \n",
       "27          positive     satisfied   \n",
       "29          positive     satisfied   \n",
       "33          positive     satisfied   \n",
       "36          positive     satisfied   \n",
       "61          positive     satisfied   \n",
       "63          positive     satisfied   \n",
       "76          positive     satisfied   \n",
       "91          negative   unsatisfied   \n",
       "109         positive     satisfied   \n",
       "111         positive     satisfied   \n",
       "115         positive     satisfied   \n",
       "212         positive     satisfied   \n",
       "238         positive     satisfied   \n",
       "\n",
       "                                    Processed_Comments Sentiment_Comments  \\\n",
       "5    prise least around rs low light photo bad one ...           positive   \n",
       "16   product great quit good featur great fan xiaom...           positive   \n",
       "24                    dual g think new mobil buy realm           positive   \n",
       "27                     bad camera qualiti heat problem           positive   \n",
       "29   awesom sound qualiti batteri life good game go...           positive   \n",
       "33       pleas dontt bye camera good batteri back good           positive   \n",
       "36      camera qualiti bedit price high qualiti lowest           positive   \n",
       "61    sound qualiti good either way mobil best segment           positive   \n",
       "63   sometim automat speaker littl hang problem cam...           positive   \n",
       "76             sound quliti dolbi processor perform ok           positive   \n",
       "91                    didnt get discount buy hdfc bank           negative   \n",
       "109                                             averag           positive   \n",
       "111                                   speaker work day           positive   \n",
       "115                                               poor           positive   \n",
       "212  overal phone seem good perform perspect rang c...           positive   \n",
       "238         charg issu lag issu hang issu multipl issu           positive   \n",
       "\n",
       "     Sentiment_Match  \n",
       "5              False  \n",
       "16             False  \n",
       "24             False  \n",
       "27             False  \n",
       "29             False  \n",
       "33             False  \n",
       "36             False  \n",
       "61             False  \n",
       "63             False  \n",
       "76             False  \n",
       "91             False  \n",
       "109            False  \n",
       "111            False  \n",
       "115            False  \n",
       "212            False  \n",
       "238            False  "
      ]
     },
     "execution_count": 499,
     "metadata": {},
     "output_type": "execute_result"
    }
   ],
   "source": [
    "df_salah"
   ]
  },
  {
   "cell_type": "code",
   "execution_count": 500,
   "id": "45a5a6f1",
   "metadata": {},
   "outputs": [],
   "source": [
    "df_salah['Manual_Sentiment_Rating'] = ['neutral', 'neutral', 'negative', 'negative', 'neutral',\n",
    "                            'negative', 'negative', 'neutral', 'negative', 'neutral',\n",
    "                            'positive', 'neutral', 'negative', 'neutral', 'negative',\n",
    "                            'negative']\n",
    "df_salah['Manual_Sentiment_Comments'] = ['neutral', 'neutral', 'negative', 'negative', 'neutral',\n",
    "                            'negative', 'negative', 'neutral', 'neutral', 'negative',\n",
    "                            'negative', 'neutral', 'negative', 'negative', 'neutral',\n",
    "                            'negative']"
   ]
  },
  {
   "cell_type": "code",
   "execution_count": 501,
   "id": "455e7211",
   "metadata": {},
   "outputs": [
    {
     "data": {
      "application/vnd.microsoft.datawrangler.viewer.v0+json": {
       "columns": [
        {
         "name": "index",
         "rawType": "int64",
         "type": "integer"
        },
        {
         "name": "Rating",
         "rawType": "float64",
         "type": "float"
        },
        {
         "name": "Category",
         "rawType": "object",
         "type": "string"
        },
        {
         "name": "Comments",
         "rawType": "object",
         "type": "string"
        },
        {
         "name": "Sentiment_Rating",
         "rawType": "object",
         "type": "string"
        },
        {
         "name": "Emotion_Label",
         "rawType": "object",
         "type": "string"
        },
        {
         "name": "Processed_Comments",
         "rawType": "object",
         "type": "string"
        },
        {
         "name": "Sentiment_Comments",
         "rawType": "object",
         "type": "string"
        },
        {
         "name": "Sentiment_Match",
         "rawType": "bool",
         "type": "boolean"
        },
        {
         "name": "Manual_Sentiment_Rating",
         "rawType": "object",
         "type": "string"
        },
        {
         "name": "Manual_Sentiment_Comments",
         "rawType": "object",
         "type": "string"
        }
       ],
       "ref": "7563ebd6-8a52-4d9a-98de-641c5b15f809",
       "rows": [
        [
         "5",
         "3.0",
         "Display",
         "over prised by at least around rs low light photos are bad only one sim support volte good things are best sound good display smooth touch excellent battery life management compact nice photos and videos under good light it never gets over heated while using or charging i dont play games i like miui i have already redmi a rsonly using for more than months working superbly i have good opinion about redmi mobiles",
         "positive",
         "satisfied",
         "prise least around rs low light photo bad one sim support volt good thing best sound good display smooth touch excel batteri life manag compact nice photo video good light never get heat use charg dont play game like miui alreadi redmi rsonli use month work superbl good opinion redmi mobil",
         "positive",
         "False",
         "neutral",
         "neutral"
        ],
        [
         "16",
         "3.0",
         "Others",
         "the product is great with quite good features i am great fan of xiaomi and i have been always using xiaomi phones but i am disappointed with mobile designing of xiaomi as most of all the lower range and mid range phones have same design xiaomi always being giving with so many features but being realme entering in market xiaomi has to be more creative to attract more indian customers",
         "positive",
         "satisfied",
         "product great quit good featur great fan xiaomi alway use xiaomi phone disappoint mobil design xiaomi lower rang mid rang phone design xiaomi alway give mani featur realm enter market xiaomi creativ attract indian custom",
         "positive",
         "False",
         "neutral",
         "neutral"
        ],
        [
         "24",
         "2.0",
         "Others",
         "no dual g if you think new mobile you buy realme",
         "positive",
         "satisfied",
         "dual g think new mobil buy realm",
         "positive",
         "False",
         "negative",
         "negative"
        ],
        [
         "27",
         "2.0",
         "Camera",
         "bad camera quality and heating problem",
         "positive",
         "satisfied",
         "bad camera qualiti heat problem",
         "positive",
         "False",
         "negative",
         "negative"
        ],
        [
         "29",
         "3.0",
         "Battery",
         "awesome sound quality battery life is good gaming is good no lags there very poor camera if you r buying for a camera phone the m this is not the one moto mp camera works better than this",
         "positive",
         "satisfied",
         "awesom sound qualiti batteri life good game good lag poor camera r buy camera phone one moto mp camera work better",
         "positive",
         "False",
         "neutral",
         "neutral"
        ],
        [
         "33",
         "1.0",
         "Battery",
         "please dontt bye camera is good but battery back up not good",
         "positive",
         "satisfied",
         "pleas dontt bye camera good batteri back good",
         "positive",
         "False",
         "negative",
         "negative"
        ],
        [
         "36",
         "1.0",
         "Camera",
         "both camera quality is bedits price is too high and quality are lowest",
         "positive",
         "satisfied",
         "camera qualiti bedit price high qualiti lowest",
         "positive",
         "False",
         "negative",
         "negative"
        ],
        [
         "61",
         "3.0",
         "Others",
         "sound quality is not so good either way the mobile best in its segment",
         "positive",
         "satisfied",
         "sound qualiti good either way mobil best segment",
         "positive",
         "False",
         "neutral",
         "neutral"
        ],
        [
         "63",
         "1.0",
         "Battery",
         "sometimes automatically speaker on and little hanging problem camera battery good",
         "positive",
         "satisfied",
         "sometim automat speaker littl hang problem camera batteri good",
         "positive",
         "False",
         "negative",
         "neutral"
        ],
        [
         "76",
         "3.0",
         "Others",
         "sound qulity not dolby and processor performance not ok",
         "positive",
         "satisfied",
         "sound quliti dolbi processor perform ok",
         "positive",
         "False",
         "neutral",
         "negative"
        ],
        [
         "91",
         "4.0",
         "Others",
         "i didnt get discount buy through hdfc bank",
         "negative",
         "unsatisfied",
         "didnt get discount buy hdfc bank",
         "negative",
         "False",
         "positive",
         "negative"
        ],
        [
         "109",
         "3.0",
         "Others",
         "average",
         "positive",
         "satisfied",
         "averag",
         "positive",
         "False",
         "neutral",
         "neutral"
        ],
        [
         "111",
         "1.0",
         "Others",
         "out of only speaker is working from day",
         "positive",
         "satisfied",
         "speaker work day",
         "positive",
         "False",
         "negative",
         "negative"
        ],
        [
         "115",
         "3.0",
         "Others",
         "poor",
         "positive",
         "satisfied",
         "poor",
         "positive",
         "False",
         "neutral",
         "negative"
        ],
        [
         "212",
         "2.0",
         "Others",
         "overall phone seems to be good with performance perspective under this range category do not buy if you are looking for wider screen and thinner phone i felt y would have been better choice in the same range which i already brought one for the family not satisfied with the looks screen size and it is a fatty phone",
         "positive",
         "satisfied",
         "overal phone seem good perform perspect rang categori buy look wider screen thinner phone felt would better choic rang alreadi brought one famili satisfi look screen size fatti phone",
         "positive",
         "False",
         "negative",
         "neutral"
        ],
        [
         "238",
         "1.0",
         "Battery",
         "charging issue lagging issue hanging issue multiple issue",
         "positive",
         "satisfied",
         "charg issu lag issu hang issu multipl issu",
         "positive",
         "False",
         "negative",
         "negative"
        ]
       ],
       "shape": {
        "columns": 10,
        "rows": 16
       }
      },
      "text/html": [
       "<div>\n",
       "<style scoped>\n",
       "    .dataframe tbody tr th:only-of-type {\n",
       "        vertical-align: middle;\n",
       "    }\n",
       "\n",
       "    .dataframe tbody tr th {\n",
       "        vertical-align: top;\n",
       "    }\n",
       "\n",
       "    .dataframe thead th {\n",
       "        text-align: right;\n",
       "    }\n",
       "</style>\n",
       "<table border=\"1\" class=\"dataframe\">\n",
       "  <thead>\n",
       "    <tr style=\"text-align: right;\">\n",
       "      <th></th>\n",
       "      <th>Rating</th>\n",
       "      <th>Category</th>\n",
       "      <th>Comments</th>\n",
       "      <th>Sentiment_Rating</th>\n",
       "      <th>Emotion_Label</th>\n",
       "      <th>Processed_Comments</th>\n",
       "      <th>Sentiment_Comments</th>\n",
       "      <th>Sentiment_Match</th>\n",
       "      <th>Manual_Sentiment_Rating</th>\n",
       "      <th>Manual_Sentiment_Comments</th>\n",
       "    </tr>\n",
       "  </thead>\n",
       "  <tbody>\n",
       "    <tr>\n",
       "      <th>5</th>\n",
       "      <td>3.0</td>\n",
       "      <td>Display</td>\n",
       "      <td>over prised by at least around rs low light ph...</td>\n",
       "      <td>positive</td>\n",
       "      <td>satisfied</td>\n",
       "      <td>prise least around rs low light photo bad one ...</td>\n",
       "      <td>positive</td>\n",
       "      <td>False</td>\n",
       "      <td>neutral</td>\n",
       "      <td>neutral</td>\n",
       "    </tr>\n",
       "    <tr>\n",
       "      <th>16</th>\n",
       "      <td>3.0</td>\n",
       "      <td>Others</td>\n",
       "      <td>the product is great with quite good features ...</td>\n",
       "      <td>positive</td>\n",
       "      <td>satisfied</td>\n",
       "      <td>product great quit good featur great fan xiaom...</td>\n",
       "      <td>positive</td>\n",
       "      <td>False</td>\n",
       "      <td>neutral</td>\n",
       "      <td>neutral</td>\n",
       "    </tr>\n",
       "    <tr>\n",
       "      <th>24</th>\n",
       "      <td>2.0</td>\n",
       "      <td>Others</td>\n",
       "      <td>no dual g if you think new mobile you buy realme</td>\n",
       "      <td>positive</td>\n",
       "      <td>satisfied</td>\n",
       "      <td>dual g think new mobil buy realm</td>\n",
       "      <td>positive</td>\n",
       "      <td>False</td>\n",
       "      <td>negative</td>\n",
       "      <td>negative</td>\n",
       "    </tr>\n",
       "    <tr>\n",
       "      <th>27</th>\n",
       "      <td>2.0</td>\n",
       "      <td>Camera</td>\n",
       "      <td>bad camera quality and heating problem</td>\n",
       "      <td>positive</td>\n",
       "      <td>satisfied</td>\n",
       "      <td>bad camera qualiti heat problem</td>\n",
       "      <td>positive</td>\n",
       "      <td>False</td>\n",
       "      <td>negative</td>\n",
       "      <td>negative</td>\n",
       "    </tr>\n",
       "    <tr>\n",
       "      <th>29</th>\n",
       "      <td>3.0</td>\n",
       "      <td>Battery</td>\n",
       "      <td>awesome sound quality battery life is good gam...</td>\n",
       "      <td>positive</td>\n",
       "      <td>satisfied</td>\n",
       "      <td>awesom sound qualiti batteri life good game go...</td>\n",
       "      <td>positive</td>\n",
       "      <td>False</td>\n",
       "      <td>neutral</td>\n",
       "      <td>neutral</td>\n",
       "    </tr>\n",
       "    <tr>\n",
       "      <th>33</th>\n",
       "      <td>1.0</td>\n",
       "      <td>Battery</td>\n",
       "      <td>please dontt bye camera is good but battery ba...</td>\n",
       "      <td>positive</td>\n",
       "      <td>satisfied</td>\n",
       "      <td>pleas dontt bye camera good batteri back good</td>\n",
       "      <td>positive</td>\n",
       "      <td>False</td>\n",
       "      <td>negative</td>\n",
       "      <td>negative</td>\n",
       "    </tr>\n",
       "    <tr>\n",
       "      <th>36</th>\n",
       "      <td>1.0</td>\n",
       "      <td>Camera</td>\n",
       "      <td>both camera quality is bedits price is too hig...</td>\n",
       "      <td>positive</td>\n",
       "      <td>satisfied</td>\n",
       "      <td>camera qualiti bedit price high qualiti lowest</td>\n",
       "      <td>positive</td>\n",
       "      <td>False</td>\n",
       "      <td>negative</td>\n",
       "      <td>negative</td>\n",
       "    </tr>\n",
       "    <tr>\n",
       "      <th>61</th>\n",
       "      <td>3.0</td>\n",
       "      <td>Others</td>\n",
       "      <td>sound quality is not so good either way the mo...</td>\n",
       "      <td>positive</td>\n",
       "      <td>satisfied</td>\n",
       "      <td>sound qualiti good either way mobil best segment</td>\n",
       "      <td>positive</td>\n",
       "      <td>False</td>\n",
       "      <td>neutral</td>\n",
       "      <td>neutral</td>\n",
       "    </tr>\n",
       "    <tr>\n",
       "      <th>63</th>\n",
       "      <td>1.0</td>\n",
       "      <td>Battery</td>\n",
       "      <td>sometimes automatically speaker on and little ...</td>\n",
       "      <td>positive</td>\n",
       "      <td>satisfied</td>\n",
       "      <td>sometim automat speaker littl hang problem cam...</td>\n",
       "      <td>positive</td>\n",
       "      <td>False</td>\n",
       "      <td>negative</td>\n",
       "      <td>neutral</td>\n",
       "    </tr>\n",
       "    <tr>\n",
       "      <th>76</th>\n",
       "      <td>3.0</td>\n",
       "      <td>Others</td>\n",
       "      <td>sound qulity not dolby and processor performan...</td>\n",
       "      <td>positive</td>\n",
       "      <td>satisfied</td>\n",
       "      <td>sound quliti dolbi processor perform ok</td>\n",
       "      <td>positive</td>\n",
       "      <td>False</td>\n",
       "      <td>neutral</td>\n",
       "      <td>negative</td>\n",
       "    </tr>\n",
       "    <tr>\n",
       "      <th>91</th>\n",
       "      <td>4.0</td>\n",
       "      <td>Others</td>\n",
       "      <td>i didnt get discount buy through hdfc bank</td>\n",
       "      <td>negative</td>\n",
       "      <td>unsatisfied</td>\n",
       "      <td>didnt get discount buy hdfc bank</td>\n",
       "      <td>negative</td>\n",
       "      <td>False</td>\n",
       "      <td>positive</td>\n",
       "      <td>negative</td>\n",
       "    </tr>\n",
       "    <tr>\n",
       "      <th>109</th>\n",
       "      <td>3.0</td>\n",
       "      <td>Others</td>\n",
       "      <td>average</td>\n",
       "      <td>positive</td>\n",
       "      <td>satisfied</td>\n",
       "      <td>averag</td>\n",
       "      <td>positive</td>\n",
       "      <td>False</td>\n",
       "      <td>neutral</td>\n",
       "      <td>neutral</td>\n",
       "    </tr>\n",
       "    <tr>\n",
       "      <th>111</th>\n",
       "      <td>1.0</td>\n",
       "      <td>Others</td>\n",
       "      <td>out of only speaker is working from day</td>\n",
       "      <td>positive</td>\n",
       "      <td>satisfied</td>\n",
       "      <td>speaker work day</td>\n",
       "      <td>positive</td>\n",
       "      <td>False</td>\n",
       "      <td>negative</td>\n",
       "      <td>negative</td>\n",
       "    </tr>\n",
       "    <tr>\n",
       "      <th>115</th>\n",
       "      <td>3.0</td>\n",
       "      <td>Others</td>\n",
       "      <td>poor</td>\n",
       "      <td>positive</td>\n",
       "      <td>satisfied</td>\n",
       "      <td>poor</td>\n",
       "      <td>positive</td>\n",
       "      <td>False</td>\n",
       "      <td>neutral</td>\n",
       "      <td>negative</td>\n",
       "    </tr>\n",
       "    <tr>\n",
       "      <th>212</th>\n",
       "      <td>2.0</td>\n",
       "      <td>Others</td>\n",
       "      <td>overall phone seems to be good with performanc...</td>\n",
       "      <td>positive</td>\n",
       "      <td>satisfied</td>\n",
       "      <td>overal phone seem good perform perspect rang c...</td>\n",
       "      <td>positive</td>\n",
       "      <td>False</td>\n",
       "      <td>negative</td>\n",
       "      <td>neutral</td>\n",
       "    </tr>\n",
       "    <tr>\n",
       "      <th>238</th>\n",
       "      <td>1.0</td>\n",
       "      <td>Battery</td>\n",
       "      <td>charging issue lagging issue hanging issue mul...</td>\n",
       "      <td>positive</td>\n",
       "      <td>satisfied</td>\n",
       "      <td>charg issu lag issu hang issu multipl issu</td>\n",
       "      <td>positive</td>\n",
       "      <td>False</td>\n",
       "      <td>negative</td>\n",
       "      <td>negative</td>\n",
       "    </tr>\n",
       "  </tbody>\n",
       "</table>\n",
       "</div>"
      ],
      "text/plain": [
       "     Rating Category                                           Comments  \\\n",
       "5       3.0  Display  over prised by at least around rs low light ph...   \n",
       "16      3.0   Others  the product is great with quite good features ...   \n",
       "24      2.0   Others   no dual g if you think new mobile you buy realme   \n",
       "27      2.0   Camera             bad camera quality and heating problem   \n",
       "29      3.0  Battery  awesome sound quality battery life is good gam...   \n",
       "33      1.0  Battery  please dontt bye camera is good but battery ba...   \n",
       "36      1.0   Camera  both camera quality is bedits price is too hig...   \n",
       "61      3.0   Others  sound quality is not so good either way the mo...   \n",
       "63      1.0  Battery  sometimes automatically speaker on and little ...   \n",
       "76      3.0   Others  sound qulity not dolby and processor performan...   \n",
       "91      4.0   Others         i didnt get discount buy through hdfc bank   \n",
       "109     3.0   Others                                            average   \n",
       "111     1.0   Others            out of only speaker is working from day   \n",
       "115     3.0   Others                                               poor   \n",
       "212     2.0   Others  overall phone seems to be good with performanc...   \n",
       "238     1.0  Battery  charging issue lagging issue hanging issue mul...   \n",
       "\n",
       "    Sentiment_Rating Emotion_Label  \\\n",
       "5           positive     satisfied   \n",
       "16          positive     satisfied   \n",
       "24          positive     satisfied   \n",
       "27          positive     satisfied   \n",
       "29          positive     satisfied   \n",
       "33          positive     satisfied   \n",
       "36          positive     satisfied   \n",
       "61          positive     satisfied   \n",
       "63          positive     satisfied   \n",
       "76          positive     satisfied   \n",
       "91          negative   unsatisfied   \n",
       "109         positive     satisfied   \n",
       "111         positive     satisfied   \n",
       "115         positive     satisfied   \n",
       "212         positive     satisfied   \n",
       "238         positive     satisfied   \n",
       "\n",
       "                                    Processed_Comments Sentiment_Comments  \\\n",
       "5    prise least around rs low light photo bad one ...           positive   \n",
       "16   product great quit good featur great fan xiaom...           positive   \n",
       "24                    dual g think new mobil buy realm           positive   \n",
       "27                     bad camera qualiti heat problem           positive   \n",
       "29   awesom sound qualiti batteri life good game go...           positive   \n",
       "33       pleas dontt bye camera good batteri back good           positive   \n",
       "36      camera qualiti bedit price high qualiti lowest           positive   \n",
       "61    sound qualiti good either way mobil best segment           positive   \n",
       "63   sometim automat speaker littl hang problem cam...           positive   \n",
       "76             sound quliti dolbi processor perform ok           positive   \n",
       "91                    didnt get discount buy hdfc bank           negative   \n",
       "109                                             averag           positive   \n",
       "111                                   speaker work day           positive   \n",
       "115                                               poor           positive   \n",
       "212  overal phone seem good perform perspect rang c...           positive   \n",
       "238         charg issu lag issu hang issu multipl issu           positive   \n",
       "\n",
       "     Sentiment_Match Manual_Sentiment_Rating Manual_Sentiment_Comments  \n",
       "5              False                 neutral                   neutral  \n",
       "16             False                 neutral                   neutral  \n",
       "24             False                negative                  negative  \n",
       "27             False                negative                  negative  \n",
       "29             False                 neutral                   neutral  \n",
       "33             False                negative                  negative  \n",
       "36             False                negative                  negative  \n",
       "61             False                 neutral                   neutral  \n",
       "63             False                negative                   neutral  \n",
       "76             False                 neutral                  negative  \n",
       "91             False                positive                  negative  \n",
       "109            False                 neutral                   neutral  \n",
       "111            False                negative                  negative  \n",
       "115            False                 neutral                  negative  \n",
       "212            False                negative                   neutral  \n",
       "238            False                negative                  negative  "
      ]
     },
     "execution_count": 501,
     "metadata": {},
     "output_type": "execute_result"
    }
   ],
   "source": [
    "df_salah"
   ]
  },
  {
   "cell_type": "code",
   "execution_count": 502,
   "id": "aa3d93a0",
   "metadata": {},
   "outputs": [
    {
     "name": "stdout",
     "output_type": "stream",
     "text": [
      "the screen is good BUT_TURN the battery is NEG_POOR and NEG_SLOW\n"
     ]
    }
   ],
   "source": [
    "import re\n",
    "\n",
    "# 1. List kata negatif\n",
    "neg_words = [\n",
    "    \"poor\", \"bad\", \"dont\", \"didnt\", \"disappointed\",\n",
    "    \"lag\", \"not\", \"worst\", \"low\", \"waste\", \"broken\",\n",
    "    \"slow\", \"issue\", \"problem\", \"no\", \"never\"\n",
    "]\n",
    "\n",
    "# 2. Fungsi preprocessing\n",
    "def full_preprocess(text):\n",
    "    text = text.lower()\n",
    "\n",
    "    # Tagging kata negatif\n",
    "    for word in neg_words:\n",
    "        text = re.sub(rf\"\\b{word}\\b\", f\"NEG_{word.upper()}\", text)\n",
    "\n",
    "    # Tagging transisi opini\n",
    "    text = re.sub(r'\\bbut\\b', 'BUT_TURN', text)\n",
    "\n",
    "    return text\n",
    "\n",
    "# 3. Contoh pakai\n",
    "example = \"The screen is good but the battery is poor and slow\"\n",
    "print(full_preprocess(example))\n"
   ]
  },
  {
   "cell_type": "code",
   "execution_count": 503,
   "id": "29e3c6d4",
   "metadata": {},
   "outputs": [],
   "source": [
    "df_train['Processed_Comments'] = df_train['Comments'].astype(str).apply(full_preprocess)\n",
    "df_salah['Processed_Comments'] = df_salah['Comments'].astype(str).apply(full_preprocess)"
   ]
  },
  {
   "cell_type": "code",
   "execution_count": 504,
   "id": "f91993f1",
   "metadata": {},
   "outputs": [],
   "source": [
    "from sklearn.model_selection import train_test_split\n",
    "\n",
    "X = df_train['Processed_Comments']\n",
    "y = df_train['Sentiment_Comments'] \n",
    "\n",
    "# Stratify agar pembagian label seimbang\n",
    "X_train, X_test, y_train, y_test = train_test_split(\n",
    "    X, y, test_size=0.2, stratify=y, random_state=42\n",
    ")\n"
   ]
  },
  {
   "cell_type": "code",
   "execution_count": 505,
   "id": "b5f6cb2d",
   "metadata": {},
   "outputs": [],
   "source": [
    "from sklearn.feature_extraction.text import TfidfVectorizer\n",
    "\n",
    "tfidf = TfidfVectorizer()\n",
    "X_train_vec = tfidf.fit_transform(X_train)\n",
    "X_test_vec = tfidf.transform(X_test)\n"
   ]
  },
  {
   "cell_type": "code",
   "execution_count": 506,
   "id": "ee84d5ea",
   "metadata": {},
   "outputs": [
    {
     "data": {
      "text/html": [
       "<style>#sk-container-id-20 {color: black;background-color: white;}#sk-container-id-20 pre{padding: 0;}#sk-container-id-20 div.sk-toggleable {background-color: white;}#sk-container-id-20 label.sk-toggleable__label {cursor: pointer;display: block;width: 100%;margin-bottom: 0;padding: 0.3em;box-sizing: border-box;text-align: center;}#sk-container-id-20 label.sk-toggleable__label-arrow:before {content: \"▸\";float: left;margin-right: 0.25em;color: #696969;}#sk-container-id-20 label.sk-toggleable__label-arrow:hover:before {color: black;}#sk-container-id-20 div.sk-estimator:hover label.sk-toggleable__label-arrow:before {color: black;}#sk-container-id-20 div.sk-toggleable__content {max-height: 0;max-width: 0;overflow: hidden;text-align: left;background-color: #f0f8ff;}#sk-container-id-20 div.sk-toggleable__content pre {margin: 0.2em;color: black;border-radius: 0.25em;background-color: #f0f8ff;}#sk-container-id-20 input.sk-toggleable__control:checked~div.sk-toggleable__content {max-height: 200px;max-width: 100%;overflow: auto;}#sk-container-id-20 input.sk-toggleable__control:checked~label.sk-toggleable__label-arrow:before {content: \"▾\";}#sk-container-id-20 div.sk-estimator input.sk-toggleable__control:checked~label.sk-toggleable__label {background-color: #d4ebff;}#sk-container-id-20 div.sk-label input.sk-toggleable__control:checked~label.sk-toggleable__label {background-color: #d4ebff;}#sk-container-id-20 input.sk-hidden--visually {border: 0;clip: rect(1px 1px 1px 1px);clip: rect(1px, 1px, 1px, 1px);height: 1px;margin: -1px;overflow: hidden;padding: 0;position: absolute;width: 1px;}#sk-container-id-20 div.sk-estimator {font-family: monospace;background-color: #f0f8ff;border: 1px dotted black;border-radius: 0.25em;box-sizing: border-box;margin-bottom: 0.5em;}#sk-container-id-20 div.sk-estimator:hover {background-color: #d4ebff;}#sk-container-id-20 div.sk-parallel-item::after {content: \"\";width: 100%;border-bottom: 1px solid gray;flex-grow: 1;}#sk-container-id-20 div.sk-label:hover label.sk-toggleable__label {background-color: #d4ebff;}#sk-container-id-20 div.sk-serial::before {content: \"\";position: absolute;border-left: 1px solid gray;box-sizing: border-box;top: 0;bottom: 0;left: 50%;z-index: 0;}#sk-container-id-20 div.sk-serial {display: flex;flex-direction: column;align-items: center;background-color: white;padding-right: 0.2em;padding-left: 0.2em;position: relative;}#sk-container-id-20 div.sk-item {position: relative;z-index: 1;}#sk-container-id-20 div.sk-parallel {display: flex;align-items: stretch;justify-content: center;background-color: white;position: relative;}#sk-container-id-20 div.sk-item::before, #sk-container-id-20 div.sk-parallel-item::before {content: \"\";position: absolute;border-left: 1px solid gray;box-sizing: border-box;top: 0;bottom: 0;left: 50%;z-index: -1;}#sk-container-id-20 div.sk-parallel-item {display: flex;flex-direction: column;z-index: 1;position: relative;background-color: white;}#sk-container-id-20 div.sk-parallel-item:first-child::after {align-self: flex-end;width: 50%;}#sk-container-id-20 div.sk-parallel-item:last-child::after {align-self: flex-start;width: 50%;}#sk-container-id-20 div.sk-parallel-item:only-child::after {width: 0;}#sk-container-id-20 div.sk-dashed-wrapped {border: 1px dashed gray;margin: 0 0.4em 0.5em 0.4em;box-sizing: border-box;padding-bottom: 0.4em;background-color: white;}#sk-container-id-20 div.sk-label label {font-family: monospace;font-weight: bold;display: inline-block;line-height: 1.2em;}#sk-container-id-20 div.sk-label-container {text-align: center;}#sk-container-id-20 div.sk-container {/* jupyter's `normalize.less` sets `[hidden] { display: none; }` but bootstrap.min.css set `[hidden] { display: none !important; }` so we also need the `!important` here to be able to override the default hidden behavior on the sphinx rendered scikit-learn.org. See: https://github.com/scikit-learn/scikit-learn/issues/21755 */display: inline-block !important;position: relative;}#sk-container-id-20 div.sk-text-repr-fallback {display: none;}</style><div id=\"sk-container-id-20\" class=\"sk-top-container\"><div class=\"sk-text-repr-fallback\"><pre>LogisticRegression(max_iter=1000)</pre><b>In a Jupyter environment, please rerun this cell to show the HTML representation or trust the notebook. <br />On GitHub, the HTML representation is unable to render, please try loading this page with nbviewer.org.</b></div><div class=\"sk-container\" hidden><div class=\"sk-item\"><div class=\"sk-estimator sk-toggleable\"><input class=\"sk-toggleable__control sk-hidden--visually\" id=\"sk-estimator-id-20\" type=\"checkbox\" checked><label for=\"sk-estimator-id-20\" class=\"sk-toggleable__label sk-toggleable__label-arrow\">LogisticRegression</label><div class=\"sk-toggleable__content\"><pre>LogisticRegression(max_iter=1000)</pre></div></div></div></div></div>"
      ],
      "text/plain": [
       "LogisticRegression(max_iter=1000)"
      ]
     },
     "execution_count": 506,
     "metadata": {},
     "output_type": "execute_result"
    }
   ],
   "source": [
    "from sklearn.linear_model import LogisticRegression\n",
    "\n",
    "model = LogisticRegression(max_iter=1000)\n",
    "model.fit(X_train_vec, y_train)\n"
   ]
  },
  {
   "cell_type": "code",
   "execution_count": 507,
   "id": "9891d2b1",
   "metadata": {},
   "outputs": [
    {
     "name": "stdout",
     "output_type": "stream",
     "text": [
      "              precision    recall  f1-score   support\n",
      "\n",
      "    negative       0.00      0.00      0.00         6\n",
      "     neutral       0.00      0.00      0.00         2\n",
      "    positive       0.83      1.00      0.90        38\n",
      "\n",
      "    accuracy                           0.83        46\n",
      "   macro avg       0.28      0.33      0.30        46\n",
      "weighted avg       0.68      0.83      0.75        46\n",
      "\n"
     ]
    },
    {
     "name": "stderr",
     "output_type": "stream",
     "text": [
      "c:\\Users\\71476\\AppData\\Local\\Programs\\Python\\Python311\\Lib\\site-packages\\sklearn\\metrics\\_classification.py:1344: UndefinedMetricWarning: Precision and F-score are ill-defined and being set to 0.0 in labels with no predicted samples. Use `zero_division` parameter to control this behavior.\n",
      "  _warn_prf(average, modifier, msg_start, len(result))\n",
      "c:\\Users\\71476\\AppData\\Local\\Programs\\Python\\Python311\\Lib\\site-packages\\sklearn\\metrics\\_classification.py:1344: UndefinedMetricWarning: Precision and F-score are ill-defined and being set to 0.0 in labels with no predicted samples. Use `zero_division` parameter to control this behavior.\n",
      "  _warn_prf(average, modifier, msg_start, len(result))\n",
      "c:\\Users\\71476\\AppData\\Local\\Programs\\Python\\Python311\\Lib\\site-packages\\sklearn\\metrics\\_classification.py:1344: UndefinedMetricWarning: Precision and F-score are ill-defined and being set to 0.0 in labels with no predicted samples. Use `zero_division` parameter to control this behavior.\n",
      "  _warn_prf(average, modifier, msg_start, len(result))\n"
     ]
    }
   ],
   "source": [
    "from sklearn.metrics import classification_report\n",
    "\n",
    "y_pred = model.predict(X_test_vec)\n",
    "print(classification_report(y_test, y_pred))\n"
   ]
  },
  {
   "cell_type": "code",
   "execution_count": 508,
   "id": "cfc8275b",
   "metadata": {},
   "outputs": [],
   "source": [
    "X_salah = tfidf.transform(df_salah['Processed_Comments'])\n",
    "df_salah['Predicted_Sentiment_Comments'] = model.predict(X_salah)\n"
   ]
  },
  {
   "cell_type": "code",
   "execution_count": 509,
   "id": "d280e439",
   "metadata": {},
   "outputs": [],
   "source": [
    "df_salah['Komentar_vs_Rating'] = df_salah['Predicted_Sentiment_Comments'] == df_salah['Manual_Sentiment_Rating']\n"
   ]
  },
  {
   "cell_type": "code",
   "execution_count": 510,
   "id": "f0413fa3",
   "metadata": {},
   "outputs": [],
   "source": [
    "df_final.loc[df_salah.index, 'Manual_Sentiment_Comments'] = df_salah['Predicted_Sentiment_Comments']\n",
    "df_final.loc[df_salah.index, 'Sentiment_Match'] = df_salah['Komentar_vs_Rating']"
   ]
  },
  {
   "cell_type": "code",
   "execution_count": 511,
   "id": "02863cca",
   "metadata": {},
   "outputs": [],
   "source": [
    "df_final['Sentiment_Rating'] = df_final['Sentiment_Rating'].str.strip().str.lower()\n",
    "df_final['Sentiment_Comments'] = df_final['Sentiment_Comments'].str.strip().str.lower()\n",
    "\n",
    "df_final['Sentiment_Match'] = df_final['Sentiment_Rating'] == df_final['Sentiment_Comments']\n"
   ]
  },
  {
   "cell_type": "code",
   "execution_count": 512,
   "id": "9c176ba4",
   "metadata": {},
   "outputs": [
    {
     "name": "stdout",
     "output_type": "stream",
     "text": [
      "Perbandingan hasil sentiment:\n",
      "Sentiment_Match\n",
      "True     243\n",
      "False      2\n",
      "Name: count, dtype: int64\n"
     ]
    }
   ],
   "source": [
    "# Buat kolom apakah hasilnya sama atau beda\n",
    "df_final['Sentiment_Match'] = df_final['Sentiment_Rating'] == df_final['Sentiment_Comments']\n",
    "\n",
    "# Buat dataset baru jika mismatch\n",
    "mismatch_df_fix = df_final[df_final['Sentiment_Match'] == False]\n",
    "\n",
    "# Lihat jumlah perbandingan\n",
    "comparison_counts_fix = df_final['Sentiment_Match'].value_counts()\n",
    "print(\"Perbandingan hasil sentiment:\")\n",
    "print(comparison_counts_fix)"
   ]
  },
  {
   "cell_type": "code",
   "execution_count": 513,
   "id": "4d3ef92b",
   "metadata": {},
   "outputs": [
    {
     "data": {
      "application/vnd.microsoft.datawrangler.viewer.v0+json": {
       "columns": [
        {
         "name": "index",
         "rawType": "int64",
         "type": "integer"
        },
        {
         "name": "Rating",
         "rawType": "float64",
         "type": "float"
        },
        {
         "name": "Category",
         "rawType": "object",
         "type": "string"
        },
        {
         "name": "Comments",
         "rawType": "object",
         "type": "string"
        },
        {
         "name": "Sentiment_Rating",
         "rawType": "object",
         "type": "string"
        },
        {
         "name": "Emotion_Label",
         "rawType": "object",
         "type": "string"
        },
        {
         "name": "Processed_Comments",
         "rawType": "object",
         "type": "string"
        },
        {
         "name": "Sentiment_Comments",
         "rawType": "object",
         "type": "string"
        },
        {
         "name": "Sentiment_Match",
         "rawType": "bool",
         "type": "boolean"
        },
        {
         "name": "Manual_Sentiment_Comments",
         "rawType": "object",
         "type": "unknown"
        }
       ],
       "ref": "8e00d09c-790e-4738-93f4-ce19b3976b1e",
       "rows": [
        [
         "82",
         "1.0",
         "Others",
         "im fan mi but no dual volte waste of money",
         "negative",
         "satisfied",
         "im fan mi dual volt wast money",
         "positive",
         "False",
         null
        ],
        [
         "242",
         "3.0",
         "Battery",
         "redmi note note now proit seems the older the model the better was the performance as i used all models in the line the notch design hides the battery and network speed one has to pull down a bit to see these things note and pro both have a common issue after switching the swipe up to unlock does not work smoothly every time the escape is to switch off the swipe up feature after note in the newer models the length of usb cable has become shorter whichis a problem if you are little away from the plug point how much cost does xiaomi saves by shortening the cable pro came with a smaller ejection tool additional cost saving by cutting gm of metal the front flash if note has been removed in pro these manufacturers seem to be idiots and fooling public by launching new models without any real additional feature or improvement anyway its an ok phone for gbgb for a customer expects a little more and xiaomi disappoints here",
         "negative",
         "satisfied",
         "redmi note note proit seem older model better perform use model line notch design hide batteri network speed one pull bit see thing note pro common issu switch swipe unlock work smoothli everi time escap switch swipe featur note newer model length usb cabl becom shorter whichi problem littl away plug point much cost xiaomi save shorten cabl pro came smaller eject tool addit cost save cut gm metal front flash note remov pro manufactur seem idiot fool public launch new model without real addit featur improv anyway ok phone gbgb custom expect littl xiaomi disappoint",
         "positive",
         "False",
         null
        ]
       ],
       "shape": {
        "columns": 9,
        "rows": 2
       }
      },
      "text/html": [
       "<div>\n",
       "<style scoped>\n",
       "    .dataframe tbody tr th:only-of-type {\n",
       "        vertical-align: middle;\n",
       "    }\n",
       "\n",
       "    .dataframe tbody tr th {\n",
       "        vertical-align: top;\n",
       "    }\n",
       "\n",
       "    .dataframe thead th {\n",
       "        text-align: right;\n",
       "    }\n",
       "</style>\n",
       "<table border=\"1\" class=\"dataframe\">\n",
       "  <thead>\n",
       "    <tr style=\"text-align: right;\">\n",
       "      <th></th>\n",
       "      <th>Rating</th>\n",
       "      <th>Category</th>\n",
       "      <th>Comments</th>\n",
       "      <th>Sentiment_Rating</th>\n",
       "      <th>Emotion_Label</th>\n",
       "      <th>Processed_Comments</th>\n",
       "      <th>Sentiment_Comments</th>\n",
       "      <th>Sentiment_Match</th>\n",
       "      <th>Manual_Sentiment_Comments</th>\n",
       "    </tr>\n",
       "  </thead>\n",
       "  <tbody>\n",
       "    <tr>\n",
       "      <th>82</th>\n",
       "      <td>1.0</td>\n",
       "      <td>Others</td>\n",
       "      <td>im fan mi but no dual volte waste of money</td>\n",
       "      <td>negative</td>\n",
       "      <td>satisfied</td>\n",
       "      <td>im fan mi dual volt wast money</td>\n",
       "      <td>positive</td>\n",
       "      <td>False</td>\n",
       "      <td>NaN</td>\n",
       "    </tr>\n",
       "    <tr>\n",
       "      <th>242</th>\n",
       "      <td>3.0</td>\n",
       "      <td>Battery</td>\n",
       "      <td>redmi note note now proit seems the older the ...</td>\n",
       "      <td>negative</td>\n",
       "      <td>satisfied</td>\n",
       "      <td>redmi note note proit seem older model better ...</td>\n",
       "      <td>positive</td>\n",
       "      <td>False</td>\n",
       "      <td>NaN</td>\n",
       "    </tr>\n",
       "  </tbody>\n",
       "</table>\n",
       "</div>"
      ],
      "text/plain": [
       "     Rating Category                                           Comments  \\\n",
       "82      1.0   Others         im fan mi but no dual volte waste of money   \n",
       "242     3.0  Battery  redmi note note now proit seems the older the ...   \n",
       "\n",
       "    Sentiment_Rating Emotion_Label  \\\n",
       "82          negative     satisfied   \n",
       "242         negative     satisfied   \n",
       "\n",
       "                                    Processed_Comments Sentiment_Comments  \\\n",
       "82                      im fan mi dual volt wast money           positive   \n",
       "242  redmi note note proit seem older model better ...           positive   \n",
       "\n",
       "     Sentiment_Match Manual_Sentiment_Comments  \n",
       "82             False                       NaN  \n",
       "242            False                       NaN  "
      ]
     },
     "execution_count": 513,
     "metadata": {},
     "output_type": "execute_result"
    }
   ],
   "source": [
    "df_final[df_final['Sentiment_Match'] == False]"
   ]
  },
  {
   "cell_type": "markdown",
   "id": "ea949f41",
   "metadata": {},
   "source": [
    "## Manual Labelling"
   ]
  },
  {
   "cell_type": "code",
   "execution_count": 514,
   "id": "86cdccda",
   "metadata": {},
   "outputs": [],
   "source": [
    "df_final.loc[82, ['Sentiment_Rating', 'Sentiment_Comments']] = ['negative', 'negative']\n",
    "df_final.loc[242, ['Sentiment_Rating', 'Sentiment_Comments']] = ['neutral', 'neutral']\n"
   ]
  },
  {
   "cell_type": "code",
   "execution_count": 515,
   "id": "37be83b3",
   "metadata": {},
   "outputs": [],
   "source": [
    "df_final['Sentiment_Match'] = df_final['Sentiment_Rating'] == df_final['Sentiment_Comments']"
   ]
  },
  {
   "cell_type": "code",
   "execution_count": 516,
   "id": "298d5419",
   "metadata": {},
   "outputs": [
    {
     "name": "stdout",
     "output_type": "stream",
     "text": [
      "Perbandingan hasil sentiment:\n",
      "Sentiment_Match\n",
      "True    245\n",
      "Name: count, dtype: int64\n"
     ]
    }
   ],
   "source": [
    "# Buat kolom apakah hasilnya sama atau beda\n",
    "df_final['Sentiment_Match'] = df_final['Sentiment_Rating'] == df_final['Sentiment_Comments']\n",
    "\n",
    "# Buat dataset baru jika mismatch\n",
    "mismatch_df_fix = df_final[df_final['Sentiment_Match'] == False]\n",
    "\n",
    "# Lihat jumlah perbandingan\n",
    "comparison_counts_fix = df_final['Sentiment_Match'].value_counts()\n",
    "print(\"Perbandingan hasil sentiment:\")\n",
    "print(comparison_counts_fix)"
   ]
  },
  {
   "cell_type": "code",
   "execution_count": 517,
   "id": "7be847b9",
   "metadata": {},
   "outputs": [],
   "source": [
    "df_final['final_sentiment'] = df_final['Sentiment_Rating']"
   ]
  },
  {
   "cell_type": "code",
   "execution_count": 518,
   "id": "bf79f2cb",
   "metadata": {},
   "outputs": [],
   "source": [
    "df_final = df_final[['Category', 'Comments', 'Rating', 'final_sentiment']]"
   ]
  },
  {
   "cell_type": "code",
   "execution_count": 519,
   "id": "2ad41164",
   "metadata": {},
   "outputs": [
    {
     "data": {
      "application/vnd.microsoft.datawrangler.viewer.v0+json": {
       "columns": [
        {
         "name": "index",
         "rawType": "int64",
         "type": "integer"
        },
        {
         "name": "Category",
         "rawType": "object",
         "type": "string"
        },
        {
         "name": "Comments",
         "rawType": "object",
         "type": "string"
        },
        {
         "name": "Rating",
         "rawType": "float64",
         "type": "float"
        },
        {
         "name": "final_sentiment",
         "rawType": "object",
         "type": "string"
        }
       ],
       "ref": "597c7244-6fdc-407f-9a20-c587a18a8a94",
       "rows": [
        [
         "0",
         "Display",
         "another midrange killer smartphone by xiaomi major highlights the redmi pro sports a inch fullhd display with a notch powered by the qualcomm snapdragon soc the phone is priced at rs for the gb ram variant start point battery of mah and its durability the tripple slots dual ai camera well in redmi series you will get different smartphones with different specs and from all of them redmi pro is most powerful and advanced as said by redmi india in their launch event xiaomi redmi pro design being the most premium phone of the new redmi family the redmi pro has been given somewhat better materials in the form of a metal backplate however the overall design isnt too different from what weve already seen from xiaomi at around this price point this is a fairly thick phone and its a bit hefty too but its manageable the buttons have good feedback without being noisy and on the left side you get a single tray which can hold two sim cards and a separate microsd card something worth noting is that the redmi pro does not support dual g volte which means that only one sim can connect to a g network at a time the placement of ports is good the mono speaker is on the bottom right so chances of blocking it when using the phone in landscape mode are slim the headphone socket is placed on the top and you also get an infrared ir emitter which can be used to control ir appliances through the mi remote app xiaomi redmi pro specifications and software the phone uses qualcomms snapdragon soc which is a couple of years old now but is still a capable chip for general tasks gaming performance isnt great as some popular games like pubg and asphalt default to the lowest graphics settings and even then gameplay isnt smooth our unit was running on a prerelease version of its miui software which prevented us from running most benchmarks storage options well i am impressed with the xiaomi as they provided triple slot in sim tray for nano sim one for sd card heating issues well i do not find any heating issues in this phone while playing games like pubg and asphalt camera in redmi pro the rear megapixel camera has a f aperture with pdaf autofocus was decently quick in good light theres autohdr which did a good job of balancing the exposure in our experience we observed good detail in landscape shots in daylight and colours were pleasing too the main sensor stumbled a bit with macros as it simply wasnt able to resolve finer detail the white balance was a bit of a hit or a miss in closeups and we often found ourselves having to taptofocus to get the white balance back on track saving hdr images takes a good couple of seconds in daylight i would be very happy if they have provided the flash in portrait mode still you can tap on torch icon to switch on the torch you will get the flash in portrait mode battery in redmi pro battery life is one of the strong suits of the redmi pro the mah battery easily lasted us a full day and a bit more on one charge playing heavy games didnt drain the battery too much either in a single round of pubg around minutes in which we survived till the very end we recorded a drop of around seven percent which is not bad in our internal video loop test we got a runtime of hours and minutes which is very good the redmi pro doesnt support fast charging but the bundled w adapter gave us roughly a percent charge in an hour and it took us roughly hours and minutes to charge it completely from zero well before buying this phone i have heard many issues regarding inbuilt advertisement in xiaomi devices and i checked that too in my previous xiaomi phone which i am using since years and actually i found inbuilt ads in those phones you will see ads in inbuilt developers apps like mi apps mi music mi videos security file manager themes sometimes you will see fullscreen ads which are really irritating for mi fans but there is a cooler way to stop those ads those who wanted to know contact me final verdict well for the people who want a notch display big battery and descent camera you they can buy this phone blindly suggestion for xiaomi india you should stop those inbuilt ads present in your devices because we customers dont find those ads valuable because we are not surfing any website where many ads are present so please stop it note pics included in this review are captured by redmi note",
         "4.0",
         "positive"
        ],
        [
         "1",
         "Others",
         "all ok but vry small size mobile",
         "3.0",
         "neutral"
        ],
        [
         "2",
         "Others",
         "quite good",
         "3.0",
         "positive"
        ],
        [
         "3",
         "Display",
         "redmi has always have been the the king of budget segmentand yet another they gave us the redmi proits a beautifully designedstrong and durableand the camera is awesome just like the note prodisplay is crisp and the notch is in good shape means it does take whole screensound quality is clear and loudbut the headset experience is awesomethe battery is mah which is crazily optimizedin heavy useage it will give day and a half in normal useage it give daysand best thing is the inbuild mi sercurity which loaded with featuresyou dont need third security appsand the phone do charge little faster on its stock adapteratleast hrs and minsas its a qualcomm chipset verdict the base model is actually the value for money deal gb i have been using the redmi pro for weeks now this is totally tested",
         "5.0",
         "positive"
        ],
        [
         "4",
         "Others",
         "worst product from mi i am a hardcore fan of mi but this one really disappointing",
         "2.0",
         "negative"
        ],
        [
         "5",
         "Display",
         "over prised by at least around rs low light photos are bad only one sim support volte good things are best sound good display smooth touch excellent battery life management compact nice photos and videos under good light it never gets over heated while using or charging i dont play games i like miui i have already redmi a rsonly using for more than months working superbly i have good opinion about redmi mobiles",
         "3.0",
         "positive"
        ],
        [
         "6",
         "Display",
         "pros notch display dual camera face unlock mah battery cons some of the apps donot work in full screen mode no front flash great product to purchase finally and its value for moneyi got this phone for and thanks to xiaomi",
         "4.0",
         "positive"
        ],
        [
         "7",
         "Camera",
         "front camera is poor rest things are good",
         "4.0",
         "positive"
        ],
        [
         "8",
         "Others",
         "wooo",
         "5.0",
         "positive"
        ],
        [
         "9",
         "Others",
         "realme is sub brand of oppo he give money to all techi youtubers including big ones and tell him to promote more realme but mi pro is much better than real me dont worry mi have given value for money as always",
         "5.0",
         "positive"
        ],
        [
         "10",
         "Others",
         "awesome product at this range",
         "5.0",
         "positive"
        ],
        [
         "11",
         "Camera",
         "very nice looks smooth operation camera could have been better",
         "4.0",
         "positive"
        ],
        [
         "12",
         "Others",
         "like every things but fullscreen video playing option is not available in default player",
         "4.0",
         "positive"
        ],
        [
         "13",
         "Others",
         "please dont buy these product i have mobile of mi but i did not face these type of issue mobile data getting on and off automatically same things are happening with wifi hotspot and bluetooth the handset behaving like cheap quality i think its duplicate or copy of original handset",
         "1.0",
         "negative"
        ],
        [
         "14",
         "Battery",
         "thanks alot amazonecom sellerperfect product no compromise in quality good battery backupsmooth working no hanging problemno heating issueaccording to note dual camera working properlyproduct packing is perfect again thanks alot amazon sellerecom mi",
         "5.0",
         "positive"
        ],
        [
         "15",
         "Display",
         "no company can provide u these features pros awesome display great video stablisation great battery great performance looks beatifull cons okk front camera not very bad considering price",
         "5.0",
         "positive"
        ],
        [
         "16",
         "Others",
         "the product is great with quite good features i am great fan of xiaomi and i have been always using xiaomi phones but i am disappointed with mobile designing of xiaomi as most of all the lower range and mid range phones have same design xiaomi always being giving with so many features but being realme entering in market xiaomi has to be more creative to attract more indian customers",
         "3.0",
         "positive"
        ],
        [
         "17",
         "Camera",
         "camera clarity is not good and average mobile i purchased first time mi mobile but not good compare to expect",
         "3.0",
         "neutral"
        ],
        [
         "18",
         "Display",
         "superb job by xiaomi handy phone not huge size not slippery better battery display processing speed overall its the best phone",
         "5.0",
         "positive"
        ],
        [
         "19",
         "Display",
         "good phone at such a valuable price notch display value for money",
         "5.0",
         "positive"
        ],
        [
         "20",
         "Others",
         "good phone",
         "5.0",
         "positive"
        ],
        [
         "21",
         "Others",
         "great product fully met my expectations",
         "5.0",
         "positive"
        ],
        [
         "22",
         "Others",
         "good",
         "4.0",
         "positive"
        ],
        [
         "23",
         "Others",
         "do not buy",
         "1.0",
         "negative"
        ],
        [
         "24",
         "Others",
         "no dual g if you think new mobile you buy realme",
         "2.0",
         "positive"
        ],
        [
         "25",
         "Others",
         "very good phone of this budgetred colour very beautiful",
         "5.0",
         "positive"
        ],
        [
         "26",
         "Delivery",
         "nice product delivery guy also",
         "4.0",
         "positive"
        ],
        [
         "27",
         "Camera",
         "bad camera quality and heating problem",
         "2.0",
         "positive"
        ],
        [
         "28",
         "Battery",
         "good phone in budget good camerabattery and performance for normal use call sound is very good",
         "4.0",
         "positive"
        ],
        [
         "29",
         "Battery",
         "awesome sound quality battery life is good gaming is good no lags there very poor camera if you r buying for a camera phone the m this is not the one moto mp camera works better than this",
         "3.0",
         "positive"
        ],
        [
         "30",
         "Battery",
         "nice mobile battery backup is good camera gud one limitation is front camera no slim light weight mobile",
         "4.0",
         "positive"
        ],
        [
         "31",
         "Display",
         "like everything besides display",
         "4.0",
         "positive"
        ],
        [
         "32",
         "Others",
         "a bit pricey compared to the competitors nice and sleek body feels good on hand overall performance is good enough less heat compered to mi redmi devices",
         "3.0",
         "neutral"
        ],
        [
         "33",
         "Battery",
         "please dontt bye camera is good but battery back up not good",
         "1.0",
         "positive"
        ],
        [
         "34",
         "Camera",
         "worth the price no hybrid slim slot very good point front camera is poor only mp and the handset is too heavy in weight handy phone small size full screen",
         "4.0",
         "positive"
        ],
        [
         "35",
         "Others",
         "worst phone from mi and amazon touch was not good and didnot working as expected without touching the screen click is happening and unnecessary apps are opening",
         "1.0",
         "negative"
        ],
        [
         "36",
         "Camera",
         "both camera quality is bedits price is too high and quality are lowest",
         "1.0",
         "positive"
        ],
        [
         "37",
         "Others",
         "i have purchsed this item and two jio sim are not working togeher but in specification it is given that it supports dual g sim what is this please dove my problem",
         "1.0",
         "negative"
        ],
        [
         "38",
         "Display",
         "this product is very nice and battery life and notch display is very awesome",
         "5.0",
         "positive"
        ],
        [
         "39",
         "Battery",
         "its very fantastic awesome mobile and nice sound quality awesome camera nice battery life awesome look but i think its small size",
         "5.0",
         "positive"
        ],
        [
         "40",
         "Display",
         "battery life is awesome including display is too good fast charging makes it extremely well good value for money",
         "5.0",
         "positive"
        ],
        [
         "41",
         "Others",
         "good phone but not value for money prefer redmi note over this but was not in stock since last months",
         "3.0",
         "neutral"
        ],
        [
         "42",
         "Battery",
         "works pretty good for a budget phone battery life is amazing but camera is a let down finger print is very fast",
         "4.0",
         "positive"
        ],
        [
         "43",
         "Delivery",
         "charger not received in the box",
         "5.0",
         "positive"
        ],
        [
         "44",
         "Others",
         "width is little less still good phone face unlock and finger print unlocks are awasome",
         "5.0",
         "positive"
        ],
        [
         "45",
         "Others",
         "nice",
         "5.0",
         "positive"
        ],
        [
         "46",
         "Others",
         "redmi is always good for me and redmi pro performance is very good and good bettry backup",
         "5.0",
         "positive"
        ],
        [
         "47",
         "Others",
         "midrange phone with a notchand brand like mi aur kya chahiye",
         "5.0",
         "positive"
        ],
        [
         "48",
         "Others",
         "disapointing",
         "1.0",
         "negative"
        ],
        [
         "49",
         "Others",
         "worst phone",
         "1.0",
         "negative"
        ]
       ],
       "shape": {
        "columns": 4,
        "rows": 245
       }
      },
      "text/html": [
       "<div>\n",
       "<style scoped>\n",
       "    .dataframe tbody tr th:only-of-type {\n",
       "        vertical-align: middle;\n",
       "    }\n",
       "\n",
       "    .dataframe tbody tr th {\n",
       "        vertical-align: top;\n",
       "    }\n",
       "\n",
       "    .dataframe thead th {\n",
       "        text-align: right;\n",
       "    }\n",
       "</style>\n",
       "<table border=\"1\" class=\"dataframe\">\n",
       "  <thead>\n",
       "    <tr style=\"text-align: right;\">\n",
       "      <th></th>\n",
       "      <th>Category</th>\n",
       "      <th>Comments</th>\n",
       "      <th>Rating</th>\n",
       "      <th>final_sentiment</th>\n",
       "    </tr>\n",
       "  </thead>\n",
       "  <tbody>\n",
       "    <tr>\n",
       "      <th>0</th>\n",
       "      <td>Display</td>\n",
       "      <td>another midrange killer smartphone by xiaomi m...</td>\n",
       "      <td>4.0</td>\n",
       "      <td>positive</td>\n",
       "    </tr>\n",
       "    <tr>\n",
       "      <th>1</th>\n",
       "      <td>Others</td>\n",
       "      <td>all ok but vry small size mobile</td>\n",
       "      <td>3.0</td>\n",
       "      <td>neutral</td>\n",
       "    </tr>\n",
       "    <tr>\n",
       "      <th>2</th>\n",
       "      <td>Others</td>\n",
       "      <td>quite good</td>\n",
       "      <td>3.0</td>\n",
       "      <td>positive</td>\n",
       "    </tr>\n",
       "    <tr>\n",
       "      <th>3</th>\n",
       "      <td>Display</td>\n",
       "      <td>redmi has always have been the the king of bud...</td>\n",
       "      <td>5.0</td>\n",
       "      <td>positive</td>\n",
       "    </tr>\n",
       "    <tr>\n",
       "      <th>4</th>\n",
       "      <td>Others</td>\n",
       "      <td>worst product from mi i am a hardcore fan of m...</td>\n",
       "      <td>2.0</td>\n",
       "      <td>negative</td>\n",
       "    </tr>\n",
       "    <tr>\n",
       "      <th>...</th>\n",
       "      <td>...</td>\n",
       "      <td>...</td>\n",
       "      <td>...</td>\n",
       "      <td>...</td>\n",
       "    </tr>\n",
       "    <tr>\n",
       "      <th>240</th>\n",
       "      <td>Others</td>\n",
       "      <td>i like this phone awesome look and design im u...</td>\n",
       "      <td>5.0</td>\n",
       "      <td>positive</td>\n",
       "    </tr>\n",
       "    <tr>\n",
       "      <th>241</th>\n",
       "      <td>Others</td>\n",
       "      <td>product is avasome but invoice is note include</td>\n",
       "      <td>4.0</td>\n",
       "      <td>positive</td>\n",
       "    </tr>\n",
       "    <tr>\n",
       "      <th>242</th>\n",
       "      <td>Battery</td>\n",
       "      <td>redmi note note now proit seems the older the ...</td>\n",
       "      <td>3.0</td>\n",
       "      <td>neutral</td>\n",
       "    </tr>\n",
       "    <tr>\n",
       "      <th>243</th>\n",
       "      <td>Others</td>\n",
       "      <td>i love mi</td>\n",
       "      <td>5.0</td>\n",
       "      <td>positive</td>\n",
       "    </tr>\n",
       "    <tr>\n",
       "      <th>244</th>\n",
       "      <td>Camera</td>\n",
       "      <td>same old configurations with higher price not ...</td>\n",
       "      <td>1.0</td>\n",
       "      <td>negative</td>\n",
       "    </tr>\n",
       "  </tbody>\n",
       "</table>\n",
       "<p>245 rows × 4 columns</p>\n",
       "</div>"
      ],
      "text/plain": [
       "    Category                                           Comments  Rating  \\\n",
       "0    Display  another midrange killer smartphone by xiaomi m...     4.0   \n",
       "1     Others                   all ok but vry small size mobile     3.0   \n",
       "2     Others                                         quite good     3.0   \n",
       "3    Display  redmi has always have been the the king of bud...     5.0   \n",
       "4     Others  worst product from mi i am a hardcore fan of m...     2.0   \n",
       "..       ...                                                ...     ...   \n",
       "240   Others  i like this phone awesome look and design im u...     5.0   \n",
       "241   Others     product is avasome but invoice is note include     4.0   \n",
       "242  Battery  redmi note note now proit seems the older the ...     3.0   \n",
       "243   Others                                          i love mi     5.0   \n",
       "244   Camera  same old configurations with higher price not ...     1.0   \n",
       "\n",
       "    final_sentiment  \n",
       "0          positive  \n",
       "1           neutral  \n",
       "2          positive  \n",
       "3          positive  \n",
       "4          negative  \n",
       "..              ...  \n",
       "240        positive  \n",
       "241        positive  \n",
       "242         neutral  \n",
       "243        positive  \n",
       "244        negative  \n",
       "\n",
       "[245 rows x 4 columns]"
      ]
     },
     "execution_count": 519,
     "metadata": {},
     "output_type": "execute_result"
    }
   ],
   "source": [
    "df_final"
   ]
  },
  {
   "cell_type": "code",
   "execution_count": 520,
   "id": "3c4845ab",
   "metadata": {},
   "outputs": [],
   "source": [
    "df_final.to_csv('clean_redmi.csv', index=False)"
   ]
  },
  {
   "cell_type": "markdown",
   "id": "c49e4f1d",
   "metadata": {},
   "source": [
    "# Analisis Kategori"
   ]
  },
  {
   "cell_type": "code",
   "execution_count": 13,
   "id": "f1c6cf01",
   "metadata": {},
   "outputs": [],
   "source": [
    "import pandas as pd\n",
    "df = pd.read_csv(\"clean_redmi.csv\")"
   ]
  },
  {
   "cell_type": "code",
   "execution_count": 14,
   "id": "a61beec3",
   "metadata": {},
   "outputs": [
    {
     "data": {
      "application/vnd.microsoft.datawrangler.viewer.v0+json": {
       "columns": [
        {
         "name": "Category",
         "rawType": "object",
         "type": "string"
        },
        {
         "name": "count",
         "rawType": "int64",
         "type": "integer"
        }
       ],
       "ref": "024258dd-d2f6-4809-b2de-43f662c81665",
       "rows": [
        [
         "Others",
         "161"
        ],
        [
         "Display",
         "29"
        ],
        [
         "Camera",
         "25"
        ],
        [
         "Battery",
         "24"
        ],
        [
         "Delivery",
         "6"
        ]
       ],
       "shape": {
        "columns": 1,
        "rows": 5
       }
      },
      "text/plain": [
       "Category\n",
       "Others      161\n",
       "Display      29\n",
       "Camera       25\n",
       "Battery      24\n",
       "Delivery      6\n",
       "Name: count, dtype: int64"
      ]
     },
     "execution_count": 14,
     "metadata": {},
     "output_type": "execute_result"
    }
   ],
   "source": [
    "df['Category'].value_counts()"
   ]
  },
  {
   "cell_type": "code",
   "execution_count": 15,
   "id": "ba0d5fc1",
   "metadata": {},
   "outputs": [],
   "source": [
    "df_train_cat = df[df['Category'].isin(['Display', 'Battery', 'Camera', 'Delivery'])].copy()\n",
    "df_pred_cat = df[df['Category'] == 'Others'].copy()\n"
   ]
  },
  {
   "cell_type": "code",
   "execution_count": 17,
   "id": "51bda64d",
   "metadata": {},
   "outputs": [
    {
     "name": "stderr",
     "output_type": "stream",
     "text": [
      "c:\\Users\\71476\\AppData\\Local\\Programs\\Python\\Python311\\Lib\\site-packages\\huggingface_hub\\file_download.py:943: FutureWarning: `resume_download` is deprecated and will be removed in version 1.0.0. Downloads always resume when possible. If you want to force a new download, use `force_download=True`.\n",
      "  warnings.warn(\n"
     ]
    },
    {
     "name": "stdout",
     "output_type": "stream",
     "text": [
      "                                            Comments  \\\n",
      "1                   all ok but vry small size mobile   \n",
      "2                                         quite good   \n",
      "4  worst product from mi i am a hardcore fan of m...   \n",
      "8                                               wooo   \n",
      "9  realme is sub brand of oppo he give money to a...   \n",
      "\n",
      "                   Predicted_Categories  \n",
      "1            [Display, Camera, Battery]  \n",
      "2  [Display, Camera, Battery, Delivery]  \n",
      "4                                    []  \n",
      "8                     [Display, Camera]  \n",
      "9                             [Display]  \n"
     ]
    }
   ],
   "source": [
    "from transformers import pipeline\n",
    "\n",
    "# Inisialisasi zero-shot classifier dari BART\n",
    "classifier = pipeline(\"zero-shot-classification\", model=\"facebook/bart-large-mnli\", framework=\"pt\")\n",
    "\n",
    "# Definisikan label kategori\n",
    "labels = [\"Display\", \"Battery\", \"Camera\", \"Delivery\"]\n",
    "\n",
    "# Prediksi kategori untuk data \"Others\"\n",
    "df_pred_cat['Predicted_Categories'] = df_pred_cat['Comments'].apply(\n",
    "    lambda x: classifier(x, candidate_labels=labels, multi_label=True)['labels']\n",
    ")\n",
    "\n",
    "def get_labels_above_threshold(text, threshold=0.5):\n",
    "    result = classifier(text, candidate_labels=labels, multi_label=True)\n",
    "    return [label for label, score in zip(result['labels'], result['scores']) if score >= threshold]\n",
    "\n",
    "df_pred_cat['Predicted_Categories'] = df_pred_cat['Comments'].apply(lambda x: get_labels_above_threshold(x))\n",
    "\n",
    "\n",
    "# Cek hasil prediksi\n",
    "print(df_pred_cat[['Comments', 'Predicted_Categories']].head())"
   ]
  },
  {
   "cell_type": "code",
   "execution_count": 18,
   "id": "e06ec581",
   "metadata": {},
   "outputs": [],
   "source": [
    "def get_labels_above_threshold(comment, threshold=0.4):\n",
    "    result = classifier(comment, candidate_labels=labels, multi_label=True)\n",
    "    labels_above_threshold = [label for label, score in zip(result['labels'], result['scores']) if score > threshold]\n",
    "    return labels_above_threshold\n",
    "\n",
    "df_pred_cat['Predicted_Categories'] = df_pred_cat['Comments'].apply(get_labels_above_threshold)\n"
   ]
  },
  {
   "cell_type": "code",
   "execution_count": 19,
   "id": "4f6f1198",
   "metadata": {},
   "outputs": [],
   "source": [
    "df_pred_expanded = df_pred_cat.explode('Predicted_Categories')\n",
    "df_pred_expanded = df_pred_expanded.rename(columns={'Predicted_Categories': 'Predicted_Category'})\n"
   ]
  },
  {
   "cell_type": "code",
   "execution_count": 20,
   "id": "1081215a",
   "metadata": {},
   "outputs": [],
   "source": [
    "# Drop 'Others' dulu dari df utama\n",
    "df_cleaned = df[df['Category'] != 'Others'].copy()\n",
    "\n",
    "# Tambahkan data prediksi hasil multi-label\n",
    "df_final = pd.concat([df_cleaned, df_pred_expanded], ignore_index=True)\n",
    "\n",
    "# Pastikan 'Category' diupdate\n",
    "df_final['Category'] = df_final['Predicted_Category']\n"
   ]
  },
  {
   "cell_type": "code",
   "execution_count": 22,
   "id": "a825bb13",
   "metadata": {},
   "outputs": [
    {
     "name": "stdout",
     "output_type": "stream",
     "text": [
      "Category\n",
      "Others      161\n",
      "Display      29\n",
      "Camera       25\n",
      "Battery      24\n",
      "Delivery      6\n",
      "Name: count, dtype: int64\n"
     ]
    }
   ],
   "source": [
    "print(df['Category'].value_counts())"
   ]
  },
  {
   "cell_type": "code",
   "execution_count": 21,
   "id": "219dd10e",
   "metadata": {},
   "outputs": [
    {
     "name": "stdout",
     "output_type": "stream",
     "text": [
      "Category\n",
      "Delivery    116\n",
      "Display     114\n",
      "Camera      108\n",
      "Battery      55\n",
      "Name: count, dtype: int64\n"
     ]
    }
   ],
   "source": [
    "print(df_final['Category'].value_counts())"
   ]
  },
  {
   "cell_type": "markdown",
   "id": "f3a68cd7",
   "metadata": {},
   "source": [
    "## Distribusi Data"
   ]
  },
  {
   "cell_type": "code",
   "execution_count": 24,
   "id": "ee49c10d",
   "metadata": {},
   "outputs": [
    {
     "data": {
      "image/png": "[encoded data removed]",
      "text/plain": [
       "<Figure size 1000x500 with 1 Axes>"
      ]
     },
     "metadata": {},
     "output_type": "display_data"
    }
   ],
   "source": [
    "from wordcloud import WordCloud\n",
    "import matplotlib.pyplot as plt\n",
    "\n",
    "text_display = ' '.join(df_final[df_final['Category'] == 'Delivery']['Comments'])\n",
    "\n",
    "wordcloud = WordCloud(width=800, height=400, background_color='white').generate(text_display)\n",
    "\n",
    "plt.figure(figsize=(10,5))\n",
    "plt.imshow(wordcloud, interpolation='bilinear')\n",
    "plt.axis('off')\n",
    "plt.title(\"Word Cloud untuk Kategori 'Delivery'\")\n",
    "plt.show()\n"
   ]
  },
  {
   "cell_type": "code",
   "execution_count": null,
   "id": "fd080530",
   "metadata": {},
   "outputs": [],
   "source": [
    "from wordcloud import WordCloud\n",
    "import matplotlib.pyplot as plt\n",
    "\n",
    "text_display = ' '.join(df_final[df_final['Category'] == 'Display']['Comments'])\n",
    "\n",
    "wordcloud = WordCloud(width=800, height=400, background_color='white').generate(text_display)\n",
    "\n",
    "plt.figure(figsize=(10,5))\n",
    "plt.imshow(wordcloud, interpolation='bilinear')\n",
    "plt.axis('off')\n",
    "plt.title(\"Word Cloud untuk Kategori 'Display'\")\n",
    "plt.show()\n"
   ]
  },
  {
   "cell_type": "code",
   "execution_count": 25,
   "id": "23c1010e",
   "metadata": {},
   "outputs": [
    {
     "data": {
      "image/png": "[encoded data removed]",
      "text/plain": [
       "<Figure size 1000x500 with 1 Axes>"
      ]
     },
     "metadata": {},
     "output_type": "display_data"
    }
   ],
   "source": [
    "from wordcloud import WordCloud\n",
    "import matplotlib.pyplot as plt\n",
    "\n",
    "text_display = ' '.join(df_final[df_final['Category'] == 'Camera']['Comments'])\n",
    "\n",
    "wordcloud = WordCloud(width=800, height=400, background_color='white').generate(text_display)\n",
    "\n",
    "plt.figure(figsize=(10,5))\n",
    "plt.imshow(wordcloud, interpolation='bilinear')\n",
    "plt.axis('off')\n",
    "plt.title(\"Word Cloud untuk Kategori 'Display'\")\n",
    "plt.show()\n"
   ]
  },
  {
   "cell_type": "code",
   "execution_count": 26,
   "id": "6b8ba08b",
   "metadata": {},
   "outputs": [
    {
     "name": "stdout",
     "output_type": "stream",
     "text": [
      "final_sentiment  negative  neutral  positive\n",
      "Category                                    \n",
      "Battery                 0        1        54\n",
      "Camera                  8        3        97\n",
      "Delivery                5        0       111\n",
      "Display                 5        5       104\n"
     ]
    }
   ],
   "source": [
    "# Buat tabel kategori vs sentimen\n",
    "category_sentiment = pd.crosstab(df_final['Category'], df_final['final_sentiment'])\n",
    "\n",
    "print(category_sentiment)\n"
   ]
  },
  {
   "cell_type": "code",
   "execution_count": 27,
   "id": "74ad573b",
   "metadata": {},
   "outputs": [
    {
     "data": {
      "image/png": "[encoded data removed]",
      "text/plain": [
       "<Figure size 1000x600 with 1 Axes>"
      ]
     },
     "metadata": {},
     "output_type": "display_data"
    }
   ],
   "source": [
    "category_sentiment = category_sentiment[['positive', 'neutral', 'negative']]\n",
    "\n",
    "# Visualisasi stacked bar dengan warna sesuai urutan\n",
    "category_sentiment.plot(\n",
    "    kind='bar',\n",
    "    stacked=True,\n",
    "    figsize=(10, 6),\n",
    "    color=['blue', 'gray', 'red']  \n",
    ")\n",
    "\n",
    "plt.title('Distribusi Sentimen per Kategori')\n",
    "plt.xlabel('Kategori')\n",
    "plt.ylabel('Jumlah Komentar')\n",
    "plt.xticks(rotation=45)\n",
    "plt.legend(title='Sentimen')\n",
    "plt.tight_layout()\n",
    "plt.show()\n"
   ]
  },
  {
   "cell_type": "code",
   "execution_count": 28,
   "id": "a259a104",
   "metadata": {},
   "outputs": [
    {
     "data": {
      "image/png": "[encoded data removed]",
      "text/plain": [
       "<Figure size 800x400 with 1 Axes>"
      ]
     },
     "metadata": {},
     "output_type": "display_data"
    }
   ],
   "source": [
    "# Hitung persentase komentar negatif dari total per kategori\n",
    "category_sentiment['Total'] = category_sentiment.sum(axis=1)\n",
    "category_sentiment['Negatif_%'] = (category_sentiment['negative'] / category_sentiment['Total']) * 100\n",
    "\n",
    "\n",
    "# Plot batang\n",
    "ax = category_sentiment['Negatif_%'].sort_values(ascending=False).plot(\n",
    "    kind='bar', figsize=(8, 4), color='crimson'\n",
    ")\n",
    "\n",
    "# Tambahkan label angka di atas batang\n",
    "for i, val in enumerate(category_sentiment['Negatif_%'].sort_values(ascending=False)):\n",
    "    ax.text(i, val + 0.05, f\"{val:.1f}%\", ha='center', va='bottom', fontsize=10)  # lebih dekat\n",
    "\n",
    "# Judul dan label\n",
    "plt.title('Persentase Komentar Negatif per Kategori')\n",
    "plt.ylabel('% Komentar Negatif')\n",
    "plt.xlabel('Kategori')\n",
    "plt.xticks(rotation=45)\n",
    "plt.tight_layout()\n",
    "plt.show()\n"
   ]
  }
 ],
 "metadata": {
  "kernelspec": {
   "display_name": "Python 3",
   "language": "python",
   "name": "python3"
  },
  "language_info": {
   "codemirror_mode": {
    "name": "ipython",
    "version": 3
   },
   "file_extension": ".py",
   "mimetype": "text/x-python",
   "name": "python",
   "nbconvert_exporter": "python",
   "pygments_lexer": "ipython3",
   "version": "3.11.9"
  }
 },
 "nbformat": 4,
 "nbformat_minor": 5
}
